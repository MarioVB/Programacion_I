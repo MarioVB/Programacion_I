{
 "cells": [
  {
   "cell_type": "markdown",
   "metadata": {},
   "source": [
    "# Leyendo datos desde archivos\n",
    "\n",
    "Para leer datos desde archivos existen distintas funciones en julia que nos facilitarán las cosas.\n",
    "\n",
    "Para abrir un archivo en específico debemos usar `open(File)`, dónde `File` es el nombre del archivo, y asignarle un nombre:"
   ]
  },
  {
   "cell_type": "code",
   "execution_count": 19,
   "metadata": {},
   "outputs": [
    {
     "data": {
      "text/plain": [
       "3.0366889784040633e-152"
      ]
     },
     "execution_count": 19,
     "metadata": {},
     "output_type": "execute_result"
    }
   ],
   "source": [
    "f = open(\"../../Country_Trends.csv\")\n",
    "read(f,String)\n"
   ]
  },
  {
   "cell_type": "markdown",
   "metadata": {},
   "source": [
    "La función \"read(f,String)\" convierte todo el contenido del archivo en una cadena larguísima difícil de leer para una persona. \n",
    "\n",
    "Muchas veces es más intuitivo usar la función `readlines(f)` la cual crea un arreglo y cada línea la guarda en uno de los elementos."
   ]
  },
  {
   "cell_type": "code",
   "execution_count": 42,
   "metadata": {
    "collapsed": true
   },
   "outputs": [
    {
     "data": {
      "text/plain": [
       "57-element Array{String,1}:\n",
       " \"Country Name,Short Name,year,Record,Built-up Land,Carbon,Cropland,Fishing Grounds,Forest Products,Grazing Land,Total,Data Quality Score,isoa2\"                                 \n",
       " \"World,º World,1961,Earths,0.008500975544980471,0.32090927422091237,0.15005432190910348,0.030537847374192732,0.13753181875665313,0.08476816540056233,0.7323033985086098,3A,null\"\n",
       " \"World,º World,1962,Earths,0.008954578988683744,0.3327709890119096,0.1556370743606515,0.031739516253512214,0.1378141979312748,0.08500926597496361,0.7519247224972782,3A,null\"   \n",
       " \"World,º World,1963,Earths,0.00916712420467374,0.3563043471651519,0.157349484031966,0.03274787328683753,0.13916673785044356,0.08667428475957202,0.781409580785848,3A,null\"      \n",
       " \"World,º World,1964,Earths,0.009579691679215713,0.3777615356994305,0.1616579826847227,0.03193353514692798,0.14344938322290868,0.0856096938041128,0.8099916562809215,3A,null\"    \n",
       " \"World,º World,1965,Earths,0.00986752257666456,0.3973840309576907,0.16390382779472484,0.0342609374035752,0.14481946200843482,0.08751615967665632,0.8377513226333169,3A,null\"    \n",
       " \"World,º World,1966,Earths,0.010532430297915894,0.4151237414881907,0.17119135159400578,0.036276067956087926,0.145681401862368,0.08633766817308428,0.8651423185999857,3A,null\"   \n",
       " \"World,º World,1967,Earths,0.010973123856384149,0.4250765957862632,0.17546787969408134,0.03855811886172692,0.14714775355511475,0.08753623218470442,0.8847588446276025,3A,null\"  \n",
       " \"World,º World,1968,Earths,0.011425744902338214,0.44815830538247947,0.18047873833703879,0.04081905198126903,0.14806806943986098,0.08730311607802112,0.9162528510834768,3A,null\" \n",
       " \"World,º World,1969,Earths,0.011755595730326421,0.48157746276508023,0.1842643299059878,0.04048532767627099,0.14964496875140593,0.08667484031540502,0.9544036020546703,3A,null\"  \n",
       " \"World,º World,1970,Earths,0.012299089419909369,0.5256500180523838,0.18877566085701764,0.04088459610340592,0.15216510433370337,0.08597563440870866,1.0057506624101127,3A,null\"  \n",
       " \"World,º World,1971,Earths,0.01302127729737596,0.5433619060869641,0.19569429983786096,0.0398020311268306,0.1526694976944481,0.08725315485856341,1.0318019167427996,3A,null\"     \n",
       " \"World,º World,1972,Earths,0.013004683815464381,0.5738275477129078,0.1913694660097158,0.04184685565893586,0.15347255590774125,0.09025069926760713,1.0637730089879593,3A,null\"   \n",
       " ⋮                                                                                                                                                                               \n",
       " \"World,º World,2005,Earths,0.03071329126753947,0.9090079485746986,0.288400735008172,0.053256509107697365,0.1712878009023206,0.09196891741058655,1.5446353132944726,3A,null\"     \n",
       " \"World,º World,2006,Earths,0.031426440335931206,0.9458918309641361,0.28948959191266416,0.05377139602815432,0.16849763309103172,0.0924510431929389,1.5815283851356856,3A,null\"   \n",
       " \"World,º World,2007,Earths,0.03215246632666716,0.9804623203345558,0.2928997567491387,0.05278810359445703,0.1694506857839136,0.0920071338318272,1.6197608083275354,3A,null\"      \n",
       " \"World,º World,2008,Earths,0.03348144326828091,0.9786453120259779,0.30203231459318025,0.051388552090654356,0.15906192704424452,0.09034721640456235,1.6149564286093294,3A,null\"  \n",
       " \"World,º World,2009,Earths,0.033906717967046716,0.9620058161774159,0.3019092343429886,0.05133289318138731,0.1529601183818799,0.0907017099518129,1.5928162714730885,3A,null\"     \n",
       " \"World,º World,2010,Earths,0.03449527598324069,1.0298392017515352,0.3032085516631855,0.05147158133004709,0.16299799232373824,0.08854341473271093,1.6705562451449323,3A,null\"    \n",
       " \"World,º World,2011,Earths,0.03531312875428035,1.0459732180367398,0.3092305010088022,0.051214623810485874,0.16544671410146405,0.08678455552559967,1.6939630835296307,3A,null\"   \n",
       " \"World,º World,2012,Earths,0.03546561300285786,1.042051325615444,0.30903699021475045,0.052444163234584104,0.1666019335325414,0.08794229650589609,1.6935429978468828,3A,null\"    \n",
       " \"World,º World,2013,Earths,0.03700431816326029,1.040885913398077,0.3193331472569242,0.05377289425069903,0.1658975796574021,0.0863322725116408,1.7032269097650936,3A,null\"       \n",
       " \"World,º World,2014,Earths,0.03775604454884305,1.0256940738160516,0.32385956837292024,0.055613633366165934,0.16598607771816756,0.08624430054741947,1.695153037033779,3A,null\"   \n",
       " \"World,º World,2015,Earths,0.03822094773428237,1.0171678907012716,0.3261482772899451,0.055144257738807004,0.1647934871279338,0.08633650425499215,1.6878115817608024,3A,null\"    \n",
       " \"World,º World,2016,Earths,0.0388368263018476,1.01011447012455,0.3274393630049036,0.05506518782539016,0.16781426409295475,0.08603107183483634,1.685300219377105,3A,null\"        "
      ]
     },
     "execution_count": 42,
     "metadata": {},
     "output_type": "execute_result"
    }
   ],
   "source": [
    "f = open(\"../../Country_Trends.csv\")\n",
    "crudos = readlines(f)\n"
   ]
  },
  {
   "cell_type": "markdown",
   "metadata": {},
   "source": [
    "Ahora podemos leerlos más fácil. Sin embargo, aún tenemos que depurar los datos para poder graficarlos. Debemos hacer dos cosas:\n",
    "1. Identificar y escoger las columnas que nos interesan \n",
    "2. Convertir cada elemento en números\n",
    "\n",
    "En este caso nuestro archivo está separado por comas, es por eso que usamos la función `split()` indicando que la coma es el delimitador entre columnas."
   ]
  },
  {
   "cell_type": "code",
   "execution_count": 22,
   "metadata": {},
   "outputs": [
    {
     "data": {
      "text/plain": [
       "13-element Array{SubString{String},1}:\n",
       " \"Country Name\"      \n",
       " \"Short Name\"        \n",
       " \"year\"              \n",
       " \"Record\"            \n",
       " \"Built-up Land\"     \n",
       " \"Carbon\"            \n",
       " \"Cropland\"          \n",
       " \"Fishing Grounds\"   \n",
       " \"Forest Products\"   \n",
       " \"Grazing Land\"      \n",
       " \"Total\"             \n",
       " \"Data Quality Score\"\n",
       " \"isoa2\"             "
      ]
     },
     "execution_count": 22,
     "metadata": {},
     "output_type": "execute_result"
    }
   ],
   "source": [
    "split(crudos[1],\",\")"
   ]
  },
  {
   "cell_type": "markdown",
   "metadata": {},
   "source": [
    "Creamos dos arreglos vacíos en los cuales se guardarán los datos listos para graficar:"
   ]
  },
  {
   "cell_type": "code",
   "execution_count": 31,
   "metadata": {},
   "outputs": [
    {
     "data": {
      "text/plain": [
       "13-element Array{SubString{String},1}:\n",
       " \"World\"               \n",
       " \"º World\"             \n",
       " \"1961\"                \n",
       " \"Earths\"              \n",
       " \"0.008500975544980471\"\n",
       " \"0.32090927422091237\" \n",
       " \"0.15005432190910348\" \n",
       " \"0.030537847374192732\"\n",
       " \"0.13753181875665313\" \n",
       " \"0.08476816540056233\" \n",
       " \"0.7323033985086098\"  \n",
       " \"3A\"                  \n",
       " \"null\"                "
      ]
     },
     "execution_count": 31,
     "metadata": {},
     "output_type": "execute_result"
    }
   ],
   "source": [
    "tiempo =[]\n",
    "totales =[]\n"
   ]
  },
  {
   "cell_type": "code",
   "execution_count": 43,
   "metadata": {},
   "outputs": [
    {
     "data": {
      "text/plain": [
       "2-element Array{Any,1}:\n",
       " \"1961\"\n",
       " \"1961\""
      ]
     },
     "execution_count": 43,
     "metadata": {},
     "output_type": "execute_result"
    }
   ],
   "source": [
    "t=split(crudos[2],\",\")[3]\n",
    "push!(tiempo,t)\n",
    "tiempo"
   ]
  },
  {
   "cell_type": "markdown",
   "metadata": {},
   "source": [
    "Si queremos borrar algún elemento del arreglo hacemos uso de `deleteat!()`. Por ejemplo, borraremos el elemento `2` de el arreglo `tiempo`"
   ]
  },
  {
   "cell_type": "code",
   "execution_count": 44,
   "metadata": {},
   "outputs": [
    {
     "data": {
      "text/plain": [
       "1-element Array{Any,1}:\n",
       " \"1961\""
      ]
     },
     "execution_count": 44,
     "metadata": {},
     "output_type": "execute_result"
    }
   ],
   "source": [
    "deleteat!(tiempo,2)"
   ]
  },
  {
   "cell_type": "code",
   "execution_count": 45,
   "metadata": {},
   "outputs": [
    {
     "data": {
      "text/plain": [
       "1-element Array{Any,1}:\n",
       " \"1961\""
      ]
     },
     "execution_count": 45,
     "metadata": {},
     "output_type": "execute_result"
    }
   ],
   "source": [
    "tiempo"
   ]
  },
  {
   "cell_type": "code",
   "execution_count": 46,
   "metadata": {},
   "outputs": [
    {
     "data": {
      "text/plain": [
       "\"0.7323033985086098\""
      ]
     },
     "execution_count": 46,
     "metadata": {},
     "output_type": "execute_result"
    }
   ],
   "source": [
    "tot=split(crudos[2],\",\")[11]"
   ]
  },
  {
   "cell_type": "markdown",
   "metadata": {},
   "source": [
    "Ahora solamente nos falta convertir las cadenas a arreglos (usamos `parse()`). Para no hacerlo para las 57 líneas del documento usamos un `for`."
   ]
  },
  {
   "cell_type": "code",
   "execution_count": 60,
   "metadata": {},
   "outputs": [
    {
     "data": {
      "text/plain": [
       "\"2016\""
      ]
     },
     "execution_count": 60,
     "metadata": {},
     "output_type": "execute_result"
    }
   ],
   "source": [
    "t"
   ]
  },
  {
   "cell_type": "code",
   "execution_count": 61,
   "metadata": {},
   "outputs": [
    {
     "data": {
      "text/plain": [
       "2016"
      ]
     },
     "execution_count": 61,
     "metadata": {},
     "output_type": "execute_result"
    }
   ],
   "source": [
    "parse(Int64,t)"
   ]
  },
  {
   "cell_type": "code",
   "execution_count": 21,
   "metadata": {},
   "outputs": [],
   "source": [
    "f=open(\"../../Country_Trends.csv\")\n",
    "crudos=readlines(f)\n",
    "tiempo =[]\n",
    "totales =[]\n",
    "\n",
    "for i in 2:length(crudos)\n",
    "    t=split(crudos[i],\",\")[3]\n",
    "    push!(tiempo,parse(Int64,t))\n",
    "    tot=split(crudos[i],\",\")[11]\n",
    "    push!(totales,parse(Float64,tot))\n",
    "end"
   ]
  },
  {
   "cell_type": "code",
   "execution_count": 1,
   "metadata": {},
   "outputs": [
    {
     "data": {
      "text/plain": [
       "Plots.GRBackend()"
      ]
     },
     "execution_count": 1,
     "metadata": {},
     "output_type": "execute_result"
    }
   ],
   "source": [
    "using Plots\n",
    "gr()"
   ]
  },
  {
   "cell_type": "code",
   "execution_count": 22,
   "metadata": {},
   "outputs": [
    {
     "data": {
      "image/svg+xml": [
       "<?xml version=\"1.0\" encoding=\"utf-8\"?>\n",
       "<svg xmlns=\"http://www.w3.org/2000/svg\" xmlns:xlink=\"http://www.w3.org/1999/xlink\" width=\"600\" height=\"400\" viewBox=\"0 0 2400 1600\">\n",
       "<defs>\n",
       "  <clipPath id=\"clip8500\">\n",
       "    <rect x=\"0\" y=\"0\" width=\"2400\" height=\"1600\"/>\n",
       "  </clipPath>\n",
       "</defs>\n",
       "<polygon clip-path=\"url(#clip8500)\" points=\"\n",
       "0,1600 2400,1600 2400,0 0,0 \n",
       "  \" fill=\"#ffffff\" fill-rule=\"evenodd\" fill-opacity=\"1\"/>\n",
       "<defs>\n",
       "  <clipPath id=\"clip8501\">\n",
       "    <rect x=\"480\" y=\"0\" width=\"1681\" height=\"1600\"/>\n",
       "  </clipPath>\n",
       "</defs>\n",
       "<polygon clip-path=\"url(#clip8500)\" points=\"\n",
       "224.386,1440.48 2321.26,1440.48 2321.26,47.2441 224.386,47.2441 \n",
       "  \" fill=\"#ffffff\" fill-rule=\"evenodd\" fill-opacity=\"1\"/>\n",
       "<defs>\n",
       "  <clipPath id=\"clip8502\">\n",
       "    <rect x=\"224\" y=\"47\" width=\"2098\" height=\"1394\"/>\n",
       "  </clipPath>\n",
       "</defs>\n",
       "<polyline clip-path=\"url(#clip8502)\" style=\"stroke:#000000; stroke-width:2; stroke-opacity:0.1; fill:none\" points=\"\n",
       "  247.765,1440.48 247.765,47.2441 \n",
       "  \"/>\n",
       "<polyline clip-path=\"url(#clip8502)\" style=\"stroke:#000000; stroke-width:2; stroke-opacity:0.1; fill:none\" points=\"\n",
       "  607.434,1440.48 607.434,47.2441 \n",
       "  \"/>\n",
       "<polyline clip-path=\"url(#clip8502)\" style=\"stroke:#000000; stroke-width:2; stroke-opacity:0.1; fill:none\" points=\"\n",
       "  967.104,1440.48 967.104,47.2441 \n",
       "  \"/>\n",
       "<polyline clip-path=\"url(#clip8502)\" style=\"stroke:#000000; stroke-width:2; stroke-opacity:0.1; fill:none\" points=\"\n",
       "  1326.77,1440.48 1326.77,47.2441 \n",
       "  \"/>\n",
       "<polyline clip-path=\"url(#clip8502)\" style=\"stroke:#000000; stroke-width:2; stroke-opacity:0.1; fill:none\" points=\"\n",
       "  1686.44,1440.48 1686.44,47.2441 \n",
       "  \"/>\n",
       "<polyline clip-path=\"url(#clip8502)\" style=\"stroke:#000000; stroke-width:2; stroke-opacity:0.1; fill:none\" points=\"\n",
       "  2046.11,1440.48 2046.11,47.2441 \n",
       "  \"/>\n",
       "<polyline clip-path=\"url(#clip8502)\" style=\"stroke:#000000; stroke-width:2; stroke-opacity:0.1; fill:none\" points=\"\n",
       "  224.386,1309.41 2321.26,1309.41 \n",
       "  \"/>\n",
       "<polyline clip-path=\"url(#clip8502)\" style=\"stroke:#000000; stroke-width:2; stroke-opacity:0.1; fill:none\" points=\"\n",
       "  224.386,1038.66 2321.26,1038.66 \n",
       "  \"/>\n",
       "<polyline clip-path=\"url(#clip8502)\" style=\"stroke:#000000; stroke-width:2; stroke-opacity:0.1; fill:none\" points=\"\n",
       "  224.386,767.913 2321.26,767.913 \n",
       "  \"/>\n",
       "<polyline clip-path=\"url(#clip8502)\" style=\"stroke:#000000; stroke-width:2; stroke-opacity:0.1; fill:none\" points=\"\n",
       "  224.386,497.165 2321.26,497.165 \n",
       "  \"/>\n",
       "<polyline clip-path=\"url(#clip8502)\" style=\"stroke:#000000; stroke-width:2; stroke-opacity:0.1; fill:none\" points=\"\n",
       "  224.386,226.418 2321.26,226.418 \n",
       "  \"/>\n",
       "<polyline clip-path=\"url(#clip8500)\" style=\"stroke:#000000; stroke-width:4; stroke-opacity:1; fill:none\" points=\"\n",
       "  224.386,1440.48 2321.26,1440.48 \n",
       "  \"/>\n",
       "<polyline clip-path=\"url(#clip8500)\" style=\"stroke:#000000; stroke-width:4; stroke-opacity:1; fill:none\" points=\"\n",
       "  224.386,1440.48 224.386,47.2441 \n",
       "  \"/>\n",
       "<polyline clip-path=\"url(#clip8500)\" style=\"stroke:#000000; stroke-width:4; stroke-opacity:1; fill:none\" points=\"\n",
       "  247.765,1440.48 247.765,1419.58 \n",
       "  \"/>\n",
       "<polyline clip-path=\"url(#clip8500)\" style=\"stroke:#000000; stroke-width:4; stroke-opacity:1; fill:none\" points=\"\n",
       "  607.434,1440.48 607.434,1419.58 \n",
       "  \"/>\n",
       "<polyline clip-path=\"url(#clip8500)\" style=\"stroke:#000000; stroke-width:4; stroke-opacity:1; fill:none\" points=\"\n",
       "  967.104,1440.48 967.104,1419.58 \n",
       "  \"/>\n",
       "<polyline clip-path=\"url(#clip8500)\" style=\"stroke:#000000; stroke-width:4; stroke-opacity:1; fill:none\" points=\"\n",
       "  1326.77,1440.48 1326.77,1419.58 \n",
       "  \"/>\n",
       "<polyline clip-path=\"url(#clip8500)\" style=\"stroke:#000000; stroke-width:4; stroke-opacity:1; fill:none\" points=\"\n",
       "  1686.44,1440.48 1686.44,1419.58 \n",
       "  \"/>\n",
       "<polyline clip-path=\"url(#clip8500)\" style=\"stroke:#000000; stroke-width:4; stroke-opacity:1; fill:none\" points=\"\n",
       "  2046.11,1440.48 2046.11,1419.58 \n",
       "  \"/>\n",
       "<polyline clip-path=\"url(#clip8500)\" style=\"stroke:#000000; stroke-width:4; stroke-opacity:1; fill:none\" points=\"\n",
       "  224.386,1309.41 255.839,1309.41 \n",
       "  \"/>\n",
       "<polyline clip-path=\"url(#clip8500)\" style=\"stroke:#000000; stroke-width:4; stroke-opacity:1; fill:none\" points=\"\n",
       "  224.386,1038.66 255.839,1038.66 \n",
       "  \"/>\n",
       "<polyline clip-path=\"url(#clip8500)\" style=\"stroke:#000000; stroke-width:4; stroke-opacity:1; fill:none\" points=\"\n",
       "  224.386,767.913 255.839,767.913 \n",
       "  \"/>\n",
       "<polyline clip-path=\"url(#clip8500)\" style=\"stroke:#000000; stroke-width:4; stroke-opacity:1; fill:none\" points=\"\n",
       "  224.386,497.165 255.839,497.165 \n",
       "  \"/>\n",
       "<polyline clip-path=\"url(#clip8500)\" style=\"stroke:#000000; stroke-width:4; stroke-opacity:1; fill:none\" points=\"\n",
       "  224.386,226.418 255.839,226.418 \n",
       "  \"/>\n",
       "<g clip-path=\"url(#clip8500)\">\n",
       "<text style=\"fill:#000000; fill-opacity:1; font-family:Arial,Helvetica Neue,Helvetica,sans-serif; font-size:48px; text-anchor:middle;\" transform=\"rotate(0, 247.765, 1494.48)\" x=\"247.765\" y=\"1494.48\">1960</text>\n",
       "</g>\n",
       "<g clip-path=\"url(#clip8500)\">\n",
       "<text style=\"fill:#000000; fill-opacity:1; font-family:Arial,Helvetica Neue,Helvetica,sans-serif; font-size:48px; text-anchor:middle;\" transform=\"rotate(0, 607.434, 1494.48)\" x=\"607.434\" y=\"1494.48\">1970</text>\n",
       "</g>\n",
       "<g clip-path=\"url(#clip8500)\">\n",
       "<text style=\"fill:#000000; fill-opacity:1; font-family:Arial,Helvetica Neue,Helvetica,sans-serif; font-size:48px; text-anchor:middle;\" transform=\"rotate(0, 967.104, 1494.48)\" x=\"967.104\" y=\"1494.48\">1980</text>\n",
       "</g>\n",
       "<g clip-path=\"url(#clip8500)\">\n",
       "<text style=\"fill:#000000; fill-opacity:1; font-family:Arial,Helvetica Neue,Helvetica,sans-serif; font-size:48px; text-anchor:middle;\" transform=\"rotate(0, 1326.77, 1494.48)\" x=\"1326.77\" y=\"1494.48\">1990</text>\n",
       "</g>\n",
       "<g clip-path=\"url(#clip8500)\">\n",
       "<text style=\"fill:#000000; fill-opacity:1; font-family:Arial,Helvetica Neue,Helvetica,sans-serif; font-size:48px; text-anchor:middle;\" transform=\"rotate(0, 1686.44, 1494.48)\" x=\"1686.44\" y=\"1494.48\">2000</text>\n",
       "</g>\n",
       "<g clip-path=\"url(#clip8500)\">\n",
       "<text style=\"fill:#000000; fill-opacity:1; font-family:Arial,Helvetica Neue,Helvetica,sans-serif; font-size:48px; text-anchor:middle;\" transform=\"rotate(0, 2046.11, 1494.48)\" x=\"2046.11\" y=\"1494.48\">2010</text>\n",
       "</g>\n",
       "<g clip-path=\"url(#clip8500)\">\n",
       "<text style=\"fill:#000000; fill-opacity:1; font-family:Arial,Helvetica Neue,Helvetica,sans-serif; font-size:48px; text-anchor:end;\" transform=\"rotate(0, 200.386, 1326.91)\" x=\"200.386\" y=\"1326.91\">0.8</text>\n",
       "</g>\n",
       "<g clip-path=\"url(#clip8500)\">\n",
       "<text style=\"fill:#000000; fill-opacity:1; font-family:Arial,Helvetica Neue,Helvetica,sans-serif; font-size:48px; text-anchor:end;\" transform=\"rotate(0, 200.386, 1056.16)\" x=\"200.386\" y=\"1056.16\">1.0</text>\n",
       "</g>\n",
       "<g clip-path=\"url(#clip8500)\">\n",
       "<text style=\"fill:#000000; fill-opacity:1; font-family:Arial,Helvetica Neue,Helvetica,sans-serif; font-size:48px; text-anchor:end;\" transform=\"rotate(0, 200.386, 785.413)\" x=\"200.386\" y=\"785.413\">1.2</text>\n",
       "</g>\n",
       "<g clip-path=\"url(#clip8500)\">\n",
       "<text style=\"fill:#000000; fill-opacity:1; font-family:Arial,Helvetica Neue,Helvetica,sans-serif; font-size:48px; text-anchor:end;\" transform=\"rotate(0, 200.386, 514.665)\" x=\"200.386\" y=\"514.665\">1.4</text>\n",
       "</g>\n",
       "<g clip-path=\"url(#clip8500)\">\n",
       "<text style=\"fill:#000000; fill-opacity:1; font-family:Arial,Helvetica Neue,Helvetica,sans-serif; font-size:48px; text-anchor:end;\" transform=\"rotate(0, 200.386, 243.918)\" x=\"200.386\" y=\"243.918\">1.6</text>\n",
       "</g>\n",
       "<g clip-path=\"url(#clip8500)\">\n",
       "<text style=\"fill:#000000; fill-opacity:1; font-family:Arial,Helvetica Neue,Helvetica,sans-serif; font-size:66px; text-anchor:middle;\" transform=\"rotate(0, 1272.82, 1590.4)\" x=\"1272.82\" y=\"1590.4\">Años</text>\n",
       "</g>\n",
       "<g clip-path=\"url(#clip8500)\">\n",
       "<text style=\"fill:#000000; fill-opacity:1; font-family:Arial,Helvetica Neue,Helvetica,sans-serif; font-size:66px; text-anchor:middle;\" transform=\"rotate(-90, 57.6, 743.863)\" x=\"57.6\" y=\"743.863\">Número de tierras necesarias</text>\n",
       "</g>\n",
       "<polygon clip-path=\"url(#clip8502)\" points=\"\n",
       "283.732,1401.05 319.699,1374.49 355.666,1334.57 391.633,1295.88 427.599,1258.3 463.566,1221.22 499.533,1194.67 535.5,1152.03 571.467,1100.39 607.434,1030.88 \n",
       "  643.401,995.609 679.368,952.328 715.335,892.221 751.302,899.187 787.269,910.245 823.236,848.672 859.203,819.255 895.17,799.529 931.137,754.411 967.104,784.048 \n",
       "  1003.07,819.397 1039.04,840.519 1075,836.023 1110.97,798.403 1146.94,783.061 1182.91,759.218 1218.87,719.493 1254.84,672.431 1290.81,652.395 1326.77,650.348 \n",
       "  1362.74,643.375 1398.71,658.683 1434.67,655.836 1470.64,644.139 1506.61,606.015 1542.58,591.433 1578.54,570.393 1614.51,573.855 1650.48,572.201 1686.44,530.305 \n",
       "  1722.41,521.081 1758.38,499.865 1794.34,427.129 1830.31,364.214 1866.28,301.367 1902.24,251.423 1938.21,199.667 1974.18,206.17 2010.15,236.142 2046.11,130.903 \n",
       "  2082.08,99.2162 2118.05,99.7849 2154.01,86.6754 2189.98,97.6053 2225.95,107.544 2261.91,110.943 2261.91,1038.66 2225.95,1038.66 2189.98,1038.66 2154.01,1038.66 \n",
       "  2118.05,1038.66 2082.08,1038.66 2046.11,1038.66 2010.15,1038.66 1974.18,1038.66 1938.21,1038.66 1902.24,1038.66 1866.28,1038.66 1830.31,1038.66 1794.34,1038.66 \n",
       "  1758.38,1038.66 1722.41,1038.66 1686.44,1038.66 1650.48,1038.66 1614.51,1038.66 1578.54,1038.66 1542.58,1038.66 1506.61,1038.66 1470.64,1038.66 1434.67,1038.66 \n",
       "  1398.71,1038.66 1362.74,1038.66 1326.77,1038.66 1290.81,1038.66 1254.84,1038.66 1218.87,1038.66 1182.91,1038.66 1146.94,1038.66 1110.97,1038.66 1075,1038.66 \n",
       "  1039.04,1038.66 1003.07,1038.66 967.104,1038.66 931.137,1038.66 895.17,1038.66 859.203,1038.66 823.236,1038.66 787.269,1038.66 751.302,1038.66 715.335,1038.66 \n",
       "  679.368,1038.66 643.401,1038.66 607.434,1038.66 571.467,1038.66 535.5,1038.66 499.533,1038.66 463.566,1038.66 427.599,1038.66 391.633,1038.66 355.666,1038.66 \n",
       "  319.699,1038.66 283.732,1038.66 \n",
       "  \" fill=\"#ff0000\" fill-rule=\"evenodd\" fill-opacity=\"0.6\"/>\n",
       "<polyline clip-path=\"url(#clip8502)\" style=\"stroke:#000000; stroke-width:12; stroke-opacity:0.6; fill:none\" points=\"\n",
       "  283.732,1401.05 319.699,1374.49 355.666,1334.57 391.633,1295.88 427.599,1258.3 463.566,1221.22 499.533,1194.67 535.5,1152.03 571.467,1100.39 607.434,1030.88 \n",
       "  643.401,995.609 679.368,952.328 715.335,892.221 751.302,899.187 787.269,910.245 823.236,848.672 859.203,819.255 895.17,799.529 931.137,754.411 967.104,784.048 \n",
       "  1003.07,819.397 1039.04,840.519 1075,836.023 1110.97,798.403 1146.94,783.061 1182.91,759.218 1218.87,719.493 1254.84,672.431 1290.81,652.395 1326.77,650.348 \n",
       "  1362.74,643.375 1398.71,658.683 1434.67,655.836 1470.64,644.139 1506.61,606.015 1542.58,591.433 1578.54,570.393 1614.51,573.855 1650.48,572.201 1686.44,530.305 \n",
       "  1722.41,521.081 1758.38,499.865 1794.34,427.129 1830.31,364.214 1866.28,301.367 1902.24,251.423 1938.21,199.667 1974.18,206.17 2010.15,236.142 2046.11,130.903 \n",
       "  2082.08,99.2162 2118.05,99.7849 2154.01,86.6754 2189.98,97.6053 2225.95,107.544 2261.91,110.943 \n",
       "  \"/>\n",
       "<polygon clip-path=\"url(#clip8502)\" points=\"\n",
       "-209463,1038.66 212009,1038.66 212009,1038.66 -209463,1038.66 \n",
       "  \" fill=\"#008000\" fill-rule=\"evenodd\" fill-opacity=\"1\"/>\n",
       "<polyline clip-path=\"url(#clip8502)\" style=\"stroke:#008000; stroke-width:20; stroke-opacity:1; fill:none\" points=\"\n",
       "  -209463,1038.66 212009,1038.66 \n",
       "  \"/>\n",
       "<polygon clip-path=\"url(#clip8500)\" points=\"\n",
       "1656.15,312.204 2249.26,312.204 2249.26,130.764 1656.15,130.764 \n",
       "  \" fill=\"#ffffff\" fill-rule=\"evenodd\" fill-opacity=\"1\"/>\n",
       "<polyline clip-path=\"url(#clip8500)\" style=\"stroke:#000000; stroke-width:4; stroke-opacity:1; fill:none\" points=\"\n",
       "  1656.15,312.204 2249.26,312.204 2249.26,130.764 1656.15,130.764 1656.15,312.204 \n",
       "  \"/>\n",
       "<polygon clip-path=\"url(#clip8500)\" points=\"\n",
       "1680.15,215.436 1824.15,215.436 1824.15,167.052 1680.15,167.052 1680.15,215.436 \n",
       "  \" fill=\"#ff0000\" fill-rule=\"evenodd\" fill-opacity=\"0.6\"/>\n",
       "<polyline clip-path=\"url(#clip8500)\" style=\"stroke:#000000; stroke-width:12; stroke-opacity:0.6; fill:none\" points=\"\n",
       "  1680.15,167.052 1824.15,167.052 \n",
       "  \"/>\n",
       "<g clip-path=\"url(#clip8500)\">\n",
       "<text style=\"fill:#000000; fill-opacity:1; font-family:Arial,Helvetica Neue,Helvetica,sans-serif; font-size:48px; text-anchor:start;\" transform=\"rotate(0, 1848.15, 208.744)\" x=\"1848.15\" y=\"208.744\">Huella ecológica</text>\n",
       "</g>\n",
       "<polygon clip-path=\"url(#clip8500)\" points=\"\n",
       "1680.15,275.916 1824.15,275.916 1824.15,227.532 1680.15,227.532 1680.15,275.916 \n",
       "  \" fill=\"#008000\" fill-rule=\"evenodd\" fill-opacity=\"1\"/>\n",
       "<polyline clip-path=\"url(#clip8500)\" style=\"stroke:#008000; stroke-width:20; stroke-opacity:1; fill:none\" points=\"\n",
       "  1680.15,227.532 1824.15,227.532 \n",
       "  \"/>\n",
       "<g clip-path=\"url(#clip8500)\">\n",
       "<text style=\"fill:#000000; fill-opacity:1; font-family:Arial,Helvetica Neue,Helvetica,sans-serif; font-size:48px; text-anchor:start;\" transform=\"rotate(0, 1848.15, 269.224)\" x=\"1848.15\" y=\"269.224\">y2</text>\n",
       "</g>\n",
       "</svg>\n"
      ]
     },
     "execution_count": 22,
     "metadata": {},
     "output_type": "execute_result"
    }
   ],
   "source": [
    "plot(tiempo,totales,fill=(1,:red), c=:black,lw=3,α=0.6,ylabel=\"Número de tierras necesarias\",xlabel=\"Años\",lab=\"Huella ecológica\")\n",
    "hline!([1],fill=(1,:green),c=:green,linewidth=5,α=1)"
   ]
  },
  {
   "cell_type": "code",
   "execution_count": 2,
   "metadata": {},
   "outputs": [],
   "source": [
    "f=open(\"../../Country_Trends_World_pp.csv\")\n",
    "crudos=readlines(f)\n",
    "tiempo =[]\n",
    "totales =[]\n",
    "\n",
    "for i in 2:length(crudos)\n",
    "    t=split(crudos[i],\",\")[3]\n",
    "    push!(tiempo,parse(Int64,t))\n",
    "    tot=split(crudos[i],\",\")[11]\n",
    "    push!(totales,parse(Float64,tot))\n",
    "end"
   ]
  },
  {
   "cell_type": "code",
   "execution_count": 3,
   "metadata": {},
   "outputs": [
    {
     "data": {
      "image/svg+xml": [
       "<?xml version=\"1.0\" encoding=\"utf-8\"?>\n",
       "<svg xmlns=\"http://www.w3.org/2000/svg\" xmlns:xlink=\"http://www.w3.org/1999/xlink\" width=\"600\" height=\"400\" viewBox=\"0 0 2400 1600\">\n",
       "<defs>\n",
       "  <clipPath id=\"clip5300\">\n",
       "    <rect x=\"0\" y=\"0\" width=\"2400\" height=\"1600\"/>\n",
       "  </clipPath>\n",
       "</defs>\n",
       "<polygon clip-path=\"url(#clip5300)\" points=\"\n",
       "0,1600 2400,1600 2400,0 0,0 \n",
       "  \" fill=\"#ffffff\" fill-rule=\"evenodd\" fill-opacity=\"1\"/>\n",
       "<defs>\n",
       "  <clipPath id=\"clip5301\">\n",
       "    <rect x=\"480\" y=\"0\" width=\"1681\" height=\"1600\"/>\n",
       "  </clipPath>\n",
       "</defs>\n",
       "<polygon clip-path=\"url(#clip5300)\" points=\"\n",
       "161.394,1503.47 2321.26,1503.47 2321.26,47.2441 161.394,47.2441 \n",
       "  \" fill=\"#ffffff\" fill-rule=\"evenodd\" fill-opacity=\"1\"/>\n",
       "<defs>\n",
       "  <clipPath id=\"clip5302\">\n",
       "    <rect x=\"161\" y=\"47\" width=\"2161\" height=\"1457\"/>\n",
       "  </clipPath>\n",
       "</defs>\n",
       "<polyline clip-path=\"url(#clip5302)\" style=\"stroke:#000000; stroke-width:2; stroke-opacity:0.1; fill:none\" points=\"\n",
       "  185.475,1503.47 185.475,47.2441 \n",
       "  \"/>\n",
       "<polyline clip-path=\"url(#clip5302)\" style=\"stroke:#000000; stroke-width:2; stroke-opacity:0.1; fill:none\" points=\"\n",
       "  555.949,1503.47 555.949,47.2441 \n",
       "  \"/>\n",
       "<polyline clip-path=\"url(#clip5302)\" style=\"stroke:#000000; stroke-width:2; stroke-opacity:0.1; fill:none\" points=\"\n",
       "  926.424,1503.47 926.424,47.2441 \n",
       "  \"/>\n",
       "<polyline clip-path=\"url(#clip5302)\" style=\"stroke:#000000; stroke-width:2; stroke-opacity:0.1; fill:none\" points=\"\n",
       "  1296.9,1503.47 1296.9,47.2441 \n",
       "  \"/>\n",
       "<polyline clip-path=\"url(#clip5302)\" style=\"stroke:#000000; stroke-width:2; stroke-opacity:0.1; fill:none\" points=\"\n",
       "  1667.37,1503.47 1667.37,47.2441 \n",
       "  \"/>\n",
       "<polyline clip-path=\"url(#clip5302)\" style=\"stroke:#000000; stroke-width:2; stroke-opacity:0.1; fill:none\" points=\"\n",
       "  2037.85,1503.47 2037.85,47.2441 \n",
       "  \"/>\n",
       "<polyline clip-path=\"url(#clip5302)\" style=\"stroke:#000000; stroke-width:2; stroke-opacity:0.1; fill:none\" points=\"\n",
       "  161.394,1304.88 2321.26,1304.88 \n",
       "  \"/>\n",
       "<polyline clip-path=\"url(#clip5302)\" style=\"stroke:#000000; stroke-width:2; stroke-opacity:0.1; fill:none\" points=\"\n",
       "  161.394,1027.55 2321.26,1027.55 \n",
       "  \"/>\n",
       "<polyline clip-path=\"url(#clip5302)\" style=\"stroke:#000000; stroke-width:2; stroke-opacity:0.1; fill:none\" points=\"\n",
       "  161.394,750.222 2321.26,750.222 \n",
       "  \"/>\n",
       "<polyline clip-path=\"url(#clip5302)\" style=\"stroke:#000000; stroke-width:2; stroke-opacity:0.1; fill:none\" points=\"\n",
       "  161.394,472.894 2321.26,472.894 \n",
       "  \"/>\n",
       "<polyline clip-path=\"url(#clip5302)\" style=\"stroke:#000000; stroke-width:2; stroke-opacity:0.1; fill:none\" points=\"\n",
       "  161.394,195.566 2321.26,195.566 \n",
       "  \"/>\n",
       "<polyline clip-path=\"url(#clip5300)\" style=\"stroke:#000000; stroke-width:4; stroke-opacity:1; fill:none\" points=\"\n",
       "  161.394,1503.47 2321.26,1503.47 \n",
       "  \"/>\n",
       "<polyline clip-path=\"url(#clip5300)\" style=\"stroke:#000000; stroke-width:4; stroke-opacity:1; fill:none\" points=\"\n",
       "  161.394,1503.47 161.394,47.2441 \n",
       "  \"/>\n",
       "<polyline clip-path=\"url(#clip5300)\" style=\"stroke:#000000; stroke-width:4; stroke-opacity:1; fill:none\" points=\"\n",
       "  185.475,1503.47 185.475,1481.63 \n",
       "  \"/>\n",
       "<polyline clip-path=\"url(#clip5300)\" style=\"stroke:#000000; stroke-width:4; stroke-opacity:1; fill:none\" points=\"\n",
       "  555.949,1503.47 555.949,1481.63 \n",
       "  \"/>\n",
       "<polyline clip-path=\"url(#clip5300)\" style=\"stroke:#000000; stroke-width:4; stroke-opacity:1; fill:none\" points=\"\n",
       "  926.424,1503.47 926.424,1481.63 \n",
       "  \"/>\n",
       "<polyline clip-path=\"url(#clip5300)\" style=\"stroke:#000000; stroke-width:4; stroke-opacity:1; fill:none\" points=\"\n",
       "  1296.9,1503.47 1296.9,1481.63 \n",
       "  \"/>\n",
       "<polyline clip-path=\"url(#clip5300)\" style=\"stroke:#000000; stroke-width:4; stroke-opacity:1; fill:none\" points=\"\n",
       "  1667.37,1503.47 1667.37,1481.63 \n",
       "  \"/>\n",
       "<polyline clip-path=\"url(#clip5300)\" style=\"stroke:#000000; stroke-width:4; stroke-opacity:1; fill:none\" points=\"\n",
       "  2037.85,1503.47 2037.85,1481.63 \n",
       "  \"/>\n",
       "<polyline clip-path=\"url(#clip5300)\" style=\"stroke:#000000; stroke-width:4; stroke-opacity:1; fill:none\" points=\"\n",
       "  161.394,1304.88 193.792,1304.88 \n",
       "  \"/>\n",
       "<polyline clip-path=\"url(#clip5300)\" style=\"stroke:#000000; stroke-width:4; stroke-opacity:1; fill:none\" points=\"\n",
       "  161.394,1027.55 193.792,1027.55 \n",
       "  \"/>\n",
       "<polyline clip-path=\"url(#clip5300)\" style=\"stroke:#000000; stroke-width:4; stroke-opacity:1; fill:none\" points=\"\n",
       "  161.394,750.222 193.792,750.222 \n",
       "  \"/>\n",
       "<polyline clip-path=\"url(#clip5300)\" style=\"stroke:#000000; stroke-width:4; stroke-opacity:1; fill:none\" points=\"\n",
       "  161.394,472.894 193.792,472.894 \n",
       "  \"/>\n",
       "<polyline clip-path=\"url(#clip5300)\" style=\"stroke:#000000; stroke-width:4; stroke-opacity:1; fill:none\" points=\"\n",
       "  161.394,195.566 193.792,195.566 \n",
       "  \"/>\n",
       "<g clip-path=\"url(#clip5300)\">\n",
       "<text style=\"fill:#000000; fill-opacity:1; font-family:Arial,Helvetica Neue,Helvetica,sans-serif; font-size:48px; text-anchor:middle;\" transform=\"rotate(0, 185.475, 1557.47)\" x=\"185.475\" y=\"1557.47\">1960</text>\n",
       "</g>\n",
       "<g clip-path=\"url(#clip5300)\">\n",
       "<text style=\"fill:#000000; fill-opacity:1; font-family:Arial,Helvetica Neue,Helvetica,sans-serif; font-size:48px; text-anchor:middle;\" transform=\"rotate(0, 555.949, 1557.47)\" x=\"555.949\" y=\"1557.47\">1970</text>\n",
       "</g>\n",
       "<g clip-path=\"url(#clip5300)\">\n",
       "<text style=\"fill:#000000; fill-opacity:1; font-family:Arial,Helvetica Neue,Helvetica,sans-serif; font-size:48px; text-anchor:middle;\" transform=\"rotate(0, 926.424, 1557.47)\" x=\"926.424\" y=\"1557.47\">1980</text>\n",
       "</g>\n",
       "<g clip-path=\"url(#clip5300)\">\n",
       "<text style=\"fill:#000000; fill-opacity:1; font-family:Arial,Helvetica Neue,Helvetica,sans-serif; font-size:48px; text-anchor:middle;\" transform=\"rotate(0, 1296.9, 1557.47)\" x=\"1296.9\" y=\"1557.47\">1990</text>\n",
       "</g>\n",
       "<g clip-path=\"url(#clip5300)\">\n",
       "<text style=\"fill:#000000; fill-opacity:1; font-family:Arial,Helvetica Neue,Helvetica,sans-serif; font-size:48px; text-anchor:middle;\" transform=\"rotate(0, 1667.37, 1557.47)\" x=\"1667.37\" y=\"1557.47\">2000</text>\n",
       "</g>\n",
       "<g clip-path=\"url(#clip5300)\">\n",
       "<text style=\"fill:#000000; fill-opacity:1; font-family:Arial,Helvetica Neue,Helvetica,sans-serif; font-size:48px; text-anchor:middle;\" transform=\"rotate(0, 2037.85, 1557.47)\" x=\"2037.85\" y=\"1557.47\">2010</text>\n",
       "</g>\n",
       "<g clip-path=\"url(#clip5300)\">\n",
       "<text style=\"fill:#000000; fill-opacity:1; font-family:Arial,Helvetica Neue,Helvetica,sans-serif; font-size:48px; text-anchor:end;\" transform=\"rotate(0, 137.394, 1322.38)\" x=\"137.394\" y=\"1322.38\">1.8</text>\n",
       "</g>\n",
       "<g clip-path=\"url(#clip5300)\">\n",
       "<text style=\"fill:#000000; fill-opacity:1; font-family:Arial,Helvetica Neue,Helvetica,sans-serif; font-size:48px; text-anchor:end;\" transform=\"rotate(0, 137.394, 1045.05)\" x=\"137.394\" y=\"1045.05\">2.1</text>\n",
       "</g>\n",
       "<g clip-path=\"url(#clip5300)\">\n",
       "<text style=\"fill:#000000; fill-opacity:1; font-family:Arial,Helvetica Neue,Helvetica,sans-serif; font-size:48px; text-anchor:end;\" transform=\"rotate(0, 137.394, 767.722)\" x=\"137.394\" y=\"767.722\">2.4</text>\n",
       "</g>\n",
       "<g clip-path=\"url(#clip5300)\">\n",
       "<text style=\"fill:#000000; fill-opacity:1; font-family:Arial,Helvetica Neue,Helvetica,sans-serif; font-size:48px; text-anchor:end;\" transform=\"rotate(0, 137.394, 490.394)\" x=\"137.394\" y=\"490.394\">2.7</text>\n",
       "</g>\n",
       "<g clip-path=\"url(#clip5300)\">\n",
       "<text style=\"fill:#000000; fill-opacity:1; font-family:Arial,Helvetica Neue,Helvetica,sans-serif; font-size:48px; text-anchor:end;\" transform=\"rotate(0, 137.394, 213.066)\" x=\"137.394\" y=\"213.066\">3.0</text>\n",
       "</g>\n",
       "<polyline clip-path=\"url(#clip5302)\" style=\"stroke:#000000; stroke-width:4; stroke-opacity:1; fill:none\" points=\"\n",
       "  222.522,88.4582 222.522,859.528 259.57,124.85 259.57,830.375 296.617,179.801 296.617,789.459 333.665,219.583 333.665,741.966 370.712,267.403 370.712,705.708 \n",
       "  407.76,294.727 407.76,655.352 444.807,335.785 444.807,639.222 481.854,380.892 481.854,597.626 518.902,430.654 518.902,546.387 555.949,466.742 555.949,452.353 \n",
       "  592.997,496.68 592.997,418.06 630.044,556.151 630.044,402.287 667.092,577.071 667.092,318.343 704.139,633.797 704.139,393.221 741.186,675.692 741.186,458.164 \n",
       "  778.234,697.859 778.234,379.14 815.281,737.447 815.281,375.795 852.329,743.308 852.329,350.178 889.376,788.655 889.376,330.872 926.424,826.315 926.424,423.345 \n",
       "  963.471,843.767 963.471,499.571 1000.52,859.105 1000.52,550.311 1037.57,907.95 1037.57,599.46 1074.61,908.607 1074.61,542.962 1111.66,937.091 1111.66,553.476 \n",
       "  1148.71,965.314 1148.71,551.739 1185.76,998.363 1185.76,533.787 1222.8,1045.91 1222.8,525.69 1259.85,1051.64 1259.85,504.604 1296.9,1056.65 1296.9,508.144 \n",
       "  1333.95,1101.98 1333.95,556.864 1370.99,1100.73 1370.99,576.375 1408.04,1137.17 1408.04,619.187 1445.09,1150.18 1445.09,620.169 1482.14,1184.28 1482.14,613.951 \n",
       "  1519.18,1179.95 1519.18,588.965 1556.23,1197.37 1556.23,584.602 1593.28,1208.95 1593.28,604.686 1630.33,1225.95 1630.33,625.402 1667.37,1250.1 1667.37,604.679 \n",
       "  1704.42,1262.54 1704.42,610.166 1741.47,1286.58 1741.47,617.022 1778.51,1310.94 1778.51,562.002 1815.56,1295.52 1815.56,461.851 1852.61,1328.71 1852.61,435.435 \n",
       "  1889.66,1344.93 1889.66,400.571 1926.7,1359.11 1926.7,361.459 1963.75,1353.78 1963.75,360.591 2000.8,1380.05 2000.8,438.192 2037.85,1396.58 2037.85,342.292 \n",
       "  2074.89,1404.51 2074.89,318.912 2111.94,1428.34 2111.94,359.925 2148.99,1421.03 2148.99,332.571 2186.04,1428.74 2186.04,358.14 2223.08,1447.75 2223.08,401.525 \n",
       "  2260.13,1462.26 2260.13,429.798 \n",
       "  \"/>\n",
       "<polygon clip-path=\"url(#clip5300)\" points=\"\n",
       "1958.43,251.724 2249.26,251.724 2249.26,130.764 1958.43,130.764 \n",
       "  \" fill=\"#ffffff\" fill-rule=\"evenodd\" fill-opacity=\"1\"/>\n",
       "<polyline clip-path=\"url(#clip5300)\" style=\"stroke:#000000; stroke-width:4; stroke-opacity:1; fill:none\" points=\"\n",
       "  1958.43,251.724 2249.26,251.724 2249.26,130.764 1958.43,130.764 1958.43,251.724 \n",
       "  \"/>\n",
       "<polyline clip-path=\"url(#clip5300)\" style=\"stroke:#000000; stroke-width:4; stroke-opacity:1; fill:none\" points=\"\n",
       "  1982.43,191.244 2126.43,191.244 \n",
       "  \"/>\n",
       "<g clip-path=\"url(#clip5300)\">\n",
       "<text style=\"fill:#000000; fill-opacity:1; font-family:Arial,Helvetica Neue,Helvetica,sans-serif; font-size:48px; text-anchor:start;\" transform=\"rotate(0, 2150.43, 208.744)\" x=\"2150.43\" y=\"208.744\">y1</text>\n",
       "</g>\n",
       "</svg>\n"
      ]
     },
     "execution_count": 3,
     "metadata": {},
     "output_type": "execute_result"
    }
   ],
   "source": [
    "plot(tiempo,totales, c=:black,lw=1)"
   ]
  },
  {
   "cell_type": "markdown",
   "metadata": {},
   "source": [
    "Esta gráfica es muy rara. Debemos ver los datos con cuidado. En la segunda columna de \"year\" podemos ver que los años se repiten y en la columan \"Record\" podemos ver dos etiquetas: \"BioCapPerCap\" y \"EFConsPerCap\".\n",
    "\n",
    "Es por eso que debemos dividir en dos nuestros arreglos."
   ]
  },
  {
   "cell_type": "code",
   "execution_count": 11,
   "metadata": {},
   "outputs": [
    {
     "data": {
      "image/svg+xml": [
       "<?xml version=\"1.0\" encoding=\"utf-8\"?>\n",
       "<svg xmlns=\"http://www.w3.org/2000/svg\" xmlns:xlink=\"http://www.w3.org/1999/xlink\" width=\"600\" height=\"400\" viewBox=\"0 0 2400 1600\">\n",
       "<defs>\n",
       "  <clipPath id=\"clip7300\">\n",
       "    <rect x=\"0\" y=\"0\" width=\"2400\" height=\"1600\"/>\n",
       "  </clipPath>\n",
       "</defs>\n",
       "<polygon clip-path=\"url(#clip7300)\" points=\"\n",
       "0,1600 2400,1600 2400,0 0,0 \n",
       "  \" fill=\"#ffffff\" fill-rule=\"evenodd\" fill-opacity=\"1\"/>\n",
       "<defs>\n",
       "  <clipPath id=\"clip7301\">\n",
       "    <rect x=\"480\" y=\"0\" width=\"1681\" height=\"1600\"/>\n",
       "  </clipPath>\n",
       "</defs>\n",
       "<polygon clip-path=\"url(#clip7300)\" points=\"\n",
       "161.394,1503.47 2321.26,1503.47 2321.26,47.2441 161.394,47.2441 \n",
       "  \" fill=\"#ffffff\" fill-rule=\"evenodd\" fill-opacity=\"1\"/>\n",
       "<defs>\n",
       "  <clipPath id=\"clip7302\">\n",
       "    <rect x=\"161\" y=\"47\" width=\"2161\" height=\"1457\"/>\n",
       "  </clipPath>\n",
       "</defs>\n",
       "<polyline clip-path=\"url(#clip7302)\" style=\"stroke:#000000; stroke-width:2; stroke-opacity:0.1; fill:none\" points=\"\n",
       "  185.475,1503.47 185.475,47.2441 \n",
       "  \"/>\n",
       "<polyline clip-path=\"url(#clip7302)\" style=\"stroke:#000000; stroke-width:2; stroke-opacity:0.1; fill:none\" points=\"\n",
       "  555.949,1503.47 555.949,47.2441 \n",
       "  \"/>\n",
       "<polyline clip-path=\"url(#clip7302)\" style=\"stroke:#000000; stroke-width:2; stroke-opacity:0.1; fill:none\" points=\"\n",
       "  926.424,1503.47 926.424,47.2441 \n",
       "  \"/>\n",
       "<polyline clip-path=\"url(#clip7302)\" style=\"stroke:#000000; stroke-width:2; stroke-opacity:0.1; fill:none\" points=\"\n",
       "  1296.9,1503.47 1296.9,47.2441 \n",
       "  \"/>\n",
       "<polyline clip-path=\"url(#clip7302)\" style=\"stroke:#000000; stroke-width:2; stroke-opacity:0.1; fill:none\" points=\"\n",
       "  1667.37,1503.47 1667.37,47.2441 \n",
       "  \"/>\n",
       "<polyline clip-path=\"url(#clip7302)\" style=\"stroke:#000000; stroke-width:2; stroke-opacity:0.1; fill:none\" points=\"\n",
       "  2037.85,1503.47 2037.85,47.2441 \n",
       "  \"/>\n",
       "<polyline clip-path=\"url(#clip7302)\" style=\"stroke:#000000; stroke-width:2; stroke-opacity:0.1; fill:none\" points=\"\n",
       "  161.394,1304.88 2321.26,1304.88 \n",
       "  \"/>\n",
       "<polyline clip-path=\"url(#clip7302)\" style=\"stroke:#000000; stroke-width:2; stroke-opacity:0.1; fill:none\" points=\"\n",
       "  161.394,1027.55 2321.26,1027.55 \n",
       "  \"/>\n",
       "<polyline clip-path=\"url(#clip7302)\" style=\"stroke:#000000; stroke-width:2; stroke-opacity:0.1; fill:none\" points=\"\n",
       "  161.394,750.222 2321.26,750.222 \n",
       "  \"/>\n",
       "<polyline clip-path=\"url(#clip7302)\" style=\"stroke:#000000; stroke-width:2; stroke-opacity:0.1; fill:none\" points=\"\n",
       "  161.394,472.894 2321.26,472.894 \n",
       "  \"/>\n",
       "<polyline clip-path=\"url(#clip7302)\" style=\"stroke:#000000; stroke-width:2; stroke-opacity:0.1; fill:none\" points=\"\n",
       "  161.394,195.566 2321.26,195.566 \n",
       "  \"/>\n",
       "<polyline clip-path=\"url(#clip7300)\" style=\"stroke:#000000; stroke-width:4; stroke-opacity:1; fill:none\" points=\"\n",
       "  161.394,1503.47 2321.26,1503.47 \n",
       "  \"/>\n",
       "<polyline clip-path=\"url(#clip7300)\" style=\"stroke:#000000; stroke-width:4; stroke-opacity:1; fill:none\" points=\"\n",
       "  161.394,1503.47 161.394,47.2441 \n",
       "  \"/>\n",
       "<polyline clip-path=\"url(#clip7300)\" style=\"stroke:#000000; stroke-width:4; stroke-opacity:1; fill:none\" points=\"\n",
       "  185.475,1503.47 185.475,1481.63 \n",
       "  \"/>\n",
       "<polyline clip-path=\"url(#clip7300)\" style=\"stroke:#000000; stroke-width:4; stroke-opacity:1; fill:none\" points=\"\n",
       "  555.949,1503.47 555.949,1481.63 \n",
       "  \"/>\n",
       "<polyline clip-path=\"url(#clip7300)\" style=\"stroke:#000000; stroke-width:4; stroke-opacity:1; fill:none\" points=\"\n",
       "  926.424,1503.47 926.424,1481.63 \n",
       "  \"/>\n",
       "<polyline clip-path=\"url(#clip7300)\" style=\"stroke:#000000; stroke-width:4; stroke-opacity:1; fill:none\" points=\"\n",
       "  1296.9,1503.47 1296.9,1481.63 \n",
       "  \"/>\n",
       "<polyline clip-path=\"url(#clip7300)\" style=\"stroke:#000000; stroke-width:4; stroke-opacity:1; fill:none\" points=\"\n",
       "  1667.37,1503.47 1667.37,1481.63 \n",
       "  \"/>\n",
       "<polyline clip-path=\"url(#clip7300)\" style=\"stroke:#000000; stroke-width:4; stroke-opacity:1; fill:none\" points=\"\n",
       "  2037.85,1503.47 2037.85,1481.63 \n",
       "  \"/>\n",
       "<polyline clip-path=\"url(#clip7300)\" style=\"stroke:#000000; stroke-width:4; stroke-opacity:1; fill:none\" points=\"\n",
       "  161.394,1304.88 193.792,1304.88 \n",
       "  \"/>\n",
       "<polyline clip-path=\"url(#clip7300)\" style=\"stroke:#000000; stroke-width:4; stroke-opacity:1; fill:none\" points=\"\n",
       "  161.394,1027.55 193.792,1027.55 \n",
       "  \"/>\n",
       "<polyline clip-path=\"url(#clip7300)\" style=\"stroke:#000000; stroke-width:4; stroke-opacity:1; fill:none\" points=\"\n",
       "  161.394,750.222 193.792,750.222 \n",
       "  \"/>\n",
       "<polyline clip-path=\"url(#clip7300)\" style=\"stroke:#000000; stroke-width:4; stroke-opacity:1; fill:none\" points=\"\n",
       "  161.394,472.894 193.792,472.894 \n",
       "  \"/>\n",
       "<polyline clip-path=\"url(#clip7300)\" style=\"stroke:#000000; stroke-width:4; stroke-opacity:1; fill:none\" points=\"\n",
       "  161.394,195.566 193.792,195.566 \n",
       "  \"/>\n",
       "<g clip-path=\"url(#clip7300)\">\n",
       "<text style=\"fill:#000000; fill-opacity:1; font-family:Arial,Helvetica Neue,Helvetica,sans-serif; font-size:48px; text-anchor:middle;\" transform=\"rotate(0, 185.475, 1557.47)\" x=\"185.475\" y=\"1557.47\">1960</text>\n",
       "</g>\n",
       "<g clip-path=\"url(#clip7300)\">\n",
       "<text style=\"fill:#000000; fill-opacity:1; font-family:Arial,Helvetica Neue,Helvetica,sans-serif; font-size:48px; text-anchor:middle;\" transform=\"rotate(0, 555.949, 1557.47)\" x=\"555.949\" y=\"1557.47\">1970</text>\n",
       "</g>\n",
       "<g clip-path=\"url(#clip7300)\">\n",
       "<text style=\"fill:#000000; fill-opacity:1; font-family:Arial,Helvetica Neue,Helvetica,sans-serif; font-size:48px; text-anchor:middle;\" transform=\"rotate(0, 926.424, 1557.47)\" x=\"926.424\" y=\"1557.47\">1980</text>\n",
       "</g>\n",
       "<g clip-path=\"url(#clip7300)\">\n",
       "<text style=\"fill:#000000; fill-opacity:1; font-family:Arial,Helvetica Neue,Helvetica,sans-serif; font-size:48px; text-anchor:middle;\" transform=\"rotate(0, 1296.9, 1557.47)\" x=\"1296.9\" y=\"1557.47\">1990</text>\n",
       "</g>\n",
       "<g clip-path=\"url(#clip7300)\">\n",
       "<text style=\"fill:#000000; fill-opacity:1; font-family:Arial,Helvetica Neue,Helvetica,sans-serif; font-size:48px; text-anchor:middle;\" transform=\"rotate(0, 1667.37, 1557.47)\" x=\"1667.37\" y=\"1557.47\">2000</text>\n",
       "</g>\n",
       "<g clip-path=\"url(#clip7300)\">\n",
       "<text style=\"fill:#000000; fill-opacity:1; font-family:Arial,Helvetica Neue,Helvetica,sans-serif; font-size:48px; text-anchor:middle;\" transform=\"rotate(0, 2037.85, 1557.47)\" x=\"2037.85\" y=\"1557.47\">2010</text>\n",
       "</g>\n",
       "<g clip-path=\"url(#clip7300)\">\n",
       "<text style=\"fill:#000000; fill-opacity:1; font-family:Arial,Helvetica Neue,Helvetica,sans-serif; font-size:48px; text-anchor:end;\" transform=\"rotate(0, 137.394, 1322.38)\" x=\"137.394\" y=\"1322.38\">1.8</text>\n",
       "</g>\n",
       "<g clip-path=\"url(#clip7300)\">\n",
       "<text style=\"fill:#000000; fill-opacity:1; font-family:Arial,Helvetica Neue,Helvetica,sans-serif; font-size:48px; text-anchor:end;\" transform=\"rotate(0, 137.394, 1045.05)\" x=\"137.394\" y=\"1045.05\">2.1</text>\n",
       "</g>\n",
       "<g clip-path=\"url(#clip7300)\">\n",
       "<text style=\"fill:#000000; fill-opacity:1; font-family:Arial,Helvetica Neue,Helvetica,sans-serif; font-size:48px; text-anchor:end;\" transform=\"rotate(0, 137.394, 767.722)\" x=\"137.394\" y=\"767.722\">2.4</text>\n",
       "</g>\n",
       "<g clip-path=\"url(#clip7300)\">\n",
       "<text style=\"fill:#000000; fill-opacity:1; font-family:Arial,Helvetica Neue,Helvetica,sans-serif; font-size:48px; text-anchor:end;\" transform=\"rotate(0, 137.394, 490.394)\" x=\"137.394\" y=\"490.394\">2.7</text>\n",
       "</g>\n",
       "<g clip-path=\"url(#clip7300)\">\n",
       "<text style=\"fill:#000000; fill-opacity:1; font-family:Arial,Helvetica Neue,Helvetica,sans-serif; font-size:48px; text-anchor:end;\" transform=\"rotate(0, 137.394, 213.066)\" x=\"137.394\" y=\"213.066\">3.0</text>\n",
       "</g>\n",
       "<polyline clip-path=\"url(#clip7302)\" style=\"stroke:#009af9; stroke-width:4; stroke-opacity:1; fill:none\" points=\"\n",
       "  222.522,88.4582 259.57,124.85 296.617,179.801 333.665,219.583 370.712,267.403 407.76,294.727 444.807,335.785 481.854,380.892 518.902,430.654 555.949,466.742 \n",
       "  592.997,496.68 630.044,556.151 667.092,577.071 704.139,633.797 741.186,675.692 778.234,697.859 815.281,737.447 852.329,743.308 889.376,788.655 926.424,826.315 \n",
       "  963.471,843.767 1000.52,859.105 1037.57,907.95 1074.61,908.607 1111.66,937.091 1148.71,965.314 1185.76,998.363 1222.8,1045.91 1259.85,1051.64 1296.9,1056.65 \n",
       "  1333.95,1101.98 1370.99,1100.73 1408.04,1137.17 1445.09,1150.18 1482.14,1184.28 1519.18,1179.95 1556.23,1197.37 1593.28,1208.95 1630.33,1225.95 1667.37,1250.1 \n",
       "  1704.42,1262.54 1741.47,1286.58 1778.51,1310.94 1815.56,1295.52 1852.61,1328.71 1889.66,1344.93 1926.7,1359.11 1963.75,1353.78 2000.8,1380.05 2037.85,1396.58 \n",
       "  2074.89,1404.51 2111.94,1428.34 2148.99,1421.03 2186.04,1428.74 2223.08,1447.75 2260.13,1462.26 \n",
       "  \"/>\n",
       "<polygon clip-path=\"url(#clip7300)\" points=\"\n",
       "1088.9,251.724 2249.26,251.724 2249.26,130.764 1088.9,130.764 \n",
       "  \" fill=\"#ffffff\" fill-rule=\"evenodd\" fill-opacity=\"1\"/>\n",
       "<polyline clip-path=\"url(#clip7300)\" style=\"stroke:#000000; stroke-width:4; stroke-opacity:1; fill:none\" points=\"\n",
       "  1088.9,251.724 2249.26,251.724 2249.26,130.764 1088.9,130.764 1088.9,251.724 \n",
       "  \"/>\n",
       "<polyline clip-path=\"url(#clip7300)\" style=\"stroke:#009af9; stroke-width:4; stroke-opacity:1; fill:none\" points=\"\n",
       "  1112.9,191.244 1256.9,191.244 \n",
       "  \"/>\n",
       "<g clip-path=\"url(#clip7300)\">\n",
       "<text style=\"fill:#000000; fill-opacity:1; font-family:Arial,Helvetica Neue,Helvetica,sans-serif; font-size:48px; text-anchor:start;\" transform=\"rotate(0, 1280.9, 208.744)\" x=\"1280.9\" y=\"208.744\">Biocapacidad de regeneración por persona</text>\n",
       "</g>\n",
       "</svg>\n"
      ]
     },
     "execution_count": 11,
     "metadata": {},
     "output_type": "execute_result"
    }
   ],
   "source": [
    "plot(tiempo[1:2:end],totales[1:2:end],lab=\"Biocapacidad de regeneración por persona\")"
   ]
  },
  {
   "cell_type": "code",
   "execution_count": 12,
   "metadata": {},
   "outputs": [
    {
     "data": {
      "image/svg+xml": [
       "<?xml version=\"1.0\" encoding=\"utf-8\"?>\n",
       "<svg xmlns=\"http://www.w3.org/2000/svg\" xmlns:xlink=\"http://www.w3.org/1999/xlink\" width=\"600\" height=\"400\" viewBox=\"0 0 2400 1600\">\n",
       "<defs>\n",
       "  <clipPath id=\"clip7700\">\n",
       "    <rect x=\"0\" y=\"0\" width=\"2400\" height=\"1600\"/>\n",
       "  </clipPath>\n",
       "</defs>\n",
       "<polygon clip-path=\"url(#clip7700)\" points=\"\n",
       "0,1600 2400,1600 2400,0 0,0 \n",
       "  \" fill=\"#ffffff\" fill-rule=\"evenodd\" fill-opacity=\"1\"/>\n",
       "<defs>\n",
       "  <clipPath id=\"clip7701\">\n",
       "    <rect x=\"480\" y=\"0\" width=\"1681\" height=\"1600\"/>\n",
       "  </clipPath>\n",
       "</defs>\n",
       "<polygon clip-path=\"url(#clip7700)\" points=\"\n",
       "224.386,1440.48 2321.26,1440.48 2321.26,47.2441 224.386,47.2441 \n",
       "  \" fill=\"#ffffff\" fill-rule=\"evenodd\" fill-opacity=\"1\"/>\n",
       "<defs>\n",
       "  <clipPath id=\"clip7702\">\n",
       "    <rect x=\"224\" y=\"47\" width=\"2098\" height=\"1394\"/>\n",
       "  </clipPath>\n",
       "</defs>\n",
       "<polyline clip-path=\"url(#clip7702)\" style=\"stroke:#000000; stroke-width:2; stroke-opacity:0.1; fill:none\" points=\"\n",
       "  247.765,1440.48 247.765,47.2441 \n",
       "  \"/>\n",
       "<polyline clip-path=\"url(#clip7702)\" style=\"stroke:#000000; stroke-width:2; stroke-opacity:0.1; fill:none\" points=\"\n",
       "  607.434,1440.48 607.434,47.2441 \n",
       "  \"/>\n",
       "<polyline clip-path=\"url(#clip7702)\" style=\"stroke:#000000; stroke-width:2; stroke-opacity:0.1; fill:none\" points=\"\n",
       "  967.104,1440.48 967.104,47.2441 \n",
       "  \"/>\n",
       "<polyline clip-path=\"url(#clip7702)\" style=\"stroke:#000000; stroke-width:2; stroke-opacity:0.1; fill:none\" points=\"\n",
       "  1326.77,1440.48 1326.77,47.2441 \n",
       "  \"/>\n",
       "<polyline clip-path=\"url(#clip7702)\" style=\"stroke:#000000; stroke-width:2; stroke-opacity:0.1; fill:none\" points=\"\n",
       "  1686.44,1440.48 1686.44,47.2441 \n",
       "  \"/>\n",
       "<polyline clip-path=\"url(#clip7702)\" style=\"stroke:#000000; stroke-width:2; stroke-opacity:0.1; fill:none\" points=\"\n",
       "  2046.11,1440.48 2046.11,47.2441 \n",
       "  \"/>\n",
       "<polyline clip-path=\"url(#clip7702)\" style=\"stroke:#000000; stroke-width:2; stroke-opacity:0.1; fill:none\" points=\"\n",
       "  224.386,1250.48 2321.26,1250.48 \n",
       "  \"/>\n",
       "<polyline clip-path=\"url(#clip7702)\" style=\"stroke:#000000; stroke-width:2; stroke-opacity:0.1; fill:none\" points=\"\n",
       "  224.386,985.145 2321.26,985.145 \n",
       "  \"/>\n",
       "<polyline clip-path=\"url(#clip7702)\" style=\"stroke:#000000; stroke-width:2; stroke-opacity:0.1; fill:none\" points=\"\n",
       "  224.386,719.813 2321.26,719.813 \n",
       "  \"/>\n",
       "<polyline clip-path=\"url(#clip7702)\" style=\"stroke:#000000; stroke-width:2; stroke-opacity:0.1; fill:none\" points=\"\n",
       "  224.386,454.482 2321.26,454.482 \n",
       "  \"/>\n",
       "<polyline clip-path=\"url(#clip7702)\" style=\"stroke:#000000; stroke-width:2; stroke-opacity:0.1; fill:none\" points=\"\n",
       "  224.386,189.15 2321.26,189.15 \n",
       "  \"/>\n",
       "<polyline clip-path=\"url(#clip7700)\" style=\"stroke:#000000; stroke-width:4; stroke-opacity:1; fill:none\" points=\"\n",
       "  224.386,1440.48 2321.26,1440.48 \n",
       "  \"/>\n",
       "<polyline clip-path=\"url(#clip7700)\" style=\"stroke:#000000; stroke-width:4; stroke-opacity:1; fill:none\" points=\"\n",
       "  224.386,1440.48 224.386,47.2441 \n",
       "  \"/>\n",
       "<polyline clip-path=\"url(#clip7700)\" style=\"stroke:#000000; stroke-width:4; stroke-opacity:1; fill:none\" points=\"\n",
       "  247.765,1440.48 247.765,1419.58 \n",
       "  \"/>\n",
       "<polyline clip-path=\"url(#clip7700)\" style=\"stroke:#000000; stroke-width:4; stroke-opacity:1; fill:none\" points=\"\n",
       "  607.434,1440.48 607.434,1419.58 \n",
       "  \"/>\n",
       "<polyline clip-path=\"url(#clip7700)\" style=\"stroke:#000000; stroke-width:4; stroke-opacity:1; fill:none\" points=\"\n",
       "  967.104,1440.48 967.104,1419.58 \n",
       "  \"/>\n",
       "<polyline clip-path=\"url(#clip7700)\" style=\"stroke:#000000; stroke-width:4; stroke-opacity:1; fill:none\" points=\"\n",
       "  1326.77,1440.48 1326.77,1419.58 \n",
       "  \"/>\n",
       "<polyline clip-path=\"url(#clip7700)\" style=\"stroke:#000000; stroke-width:4; stroke-opacity:1; fill:none\" points=\"\n",
       "  1686.44,1440.48 1686.44,1419.58 \n",
       "  \"/>\n",
       "<polyline clip-path=\"url(#clip7700)\" style=\"stroke:#000000; stroke-width:4; stroke-opacity:1; fill:none\" points=\"\n",
       "  2046.11,1440.48 2046.11,1419.58 \n",
       "  \"/>\n",
       "<polyline clip-path=\"url(#clip7700)\" style=\"stroke:#000000; stroke-width:4; stroke-opacity:1; fill:none\" points=\"\n",
       "  224.386,1250.48 255.839,1250.48 \n",
       "  \"/>\n",
       "<polyline clip-path=\"url(#clip7700)\" style=\"stroke:#000000; stroke-width:4; stroke-opacity:1; fill:none\" points=\"\n",
       "  224.386,985.145 255.839,985.145 \n",
       "  \"/>\n",
       "<polyline clip-path=\"url(#clip7700)\" style=\"stroke:#000000; stroke-width:4; stroke-opacity:1; fill:none\" points=\"\n",
       "  224.386,719.813 255.839,719.813 \n",
       "  \"/>\n",
       "<polyline clip-path=\"url(#clip7700)\" style=\"stroke:#000000; stroke-width:4; stroke-opacity:1; fill:none\" points=\"\n",
       "  224.386,454.482 255.839,454.482 \n",
       "  \"/>\n",
       "<polyline clip-path=\"url(#clip7700)\" style=\"stroke:#000000; stroke-width:4; stroke-opacity:1; fill:none\" points=\"\n",
       "  224.386,189.15 255.839,189.15 \n",
       "  \"/>\n",
       "<g clip-path=\"url(#clip7700)\">\n",
       "<text style=\"fill:#000000; fill-opacity:1; font-family:Arial,Helvetica Neue,Helvetica,sans-serif; font-size:48px; text-anchor:middle;\" transform=\"rotate(0, 247.765, 1494.48)\" x=\"247.765\" y=\"1494.48\">1960</text>\n",
       "</g>\n",
       "<g clip-path=\"url(#clip7700)\">\n",
       "<text style=\"fill:#000000; fill-opacity:1; font-family:Arial,Helvetica Neue,Helvetica,sans-serif; font-size:48px; text-anchor:middle;\" transform=\"rotate(0, 607.434, 1494.48)\" x=\"607.434\" y=\"1494.48\">1970</text>\n",
       "</g>\n",
       "<g clip-path=\"url(#clip7700)\">\n",
       "<text style=\"fill:#000000; fill-opacity:1; font-family:Arial,Helvetica Neue,Helvetica,sans-serif; font-size:48px; text-anchor:middle;\" transform=\"rotate(0, 967.104, 1494.48)\" x=\"967.104\" y=\"1494.48\">1980</text>\n",
       "</g>\n",
       "<g clip-path=\"url(#clip7700)\">\n",
       "<text style=\"fill:#000000; fill-opacity:1; font-family:Arial,Helvetica Neue,Helvetica,sans-serif; font-size:48px; text-anchor:middle;\" transform=\"rotate(0, 1326.77, 1494.48)\" x=\"1326.77\" y=\"1494.48\">1990</text>\n",
       "</g>\n",
       "<g clip-path=\"url(#clip7700)\">\n",
       "<text style=\"fill:#000000; fill-opacity:1; font-family:Arial,Helvetica Neue,Helvetica,sans-serif; font-size:48px; text-anchor:middle;\" transform=\"rotate(0, 1686.44, 1494.48)\" x=\"1686.44\" y=\"1494.48\">2000</text>\n",
       "</g>\n",
       "<g clip-path=\"url(#clip7700)\">\n",
       "<text style=\"fill:#000000; fill-opacity:1; font-family:Arial,Helvetica Neue,Helvetica,sans-serif; font-size:48px; text-anchor:middle;\" transform=\"rotate(0, 2046.11, 1494.48)\" x=\"2046.11\" y=\"1494.48\">2010</text>\n",
       "</g>\n",
       "<g clip-path=\"url(#clip7700)\">\n",
       "<text style=\"fill:#000000; fill-opacity:1; font-family:Arial,Helvetica Neue,Helvetica,sans-serif; font-size:48px; text-anchor:end;\" transform=\"rotate(0, 200.386, 1267.98)\" x=\"200.386\" y=\"1267.98\">1.8</text>\n",
       "</g>\n",
       "<g clip-path=\"url(#clip7700)\">\n",
       "<text style=\"fill:#000000; fill-opacity:1; font-family:Arial,Helvetica Neue,Helvetica,sans-serif; font-size:48px; text-anchor:end;\" transform=\"rotate(0, 200.386, 1002.64)\" x=\"200.386\" y=\"1002.64\">2.1</text>\n",
       "</g>\n",
       "<g clip-path=\"url(#clip7700)\">\n",
       "<text style=\"fill:#000000; fill-opacity:1; font-family:Arial,Helvetica Neue,Helvetica,sans-serif; font-size:48px; text-anchor:end;\" transform=\"rotate(0, 200.386, 737.313)\" x=\"200.386\" y=\"737.313\">2.4</text>\n",
       "</g>\n",
       "<g clip-path=\"url(#clip7700)\">\n",
       "<text style=\"fill:#000000; fill-opacity:1; font-family:Arial,Helvetica Neue,Helvetica,sans-serif; font-size:48px; text-anchor:end;\" transform=\"rotate(0, 200.386, 471.982)\" x=\"200.386\" y=\"471.982\">2.7</text>\n",
       "</g>\n",
       "<g clip-path=\"url(#clip7700)\">\n",
       "<text style=\"fill:#000000; fill-opacity:1; font-family:Arial,Helvetica Neue,Helvetica,sans-serif; font-size:48px; text-anchor:end;\" transform=\"rotate(0, 200.386, 206.65)\" x=\"200.386\" y=\"206.65\">3.0</text>\n",
       "</g>\n",
       "<g clip-path=\"url(#clip7700)\">\n",
       "<text style=\"fill:#000000; fill-opacity:1; font-family:Arial,Helvetica Neue,Helvetica,sans-serif; font-size:66px; text-anchor:middle;\" transform=\"rotate(0, 1272.82, 1590.4)\" x=\"1272.82\" y=\"1590.4\">Año</text>\n",
       "</g>\n",
       "<g clip-path=\"url(#clip7700)\">\n",
       "<text style=\"fill:#000000; fill-opacity:1; font-family:Arial,Helvetica Neue,Helvetica,sans-serif; font-size:66px; text-anchor:middle;\" transform=\"rotate(-90, 57.6, 743.863)\" x=\"57.6\" y=\"743.863\">Hectáreas globales por persona</text>\n",
       "</g>\n",
       "<polyline clip-path=\"url(#clip7702)\" style=\"stroke:#009af9; stroke-width:4; stroke-opacity:1; fill:none\" points=\"\n",
       "  283.732,86.6754 319.699,121.493 355.666,174.067 391.633,212.129 427.599,257.879 463.566,284.021 499.533,323.303 535.5,366.46 571.467,414.069 607.434,448.595 \n",
       "  643.401,477.238 679.368,534.138 715.335,554.152 751.302,608.425 787.269,648.507 823.236,669.715 859.203,707.59 895.17,713.198 931.137,756.584 967.104,792.614 \n",
       "  1003.07,809.312 1039.04,823.987 1075,870.719 1110.97,871.347 1146.94,898.599 1182.91,925.601 1218.87,957.22 1254.84,1002.71 1290.81,1008.2 1326.77,1012.98 \n",
       "  1362.74,1056.36 1398.71,1055.16 1434.67,1090.02 1470.64,1102.47 1506.61,1135.1 1542.58,1130.95 1578.54,1147.62 1614.51,1158.69 1650.48,1174.97 1686.44,1198.07 \n",
       "  1722.41,1209.97 1758.38,1232.97 1794.34,1256.27 1830.31,1241.52 1866.28,1273.28 1902.24,1288.79 1938.21,1302.36 1974.18,1297.27 2010.15,1322.4 2046.11,1338.21 \n",
       "  2082.08,1345.8 2118.05,1368.59 2154.01,1361.61 2189.98,1368.99 2225.95,1387.17 2261.91,1401.05 \n",
       "  \"/>\n",
       "<polyline clip-path=\"url(#clip7702)\" style=\"stroke:#e26f46; stroke-width:4; stroke-opacity:1; fill:none\" points=\"\n",
       "  283.732,824.391 319.699,796.499 355.666,757.353 391.633,711.915 427.599,677.225 463.566,629.047 499.533,613.615 535.5,573.818 571.467,524.795 607.434,434.829 \n",
       "  643.401,402.02 679.368,386.929 715.335,306.616 751.302,378.255 787.269,440.389 823.236,364.783 859.203,361.583 895.17,337.074 931.137,318.603 967.104,407.076 \n",
       "  1003.07,480.004 1039.04,528.55 1075,575.573 1110.97,521.519 1146.94,531.578 1182.91,529.916 1218.87,512.74 1254.84,504.994 1290.81,484.82 1326.77,488.207 \n",
       "  1362.74,534.819 1398.71,553.486 1434.67,594.446 1470.64,595.386 1506.61,589.437 1542.58,565.532 1578.54,561.358 1614.51,580.573 1650.48,600.393 1686.44,580.566 \n",
       "  1722.41,585.815 1758.38,592.375 1794.34,539.735 1830.31,443.916 1866.28,418.643 1902.24,385.288 1938.21,347.867 1974.18,347.036 2010.15,421.281 2046.11,329.529 \n",
       "  2082.08,307.161 2118.05,346.4 2154.01,320.229 2189.98,344.691 2225.95,386.2 2261.91,413.25 \n",
       "  \"/>\n",
       "<polygon clip-path=\"url(#clip7700)\" points=\"\n",
       "917.732,312.204 2249.26,312.204 2249.26,130.764 917.732,130.764 \n",
       "  \" fill=\"#ffffff\" fill-rule=\"evenodd\" fill-opacity=\"1\"/>\n",
       "<polyline clip-path=\"url(#clip7700)\" style=\"stroke:#000000; stroke-width:4; stroke-opacity:1; fill:none\" points=\"\n",
       "  917.732,312.204 2249.26,312.204 2249.26,130.764 917.732,130.764 917.732,312.204 \n",
       "  \"/>\n",
       "<polyline clip-path=\"url(#clip7700)\" style=\"stroke:#009af9; stroke-width:4; stroke-opacity:1; fill:none\" points=\"\n",
       "  941.732,191.244 1085.73,191.244 \n",
       "  \"/>\n",
       "<g clip-path=\"url(#clip7700)\">\n",
       "<text style=\"fill:#000000; fill-opacity:1; font-family:Arial,Helvetica Neue,Helvetica,sans-serif; font-size:48px; text-anchor:start;\" transform=\"rotate(0, 1109.73, 208.744)\" x=\"1109.73\" y=\"208.744\">Biocapacidad de regeneración por persona</text>\n",
       "</g>\n",
       "<polyline clip-path=\"url(#clip7700)\" style=\"stroke:#e26f46; stroke-width:4; stroke-opacity:1; fill:none\" points=\"\n",
       "  941.732,251.724 1085.73,251.724 \n",
       "  \"/>\n",
       "<g clip-path=\"url(#clip7700)\">\n",
       "<text style=\"fill:#000000; fill-opacity:1; font-family:Arial,Helvetica Neue,Helvetica,sans-serif; font-size:48px; text-anchor:start;\" transform=\"rotate(0, 1109.73, 269.224)\" x=\"1109.73\" y=\"269.224\">Huella ecológica por persona neración por persona</text>\n",
       "</g>\n",
       "</svg>\n"
      ]
     },
     "execution_count": 12,
     "metadata": {},
     "output_type": "execute_result"
    }
   ],
   "source": [
    "plot!(tiempo[2:2:end],totales[2:2:end],lab=\"Huella ecológica por persona regeneración por persona\",xlabel=\"Año\",ylabel=\"Hectáreas globales por persona\")"
   ]
  },
  {
   "cell_type": "markdown",
   "metadata": {},
   "source": [
    "## Ejercicio\n",
    "* ¿Cuál es el papel de México en estos años? Haz dos gráficas en las que se muestre la evolución de la huella ecológica en persona y en número de tierras.\n",
    "* Grafica la evolución temporal de huella ecológica por persona para cada uno de los recursos en México.\n",
    "\n",
    "Aquí podrás descargar los datos de México: en hectáreas globales por [persona](https://github.com/mvillasante/Programacion_I/blob/master/Notas/Mexico_gha_per_person.csv) y número de [tierras](https://github.com/mvillasante/Programacion_I/blob/master/Notas/Mexico_numeros_tierras.csv) "
   ]
  },
  {
   "cell_type": "code",
   "execution_count": 1,
   "metadata": {},
   "outputs": [
    {
     "data": {
      "text/plain": [
       "\"/home/mvb/Documentos/UABJO/Programacion/Programacion_I/Notas\""
      ]
     },
     "execution_count": 1,
     "metadata": {},
     "output_type": "execute_result"
    }
   ],
   "source": [
    "pwd()"
   ]
  },
  {
   "cell_type": "code",
   "execution_count": 2,
   "metadata": {},
   "outputs": [
    {
     "data": {
      "text/plain": [
       "57-element Array{String,1}:\n",
       " \"Country Name,Short Name,year,Record,Built-up Land,Carbon,Cropland,Fishing Grounds,Forest Products,Grazing Land,Total,Data Quality Score,isoa2\"                               \n",
       " \"Mexico,Mexico,1961,Earths,0.006908271212901995,0.14646830533517388,0.11864868718201825,0.0053524036820543535,0.09395637935455024,0.22197911120544728,0.593313157972145,3A,MX\"\n",
       " \"Mexico,Mexico,1962,Earths,0.007180455420221026,0.1416507407662082,0.11535818588716153,0.005817062024535673,0.09685873651200408,0.21298796984986385,0.5798531504599942,3A,MX\" \n",
       " \"Mexico,Mexico,1963,Earths,0.007844254471212569,0.15200739285623135,0.12622320006038343,0.00682723909069282,0.09883404039319231,0.2138430065164504,0.6055791333881619,3A,MX\"  \n",
       " \"Mexico,Mexico,1964,Earths,0.009459624381233621,0.1714497190396382,0.14174119730412316,0.006951473449780245,0.09984690907463278,0.2197994916648407,0.6492484149142475,3A,MX\"  \n",
       " \"Mexico,Mexico,1965,Earths,0.009950154551787245,0.1741085823262507,0.13692441783458542,0.007306131113923039,0.10209588943825969,0.21506805865245976,0.6454532339172665,3A,MX\" \n",
       " \"Mexico,Mexico,1966,Earths,0.010957564134163466,0.18523924928575433,0.15067245970691445,0.007891179635501738,0.10036356230926327,0.20770864541792539,0.6628326604895234,3A,MX\"\n",
       " \"Mexico,Mexico,1967,Earths,0.011099616655943797,0.2051908341256038,0.1437367240357669,0.009142949184350328,0.10416880537027767,0.20754530896499443,0.6808842383369371,3A,MX\"  \n",
       " \"Mexico,Mexico,1968,Earths,0.01205921484458352,0.21275794486564487,0.1569746925510212,0.0094358108022385,0.10434215777111595,0.19998372665967235,0.695553547494278,3A,MX\"     \n",
       " \"Mexico,Mexico,1969,Earths,0.012053959045852486,0.2309210216917232,0.1487569941391021,0.009264022411431153,0.10654063472710787,0.19268350809479523,0.7002201401100119,3A,MX\"  \n",
       " \"Mexico,Mexico,1970,Earths,0.01398674494089881,0.2588834808692463,0.1771419507040579,0.009471751257464803,0.11201036702865202,0.18923623959766164,0.7607305343979808,3A,MX\"   \n",
       " \"Mexico,Mexico,1971,Earths,0.013803756456383537,0.28047683851596733,0.16663347381675092,0.011201016288900738,0.10450570728571508,0.1880496153327673,0.7646704076964869,3A,MX\" \n",
       " \"Mexico,Mexico,1972,Earths,0.013725165991150989,0.3161627058412117,0.16201196624423522,0.011862173029235795,0.10525962110076108,0.18302487436732653,0.7920465065739196,3A,MX\" \n",
       " ⋮                                                                                                                                                                             \n",
       " \"Mexico,Mexico,2005,Earths,0.021723266823851926,0.8715581571032667,0.3359206475576123,0.04454427798692314,0.163746005289072,0.1788310955707802,1.6163234503315056,3A,MX\"      \n",
       " \"Mexico,Mexico,2006,Earths,0.024294978630749704,0.9292589567912808,0.3608494998526976,0.04019134324097326,0.18002314340024453,0.17805602962464454,1.7126739515405895,3A,MX\"   \n",
       " \"Mexico,Mexico,2007,Earths,0.02427822682608536,0.9743507714672314,0.3484231599717445,0.043667428127107805,0.18506655590320217,0.1814497165979919,1.7572358588933652,3A,MX\"    \n",
       " \"Mexico,Mexico,2008,Earths,0.025188820974004787,1.0351702733469674,0.32629020744750464,0.041680746608236244,0.17270661617620986,0.17973461184086645,1.7807712763937866,3A,MX\" \n",
       " \"Mexico,Mexico,2009,Earths,0.0233232259766933,0.9871851762413565,0.3008566608990466,0.039222552601574256,0.1439879799224893,0.17155926397908253,1.6661348596202443,3A,MX\"     \n",
       " \"Mexico,Mexico,2010,Earths,0.025270362669278103,1.1744147324678997,0.3192195474686081,0.04065227988052155,0.15148466857675044,0.1613543563966951,1.872395947459758,3A,MX\"     \n",
       " \"Mexico,Mexico,2011,Earths,0.02193122566632951,0.9785619338950278,0.28905753940435835,0.03416570218347613,0.14939546887135907,0.14792171182261074,1.6210335818431574,3A,MX\"   \n",
       " \"Mexico,Mexico,2012,Earths,0.026210583329496627,1.0907742026598963,0.31887381915011276,0.03542463971316012,0.1522824475183176,0.1424851981350133,1.7660508905059973,3A,MX\"    \n",
       " \"Mexico,Mexico,2013,Earths,0.02528933264691904,0.9259771987608534,0.2929396121028614,0.042228500010556565,0.15271643597953866,0.14845489735494014,1.5876059768556705,3A,MX\"   \n",
       " \"Mexico,Mexico,2014,Earths,0.027274202454328978,0.8707763151548423,0.3053114352236625,0.04720224354204901,0.15112555958755647,0.1446155369100457,1.5463052928724796,3A,MX\"    \n",
       " \"Mexico,Mexico,2015,Earths,0.025878865426824077,0.8841201485239824,0.3016419725326872,0.050137190753004476,0.15318073525072406,0.14406332154522222,1.5590222340324413,3A,MX\"  \n",
       " \"Mexico,Mexico,2016,Earths,0.02829850308791035,0.8979863992780059,0.31887733467270174,0.05035939543961528,0.15641530080247204,0.1450402249049734,1.5969771581856769,3A,MX\"    "
      ]
     },
     "execution_count": 2,
     "metadata": {},
     "output_type": "execute_result"
    }
   ],
   "source": [
    "f = open(\"Mexico_numeros_tierras.csv\")\n",
    "crudos = readlines(f)"
   ]
  },
  {
   "cell_type": "code",
   "execution_count": 3,
   "metadata": {},
   "outputs": [
    {
     "data": {
      "text/plain": [
       "\"Country Name,Short Name,year,Record,Built-up Land,Carbon,Cropland,Fishing Grounds,Forest Products,Grazing Land,Total,Data Quality Score,isoa2\""
      ]
     },
     "execution_count": 3,
     "metadata": {},
     "output_type": "execute_result"
    }
   ],
   "source": [
    "crudos[1]"
   ]
  },
  {
   "cell_type": "code",
   "execution_count": 5,
   "metadata": {},
   "outputs": [
    {
     "data": {
      "text/plain": [
       "13-element Array{SubString{String},1}:\n",
       " \"Country Name\"      \n",
       " \"Short Name\"        \n",
       " \"year\"              \n",
       " \"Record\"            \n",
       " \"Built-up Land\"     \n",
       " \"Carbon\"            \n",
       " \"Cropland\"          \n",
       " \"Fishing Grounds\"   \n",
       " \"Forest Products\"   \n",
       " \"Grazing Land\"      \n",
       " \"Total\"             \n",
       " \"Data Quality Score\"\n",
       " \"isoa2\"             "
      ]
     },
     "execution_count": 5,
     "metadata": {},
     "output_type": "execute_result"
    }
   ],
   "source": [
    "split(crudos[1],\",\")"
   ]
  },
  {
   "cell_type": "code",
   "execution_count": 6,
   "metadata": {},
   "outputs": [
    {
     "data": {
      "text/plain": [
       "\"year\""
      ]
     },
     "execution_count": 6,
     "metadata": {},
     "output_type": "execute_result"
    }
   ],
   "source": [
    "año = split(crudos[1],\",\")[3]"
   ]
  },
  {
   "cell_type": "code",
   "execution_count": 9,
   "metadata": {},
   "outputs": [
    {
     "data": {
      "text/plain": [
       "\"0.593313157972145\""
      ]
     },
     "execution_count": 9,
     "metadata": {},
     "output_type": "execute_result"
    }
   ],
   "source": [
    "tot = split(crudos[2],\",\")[11]"
   ]
  },
  {
   "cell_type": "code",
   "execution_count": 11,
   "metadata": {},
   "outputs": [
    {
     "data": {
      "text/plain": [
       "0.593313157972145"
      ]
     },
     "execution_count": 11,
     "metadata": {},
     "output_type": "execute_result"
    }
   ],
   "source": [
    "parse(Float64,tot)"
   ]
  },
  {
   "cell_type": "code",
   "execution_count": 13,
   "metadata": {
    "collapsed": true
   },
   "outputs": [
    {
     "data": {
      "text/plain": [
       "56-element Array{Int32,1}:\n",
       " 1961\n",
       " 1962\n",
       " 1963\n",
       " 1964\n",
       " 1965\n",
       " 1966\n",
       " 1967\n",
       " 1968\n",
       " 1969\n",
       " 1970\n",
       " 1971\n",
       " 1972\n",
       " 1973\n",
       "    ⋮\n",
       " 2005\n",
       " 2006\n",
       " 2007\n",
       " 2008\n",
       " 2009\n",
       " 2010\n",
       " 2011\n",
       " 2012\n",
       " 2013\n",
       " 2014\n",
       " 2015\n",
       " 2016"
      ]
     },
     "execution_count": 13,
     "metadata": {},
     "output_type": "execute_result"
    }
   ],
   "source": [
    "tiempo = Int32[]\n",
    "totales = Float64[]\n",
    "\n",
    "for i in 2:length(crudos) #57\n",
    "    año = split(crudos[i],\",\")[3]\n",
    "    tot = split(crudos[i],\",\")[11]\n",
    "    push!(tiempo,parse(Int32,año))\n",
    "    push!(totales,parse(Float64,tot))\n",
    "end\n",
    "tiempo"
   ]
  },
  {
   "cell_type": "code",
   "execution_count": 15,
   "metadata": {},
   "outputs": [
    {
     "data": {
      "text/plain": [
       "Plots.GRBackend()"
      ]
     },
     "execution_count": 15,
     "metadata": {},
     "output_type": "execute_result"
    }
   ],
   "source": [
    "using Plots\n",
    "gr()"
   ]
  },
  {
   "cell_type": "code",
   "execution_count": 18,
   "metadata": {},
   "outputs": [
    {
     "data": {
      "image/svg+xml": [
       "<?xml version=\"1.0\" encoding=\"utf-8\"?>\n",
       "<svg xmlns=\"http://www.w3.org/2000/svg\" xmlns:xlink=\"http://www.w3.org/1999/xlink\" width=\"600\" height=\"400\" viewBox=\"0 0 2400 1600\">\n",
       "<defs>\n",
       "  <clipPath id=\"clip1300\">\n",
       "    <rect x=\"0\" y=\"0\" width=\"2400\" height=\"1600\"/>\n",
       "  </clipPath>\n",
       "</defs>\n",
       "<polygon clip-path=\"url(#clip1300)\" points=\"\n",
       "0,1600 2400,1600 2400,0 0,0 \n",
       "  \" fill=\"#ffffff\" fill-rule=\"evenodd\" fill-opacity=\"1\"/>\n",
       "<defs>\n",
       "  <clipPath id=\"clip1301\">\n",
       "    <rect x=\"480\" y=\"0\" width=\"1681\" height=\"1600\"/>\n",
       "  </clipPath>\n",
       "</defs>\n",
       "<polygon clip-path=\"url(#clip1300)\" points=\"\n",
       "251.149,1440.48 2321.26,1440.48 2321.26,47.2441 251.149,47.2441 \n",
       "  \" fill=\"#ffffff\" fill-rule=\"evenodd\" fill-opacity=\"1\"/>\n",
       "<defs>\n",
       "  <clipPath id=\"clip1302\">\n",
       "    <rect x=\"251\" y=\"47\" width=\"2071\" height=\"1394\"/>\n",
       "  </clipPath>\n",
       "</defs>\n",
       "<polyline clip-path=\"url(#clip1302)\" style=\"stroke:#000000; stroke-width:2; stroke-opacity:0.1; fill:none\" points=\"\n",
       "  274.229,1440.48 274.229,47.2441 \n",
       "  \"/>\n",
       "<polyline clip-path=\"url(#clip1302)\" style=\"stroke:#000000; stroke-width:2; stroke-opacity:0.1; fill:none\" points=\"\n",
       "  629.308,1440.48 629.308,47.2441 \n",
       "  \"/>\n",
       "<polyline clip-path=\"url(#clip1302)\" style=\"stroke:#000000; stroke-width:2; stroke-opacity:0.1; fill:none\" points=\"\n",
       "  984.387,1440.48 984.387,47.2441 \n",
       "  \"/>\n",
       "<polyline clip-path=\"url(#clip1302)\" style=\"stroke:#000000; stroke-width:2; stroke-opacity:0.1; fill:none\" points=\"\n",
       "  1339.47,1440.48 1339.47,47.2441 \n",
       "  \"/>\n",
       "<polyline clip-path=\"url(#clip1302)\" style=\"stroke:#000000; stroke-width:2; stroke-opacity:0.1; fill:none\" points=\"\n",
       "  1694.55,1440.48 1694.55,47.2441 \n",
       "  \"/>\n",
       "<polyline clip-path=\"url(#clip1302)\" style=\"stroke:#000000; stroke-width:2; stroke-opacity:0.1; fill:none\" points=\"\n",
       "  2049.62,1440.48 2049.62,47.2441 \n",
       "  \"/>\n",
       "<polyline clip-path=\"url(#clip1302)\" style=\"stroke:#000000; stroke-width:2; stroke-opacity:0.1; fill:none\" points=\"\n",
       "  251.149,1249.71 2321.26,1249.71 \n",
       "  \"/>\n",
       "<polyline clip-path=\"url(#clip1302)\" style=\"stroke:#000000; stroke-width:2; stroke-opacity:0.1; fill:none\" points=\"\n",
       "  251.149,1027.34 2321.26,1027.34 \n",
       "  \"/>\n",
       "<polyline clip-path=\"url(#clip1302)\" style=\"stroke:#000000; stroke-width:2; stroke-opacity:0.1; fill:none\" points=\"\n",
       "  251.149,804.964 2321.26,804.964 \n",
       "  \"/>\n",
       "<polyline clip-path=\"url(#clip1302)\" style=\"stroke:#000000; stroke-width:2; stroke-opacity:0.1; fill:none\" points=\"\n",
       "  251.149,582.593 2321.26,582.593 \n",
       "  \"/>\n",
       "<polyline clip-path=\"url(#clip1302)\" style=\"stroke:#000000; stroke-width:2; stroke-opacity:0.1; fill:none\" points=\"\n",
       "  251.149,360.221 2321.26,360.221 \n",
       "  \"/>\n",
       "<polyline clip-path=\"url(#clip1302)\" style=\"stroke:#000000; stroke-width:2; stroke-opacity:0.1; fill:none\" points=\"\n",
       "  251.149,137.849 2321.26,137.849 \n",
       "  \"/>\n",
       "<polyline clip-path=\"url(#clip1300)\" style=\"stroke:#000000; stroke-width:4; stroke-opacity:1; fill:none\" points=\"\n",
       "  251.149,1440.48 2321.26,1440.48 \n",
       "  \"/>\n",
       "<polyline clip-path=\"url(#clip1300)\" style=\"stroke:#000000; stroke-width:4; stroke-opacity:1; fill:none\" points=\"\n",
       "  251.149,1440.48 251.149,47.2441 \n",
       "  \"/>\n",
       "<polyline clip-path=\"url(#clip1300)\" style=\"stroke:#000000; stroke-width:4; stroke-opacity:1; fill:none\" points=\"\n",
       "  274.229,1440.48 274.229,1419.58 \n",
       "  \"/>\n",
       "<polyline clip-path=\"url(#clip1300)\" style=\"stroke:#000000; stroke-width:4; stroke-opacity:1; fill:none\" points=\"\n",
       "  629.308,1440.48 629.308,1419.58 \n",
       "  \"/>\n",
       "<polyline clip-path=\"url(#clip1300)\" style=\"stroke:#000000; stroke-width:4; stroke-opacity:1; fill:none\" points=\"\n",
       "  984.387,1440.48 984.387,1419.58 \n",
       "  \"/>\n",
       "<polyline clip-path=\"url(#clip1300)\" style=\"stroke:#000000; stroke-width:4; stroke-opacity:1; fill:none\" points=\"\n",
       "  1339.47,1440.48 1339.47,1419.58 \n",
       "  \"/>\n",
       "<polyline clip-path=\"url(#clip1300)\" style=\"stroke:#000000; stroke-width:4; stroke-opacity:1; fill:none\" points=\"\n",
       "  1694.55,1440.48 1694.55,1419.58 \n",
       "  \"/>\n",
       "<polyline clip-path=\"url(#clip1300)\" style=\"stroke:#000000; stroke-width:4; stroke-opacity:1; fill:none\" points=\"\n",
       "  2049.62,1440.48 2049.62,1419.58 \n",
       "  \"/>\n",
       "<polyline clip-path=\"url(#clip1300)\" style=\"stroke:#000000; stroke-width:4; stroke-opacity:1; fill:none\" points=\"\n",
       "  251.149,1249.71 282.2,1249.71 \n",
       "  \"/>\n",
       "<polyline clip-path=\"url(#clip1300)\" style=\"stroke:#000000; stroke-width:4; stroke-opacity:1; fill:none\" points=\"\n",
       "  251.149,1027.34 282.2,1027.34 \n",
       "  \"/>\n",
       "<polyline clip-path=\"url(#clip1300)\" style=\"stroke:#000000; stroke-width:4; stroke-opacity:1; fill:none\" points=\"\n",
       "  251.149,804.964 282.2,804.964 \n",
       "  \"/>\n",
       "<polyline clip-path=\"url(#clip1300)\" style=\"stroke:#000000; stroke-width:4; stroke-opacity:1; fill:none\" points=\"\n",
       "  251.149,582.593 282.2,582.593 \n",
       "  \"/>\n",
       "<polyline clip-path=\"url(#clip1300)\" style=\"stroke:#000000; stroke-width:4; stroke-opacity:1; fill:none\" points=\"\n",
       "  251.149,360.221 282.2,360.221 \n",
       "  \"/>\n",
       "<polyline clip-path=\"url(#clip1300)\" style=\"stroke:#000000; stroke-width:4; stroke-opacity:1; fill:none\" points=\"\n",
       "  251.149,137.849 282.2,137.849 \n",
       "  \"/>\n",
       "<g clip-path=\"url(#clip1300)\">\n",
       "<text style=\"fill:#000000; fill-opacity:1; font-family:Arial,Helvetica Neue,Helvetica,sans-serif; font-size:48px; text-anchor:middle;\" transform=\"rotate(0, 274.229, 1494.48)\" x=\"274.229\" y=\"1494.48\">1960</text>\n",
       "</g>\n",
       "<g clip-path=\"url(#clip1300)\">\n",
       "<text style=\"fill:#000000; fill-opacity:1; font-family:Arial,Helvetica Neue,Helvetica,sans-serif; font-size:48px; text-anchor:middle;\" transform=\"rotate(0, 629.308, 1494.48)\" x=\"629.308\" y=\"1494.48\">1970</text>\n",
       "</g>\n",
       "<g clip-path=\"url(#clip1300)\">\n",
       "<text style=\"fill:#000000; fill-opacity:1; font-family:Arial,Helvetica Neue,Helvetica,sans-serif; font-size:48px; text-anchor:middle;\" transform=\"rotate(0, 984.387, 1494.48)\" x=\"984.387\" y=\"1494.48\">1980</text>\n",
       "</g>\n",
       "<g clip-path=\"url(#clip1300)\">\n",
       "<text style=\"fill:#000000; fill-opacity:1; font-family:Arial,Helvetica Neue,Helvetica,sans-serif; font-size:48px; text-anchor:middle;\" transform=\"rotate(0, 1339.47, 1494.48)\" x=\"1339.47\" y=\"1494.48\">1990</text>\n",
       "</g>\n",
       "<g clip-path=\"url(#clip1300)\">\n",
       "<text style=\"fill:#000000; fill-opacity:1; font-family:Arial,Helvetica Neue,Helvetica,sans-serif; font-size:48px; text-anchor:middle;\" transform=\"rotate(0, 1694.55, 1494.48)\" x=\"1694.55\" y=\"1494.48\">2000</text>\n",
       "</g>\n",
       "<g clip-path=\"url(#clip1300)\">\n",
       "<text style=\"fill:#000000; fill-opacity:1; font-family:Arial,Helvetica Neue,Helvetica,sans-serif; font-size:48px; text-anchor:middle;\" transform=\"rotate(0, 2049.62, 1494.48)\" x=\"2049.62\" y=\"1494.48\">2010</text>\n",
       "</g>\n",
       "<g clip-path=\"url(#clip1300)\">\n",
       "<text style=\"fill:#000000; fill-opacity:1; font-family:Arial,Helvetica Neue,Helvetica,sans-serif; font-size:48px; text-anchor:end;\" transform=\"rotate(0, 227.149, 1267.21)\" x=\"227.149\" y=\"1267.21\">0.75</text>\n",
       "</g>\n",
       "<g clip-path=\"url(#clip1300)\">\n",
       "<text style=\"fill:#000000; fill-opacity:1; font-family:Arial,Helvetica Neue,Helvetica,sans-serif; font-size:48px; text-anchor:end;\" transform=\"rotate(0, 227.149, 1044.84)\" x=\"227.149\" y=\"1044.84\">1.00</text>\n",
       "</g>\n",
       "<g clip-path=\"url(#clip1300)\">\n",
       "<text style=\"fill:#000000; fill-opacity:1; font-family:Arial,Helvetica Neue,Helvetica,sans-serif; font-size:48px; text-anchor:end;\" transform=\"rotate(0, 227.149, 822.464)\" x=\"227.149\" y=\"822.464\">1.25</text>\n",
       "</g>\n",
       "<g clip-path=\"url(#clip1300)\">\n",
       "<text style=\"fill:#000000; fill-opacity:1; font-family:Arial,Helvetica Neue,Helvetica,sans-serif; font-size:48px; text-anchor:end;\" transform=\"rotate(0, 227.149, 600.093)\" x=\"227.149\" y=\"600.093\">1.50</text>\n",
       "</g>\n",
       "<g clip-path=\"url(#clip1300)\">\n",
       "<text style=\"fill:#000000; fill-opacity:1; font-family:Arial,Helvetica Neue,Helvetica,sans-serif; font-size:48px; text-anchor:end;\" transform=\"rotate(0, 227.149, 377.721)\" x=\"227.149\" y=\"377.721\">1.75</text>\n",
       "</g>\n",
       "<g clip-path=\"url(#clip1300)\">\n",
       "<text style=\"fill:#000000; fill-opacity:1; font-family:Arial,Helvetica Neue,Helvetica,sans-serif; font-size:48px; text-anchor:end;\" transform=\"rotate(0, 227.149, 155.349)\" x=\"227.149\" y=\"155.349\">2.00</text>\n",
       "</g>\n",
       "<g clip-path=\"url(#clip1300)\">\n",
       "<text style=\"fill:#000000; fill-opacity:1; font-family:Arial,Helvetica Neue,Helvetica,sans-serif; font-size:66px; text-anchor:middle;\" transform=\"rotate(0, 1286.2, 1590.4)\" x=\"1286.2\" y=\"1590.4\">Años</text>\n",
       "</g>\n",
       "<g clip-path=\"url(#clip1300)\">\n",
       "<text style=\"fill:#000000; fill-opacity:1; font-family:Arial,Helvetica Neue,Helvetica,sans-serif; font-size:66px; text-anchor:middle;\" transform=\"rotate(-90, 57.6, 743.863)\" x=\"57.6\" y=\"743.863\"># de tierras necesarias</text>\n",
       "</g>\n",
       "<polygon clip-path=\"url(#clip1302)\" points=\"\n",
       "309.737,1389.08 345.244,1401.05 380.752,1378.17 416.26,1339.33 451.768,1342.7 487.276,1327.24 522.784,1311.19 558.292,1298.14 593.8,1293.99 629.308,1240.16 \n",
       "  664.816,1236.66 700.324,1212.31 735.832,1161.18 771.339,1114.48 806.847,1107.16 842.355,1132.01 877.863,1096.66 913.371,1077.24 948.879,1046.7 984.387,907.925 \n",
       "  1019.89,853.874 1055.4,943.831 1090.91,955.897 1126.42,948.959 1161.93,904.895 1197.43,978.105 1232.94,945.629 1268.45,904.643 1303.96,879.063 1339.47,843.329 \n",
       "  1374.97,801.173 1410.48,799.167 1445.99,773.984 1481.5,691.75 1517.01,775.014 1552.51,570.515 1588.02,567.92 1623.53,539.605 1659.04,86.6754 1694.55,551.949 \n",
       "  1730.05,331.365 1765.56,440.947 1801.07,565.624 1836.58,738.784 1872.08,479.124 1907.59,393.422 1943.1,353.785 1978.61,332.85 2014.12,434.818 2049.62,251.351 \n",
       "  2085.13,474.935 2120.64,345.944 2156.15,504.668 2191.66,541.405 2227.16,530.093 2262.67,496.333 2262.67,1027.34 2227.16,1027.34 2191.66,1027.34 2156.15,1027.34 \n",
       "  2120.64,1027.34 2085.13,1027.34 2049.62,1027.34 2014.12,1027.34 1978.61,1027.34 1943.1,1027.34 1907.59,1027.34 1872.08,1027.34 1836.58,1027.34 1801.07,1027.34 \n",
       "  1765.56,1027.34 1730.05,1027.34 1694.55,1027.34 1659.04,1027.34 1623.53,1027.34 1588.02,1027.34 1552.51,1027.34 1517.01,1027.34 1481.5,1027.34 1445.99,1027.34 \n",
       "  1410.48,1027.34 1374.97,1027.34 1339.47,1027.34 1303.96,1027.34 1268.45,1027.34 1232.94,1027.34 1197.43,1027.34 1161.93,1027.34 1126.42,1027.34 1090.91,1027.34 \n",
       "  1055.4,1027.34 1019.89,1027.34 984.387,1027.34 948.879,1027.34 913.371,1027.34 877.863,1027.34 842.355,1027.34 806.847,1027.34 771.339,1027.34 735.832,1027.34 \n",
       "  700.324,1027.34 664.816,1027.34 629.308,1027.34 593.8,1027.34 558.292,1027.34 522.784,1027.34 487.276,1027.34 451.768,1027.34 416.26,1027.34 380.752,1027.34 \n",
       "  345.244,1027.34 309.737,1027.34 \n",
       "  \" fill=\"#ffa500\" fill-rule=\"evenodd\" fill-opacity=\"1\"/>\n",
       "<polyline clip-path=\"url(#clip1302)\" style=\"stroke:#ff0000; stroke-width:12; stroke-opacity:1; fill:none\" points=\"\n",
       "  309.737,1389.08 345.244,1401.05 380.752,1378.17 416.26,1339.33 451.768,1342.7 487.276,1327.24 522.784,1311.19 558.292,1298.14 593.8,1293.99 629.308,1240.16 \n",
       "  664.816,1236.66 700.324,1212.31 735.832,1161.18 771.339,1114.48 806.847,1107.16 842.355,1132.01 877.863,1096.66 913.371,1077.24 948.879,1046.7 984.387,907.925 \n",
       "  1019.89,853.874 1055.4,943.831 1090.91,955.897 1126.42,948.959 1161.93,904.895 1197.43,978.105 1232.94,945.629 1268.45,904.643 1303.96,879.063 1339.47,843.329 \n",
       "  1374.97,801.173 1410.48,799.167 1445.99,773.984 1481.5,691.75 1517.01,775.014 1552.51,570.515 1588.02,567.92 1623.53,539.605 1659.04,86.6754 1694.55,551.949 \n",
       "  1730.05,331.365 1765.56,440.947 1801.07,565.624 1836.58,738.784 1872.08,479.124 1907.59,393.422 1943.1,353.785 1978.61,332.85 2014.12,434.818 2049.62,251.351 \n",
       "  2085.13,474.935 2120.64,345.944 2156.15,504.668 2191.66,541.405 2227.16,530.093 2262.67,496.333 \n",
       "  \"/>\n",
       "<polygon clip-path=\"url(#clip1300)\" points=\"\n",
       "1958.43,251.724 2249.26,251.724 2249.26,130.764 1958.43,130.764 \n",
       "  \" fill=\"#ffffff\" fill-rule=\"evenodd\" fill-opacity=\"1\"/>\n",
       "<polyline clip-path=\"url(#clip1300)\" style=\"stroke:#000000; stroke-width:4; stroke-opacity:1; fill:none\" points=\"\n",
       "  1958.43,251.724 2249.26,251.724 2249.26,130.764 1958.43,130.764 1958.43,251.724 \n",
       "  \"/>\n",
       "<polygon clip-path=\"url(#clip1300)\" points=\"\n",
       "1982.43,215.436 2126.43,215.436 2126.43,167.052 1982.43,167.052 1982.43,215.436 \n",
       "  \" fill=\"#ffa500\" fill-rule=\"evenodd\" fill-opacity=\"1\"/>\n",
       "<polyline clip-path=\"url(#clip1300)\" style=\"stroke:#ff0000; stroke-width:12; stroke-opacity:1; fill:none\" points=\"\n",
       "  1982.43,167.052 2126.43,167.052 \n",
       "  \"/>\n",
       "<g clip-path=\"url(#clip1300)\">\n",
       "<text style=\"fill:#000000; fill-opacity:1; font-family:Arial,Helvetica Neue,Helvetica,sans-serif; font-size:48px; text-anchor:start;\" transform=\"rotate(0, 2150.43, 208.744)\" x=\"2150.43\" y=\"208.744\">y1</text>\n",
       "</g>\n",
       "</svg>\n"
      ]
     },
     "execution_count": 18,
     "metadata": {},
     "output_type": "execute_result"
    }
   ],
   "source": [
    "plot(tiempo,totales,c=:red,fill=(1,:orange),lw=3,xlabel=\"Años\",ylabel=\"# de tierras necesarias\")"
   ]
  },
  {
   "cell_type": "markdown",
   "metadata": {},
   "source": [
    "## Recurso de méxico\n"
   ]
  },
  {
   "cell_type": "code",
   "execution_count": 19,
   "metadata": {
    "collapsed": true
   },
   "outputs": [
    {
     "data": {
      "text/plain": [
       "57-element Array{String,1}:\n",
       " \"Country Name,Short Name,year,Record,Built-up Land,Carbon,Cropland,Fishing Grounds,Forest Products,Grazing Land,Total,Data Quality Score,isoa2\"                               \n",
       " \"Mexico,Mexico,1961,Earths,0.006908271212901995,0.14646830533517388,0.11864868718201825,0.0053524036820543535,0.09395637935455024,0.22197911120544728,0.593313157972145,3A,MX\"\n",
       " \"Mexico,Mexico,1962,Earths,0.007180455420221026,0.1416507407662082,0.11535818588716153,0.005817062024535673,0.09685873651200408,0.21298796984986385,0.5798531504599942,3A,MX\" \n",
       " \"Mexico,Mexico,1963,Earths,0.007844254471212569,0.15200739285623135,0.12622320006038343,0.00682723909069282,0.09883404039319231,0.2138430065164504,0.6055791333881619,3A,MX\"  \n",
       " \"Mexico,Mexico,1964,Earths,0.009459624381233621,0.1714497190396382,0.14174119730412316,0.006951473449780245,0.09984690907463278,0.2197994916648407,0.6492484149142475,3A,MX\"  \n",
       " \"Mexico,Mexico,1965,Earths,0.009950154551787245,0.1741085823262507,0.13692441783458542,0.007306131113923039,0.10209588943825969,0.21506805865245976,0.6454532339172665,3A,MX\" \n",
       " \"Mexico,Mexico,1966,Earths,0.010957564134163466,0.18523924928575433,0.15067245970691445,0.007891179635501738,0.10036356230926327,0.20770864541792539,0.6628326604895234,3A,MX\"\n",
       " \"Mexico,Mexico,1967,Earths,0.011099616655943797,0.2051908341256038,0.1437367240357669,0.009142949184350328,0.10416880537027767,0.20754530896499443,0.6808842383369371,3A,MX\"  \n",
       " \"Mexico,Mexico,1968,Earths,0.01205921484458352,0.21275794486564487,0.1569746925510212,0.0094358108022385,0.10434215777111595,0.19998372665967235,0.695553547494278,3A,MX\"     \n",
       " \"Mexico,Mexico,1969,Earths,0.012053959045852486,0.2309210216917232,0.1487569941391021,0.009264022411431153,0.10654063472710787,0.19268350809479523,0.7002201401100119,3A,MX\"  \n",
       " \"Mexico,Mexico,1970,Earths,0.01398674494089881,0.2588834808692463,0.1771419507040579,0.009471751257464803,0.11201036702865202,0.18923623959766164,0.7607305343979808,3A,MX\"   \n",
       " \"Mexico,Mexico,1971,Earths,0.013803756456383537,0.28047683851596733,0.16663347381675092,0.011201016288900738,0.10450570728571508,0.1880496153327673,0.7646704076964869,3A,MX\" \n",
       " \"Mexico,Mexico,1972,Earths,0.013725165991150989,0.3161627058412117,0.16201196624423522,0.011862173029235795,0.10525962110076108,0.18302487436732653,0.7920465065739196,3A,MX\" \n",
       " ⋮                                                                                                                                                                             \n",
       " \"Mexico,Mexico,2005,Earths,0.021723266823851926,0.8715581571032667,0.3359206475576123,0.04454427798692314,0.163746005289072,0.1788310955707802,1.6163234503315056,3A,MX\"      \n",
       " \"Mexico,Mexico,2006,Earths,0.024294978630749704,0.9292589567912808,0.3608494998526976,0.04019134324097326,0.18002314340024453,0.17805602962464454,1.7126739515405895,3A,MX\"   \n",
       " \"Mexico,Mexico,2007,Earths,0.02427822682608536,0.9743507714672314,0.3484231599717445,0.043667428127107805,0.18506655590320217,0.1814497165979919,1.7572358588933652,3A,MX\"    \n",
       " \"Mexico,Mexico,2008,Earths,0.025188820974004787,1.0351702733469674,0.32629020744750464,0.041680746608236244,0.17270661617620986,0.17973461184086645,1.7807712763937866,3A,MX\" \n",
       " \"Mexico,Mexico,2009,Earths,0.0233232259766933,0.9871851762413565,0.3008566608990466,0.039222552601574256,0.1439879799224893,0.17155926397908253,1.6661348596202443,3A,MX\"     \n",
       " \"Mexico,Mexico,2010,Earths,0.025270362669278103,1.1744147324678997,0.3192195474686081,0.04065227988052155,0.15148466857675044,0.1613543563966951,1.872395947459758,3A,MX\"     \n",
       " \"Mexico,Mexico,2011,Earths,0.02193122566632951,0.9785619338950278,0.28905753940435835,0.03416570218347613,0.14939546887135907,0.14792171182261074,1.6210335818431574,3A,MX\"   \n",
       " \"Mexico,Mexico,2012,Earths,0.026210583329496627,1.0907742026598963,0.31887381915011276,0.03542463971316012,0.1522824475183176,0.1424851981350133,1.7660508905059973,3A,MX\"    \n",
       " \"Mexico,Mexico,2013,Earths,0.02528933264691904,0.9259771987608534,0.2929396121028614,0.042228500010556565,0.15271643597953866,0.14845489735494014,1.5876059768556705,3A,MX\"   \n",
       " \"Mexico,Mexico,2014,Earths,0.027274202454328978,0.8707763151548423,0.3053114352236625,0.04720224354204901,0.15112555958755647,0.1446155369100457,1.5463052928724796,3A,MX\"    \n",
       " \"Mexico,Mexico,2015,Earths,0.025878865426824077,0.8841201485239824,0.3016419725326872,0.050137190753004476,0.15318073525072406,0.14406332154522222,1.5590222340324413,3A,MX\"  \n",
       " \"Mexico,Mexico,2016,Earths,0.02829850308791035,0.8979863992780059,0.31887733467270174,0.05035939543961528,0.15641530080247204,0.1450402249049734,1.5969771581856769,3A,MX\"    "
      ]
     },
     "execution_count": 19,
     "metadata": {},
     "output_type": "execute_result"
    }
   ],
   "source": [
    "crudos"
   ]
  },
  {
   "cell_type": "code",
   "execution_count": 24,
   "metadata": {},
   "outputs": [
    {
     "data": {
      "text/plain": [
       "3×4 Array{Float64,2}:\n",
       " 0.0           4.94066e-324  6.9418e-310  6.9418e-310\n",
       " 0.0           0.0           6.9418e-310  6.9418e-310\n",
       " 9.88131e-324  6.9418e-310   6.9418e-310  6.9418e-310"
      ]
     },
     "execution_count": 24,
     "metadata": {},
     "output_type": "execute_result"
    }
   ],
   "source": [
    "ejemplo = Array{Float64}(undef,3,4)"
   ]
  },
  {
   "cell_type": "code",
   "execution_count": 25,
   "metadata": {},
   "outputs": [
    {
     "data": {
      "text/plain": [
       "3×4 Array{Float64,2}:\n",
       " 1.0           4.94066e-324  6.9418e-310  6.9418e-310\n",
       " 0.0           0.0           6.9418e-310  6.9418e-310\n",
       " 9.88131e-324  6.9418e-310   6.9418e-310  6.9418e-310"
      ]
     },
     "execution_count": 25,
     "metadata": {},
     "output_type": "execute_result"
    }
   ],
   "source": [
    "ejemplo[1,1]=1\n",
    "ejemplo"
   ]
  },
  {
   "cell_type": "code",
   "execution_count": 27,
   "metadata": {},
   "outputs": [
    {
     "data": {
      "text/plain": [
       "3×4 Array{Float64,2}:\n",
       " 1.0           4.94066e-324  6.9418e-310  6.9418e-310\n",
       " 0.0           0.0           6.9418e-310  6.9418e-310\n",
       " 9.88131e-324  6.9418e-310   1.0          6.9418e-310"
      ]
     },
     "execution_count": 27,
     "metadata": {},
     "output_type": "execute_result"
    }
   ],
   "source": [
    "ejemplo[3,3]= 1\n",
    "ejemplo"
   ]
  },
  {
   "cell_type": "code",
   "execution_count": 34,
   "metadata": {},
   "outputs": [
    {
     "data": {
      "text/plain": [
       "5-element Array{Float64,1}:\n",
       "   0.0                  \n",
       "   0.0                  \n",
       "   6.94179957949614e-310\n",
       "   6.94179957952776e-310\n",
       " 100.0                  "
      ]
     },
     "execution_count": 34,
     "metadata": {},
     "output_type": "execute_result"
    }
   ],
   "source": [
    "push!(ejemplo[2,:],100)"
   ]
  },
  {
   "cell_type": "code",
   "execution_count": 38,
   "metadata": {},
   "outputs": [
    {
     "data": {
      "text/plain": [
       "5-element Array{Float64,1}:\n",
       "   0.0                  \n",
       "   0.0                  \n",
       "   6.94179957949614e-310\n",
       "   6.94179957952776e-310\n",
       " 100.0                  "
      ]
     },
     "execution_count": 38,
     "metadata": {},
     "output_type": "execute_result"
    }
   ],
   "source": [
    "ejemplo_mod = push!(ejemplo[2,:],100)"
   ]
  },
  {
   "cell_type": "code",
   "execution_count": 20,
   "metadata": {
    "scrolled": true
   },
   "outputs": [
    {
     "data": {
      "text/plain": [
       "6-element Array{SubString{String},1}:\n",
       " \"Built-up Land\"  \n",
       " \"Carbon\"         \n",
       " \"Cropland\"       \n",
       " \"Fishing Grounds\"\n",
       " \"Forest Products\"\n",
       " \"Grazing Land\"   "
      ]
     },
     "execution_count": 20,
     "metadata": {},
     "output_type": "execute_result"
    }
   ],
   "source": [
    "split(crudos[1],\",\")[5:10]"
   ]
  },
  {
   "cell_type": "code",
   "execution_count": 23,
   "metadata": {
    "scrolled": true
   },
   "outputs": [
    {
     "data": {
      "text/plain": [
       "6×56 Array{Float64,2}:\n",
       " 6.9418e-310  6.9418e-310  6.9418e-310  …  6.9418e-310  6.9418e-310\n",
       " 6.9418e-310  6.9418e-310  6.9418e-310     6.9418e-310  6.9418e-310\n",
       " 6.9418e-310  6.9418e-310  6.9418e-310     6.9418e-310  6.9418e-310\n",
       " 6.9418e-310  6.9418e-310  6.9418e-310     6.9418e-310  6.9418e-310\n",
       " 6.9418e-310  6.9418e-310  6.9418e-310     6.9418e-310  6.9418e-310\n",
       " 6.9418e-310  6.9418e-310  6.9418e-310  …  6.9418e-310  6.9418e-310"
      ]
     },
     "execution_count": 23,
     "metadata": {},
     "output_type": "execute_result"
    }
   ],
   "source": [
    "totales = Array{Float64}(undef,6,length(crudos)-1)"
   ]
  },
  {
   "cell_type": "code",
   "execution_count": 39,
   "metadata": {},
   "outputs": [],
   "source": [
    "totales = Array{Float64}(undef,6,length(crudos)-1)\n",
    "for j in 5:10\n",
    "    for i in 2:length(crudos)\n",
    "        tot = split(crudos[i],\",\")[j]\n",
    "        totales[j-4,i-1] = parse(Float64,tot)\n",
    "    end\n",
    "end"
   ]
  },
  {
   "cell_type": "code",
   "execution_count": 49,
   "metadata": {},
   "outputs": [
    {
     "data": {
      "image/svg+xml": [
       "<?xml version=\"1.0\" encoding=\"utf-8\"?>\n",
       "<svg xmlns=\"http://www.w3.org/2000/svg\" xmlns:xlink=\"http://www.w3.org/1999/xlink\" width=\"600\" height=\"400\" viewBox=\"0 0 2400 1600\">\n",
       "<defs>\n",
       "  <clipPath id=\"clip4500\">\n",
       "    <rect x=\"0\" y=\"0\" width=\"2400\" height=\"1600\"/>\n",
       "  </clipPath>\n",
       "</defs>\n",
       "<polygon clip-path=\"url(#clip4500)\" points=\"\n",
       "0,1600 2400,1600 2400,0 0,0 \n",
       "  \" fill=\"#ffffff\" fill-rule=\"evenodd\" fill-opacity=\"1\"/>\n",
       "<defs>\n",
       "  <clipPath id=\"clip4501\">\n",
       "    <rect x=\"480\" y=\"0\" width=\"1681\" height=\"1600\"/>\n",
       "  </clipPath>\n",
       "</defs>\n",
       "<polygon clip-path=\"url(#clip4500)\" points=\"\n",
       "161.394,1503.47 2321.26,1503.47 2321.26,47.2441 161.394,47.2441 \n",
       "  \" fill=\"#ffffff\" fill-rule=\"evenodd\" fill-opacity=\"1\"/>\n",
       "<defs>\n",
       "  <clipPath id=\"clip4502\">\n",
       "    <rect x=\"161\" y=\"47\" width=\"2161\" height=\"1457\"/>\n",
       "  </clipPath>\n",
       "</defs>\n",
       "<polyline clip-path=\"url(#clip4502)\" style=\"stroke:#000000; stroke-width:2; stroke-opacity:0.1; fill:none\" points=\"\n",
       "  185.475,1503.47 185.475,47.2441 \n",
       "  \"/>\n",
       "<polyline clip-path=\"url(#clip4502)\" style=\"stroke:#000000; stroke-width:2; stroke-opacity:0.1; fill:none\" points=\"\n",
       "  555.949,1503.47 555.949,47.2441 \n",
       "  \"/>\n",
       "<polyline clip-path=\"url(#clip4502)\" style=\"stroke:#000000; stroke-width:2; stroke-opacity:0.1; fill:none\" points=\"\n",
       "  926.424,1503.47 926.424,47.2441 \n",
       "  \"/>\n",
       "<polyline clip-path=\"url(#clip4502)\" style=\"stroke:#000000; stroke-width:2; stroke-opacity:0.1; fill:none\" points=\"\n",
       "  1296.9,1503.47 1296.9,47.2441 \n",
       "  \"/>\n",
       "<polyline clip-path=\"url(#clip4502)\" style=\"stroke:#000000; stroke-width:2; stroke-opacity:0.1; fill:none\" points=\"\n",
       "  1667.37,1503.47 1667.37,47.2441 \n",
       "  \"/>\n",
       "<polyline clip-path=\"url(#clip4502)\" style=\"stroke:#000000; stroke-width:2; stroke-opacity:0.1; fill:none\" points=\"\n",
       "  2037.85,1503.47 2037.85,47.2441 \n",
       "  \"/>\n",
       "<polyline clip-path=\"url(#clip4502)\" style=\"stroke:#000000; stroke-width:2; stroke-opacity:0.1; fill:none\" points=\"\n",
       "  161.394,1467.8 2321.26,1467.8 \n",
       "  \"/>\n",
       "<polyline clip-path=\"url(#clip4502)\" style=\"stroke:#000000; stroke-width:2; stroke-opacity:0.1; fill:none\" points=\"\n",
       "  161.394,1260.79 2321.26,1260.79 \n",
       "  \"/>\n",
       "<polyline clip-path=\"url(#clip4502)\" style=\"stroke:#000000; stroke-width:2; stroke-opacity:0.1; fill:none\" points=\"\n",
       "  161.394,1053.78 2321.26,1053.78 \n",
       "  \"/>\n",
       "<polyline clip-path=\"url(#clip4502)\" style=\"stroke:#000000; stroke-width:2; stroke-opacity:0.1; fill:none\" points=\"\n",
       "  161.394,846.763 2321.26,846.763 \n",
       "  \"/>\n",
       "<polyline clip-path=\"url(#clip4502)\" style=\"stroke:#000000; stroke-width:2; stroke-opacity:0.1; fill:none\" points=\"\n",
       "  161.394,639.751 2321.26,639.751 \n",
       "  \"/>\n",
       "<polyline clip-path=\"url(#clip4502)\" style=\"stroke:#000000; stroke-width:2; stroke-opacity:0.1; fill:none\" points=\"\n",
       "  161.394,432.739 2321.26,432.739 \n",
       "  \"/>\n",
       "<polyline clip-path=\"url(#clip4502)\" style=\"stroke:#000000; stroke-width:2; stroke-opacity:0.1; fill:none\" points=\"\n",
       "  161.394,225.726 2321.26,225.726 \n",
       "  \"/>\n",
       "<polyline clip-path=\"url(#clip4500)\" style=\"stroke:#000000; stroke-width:4; stroke-opacity:1; fill:none\" points=\"\n",
       "  161.394,1503.47 2321.26,1503.47 \n",
       "  \"/>\n",
       "<polyline clip-path=\"url(#clip4500)\" style=\"stroke:#000000; stroke-width:4; stroke-opacity:1; fill:none\" points=\"\n",
       "  161.394,1503.47 161.394,47.2441 \n",
       "  \"/>\n",
       "<polyline clip-path=\"url(#clip4500)\" style=\"stroke:#000000; stroke-width:4; stroke-opacity:1; fill:none\" points=\"\n",
       "  185.475,1503.47 185.475,1481.63 \n",
       "  \"/>\n",
       "<polyline clip-path=\"url(#clip4500)\" style=\"stroke:#000000; stroke-width:4; stroke-opacity:1; fill:none\" points=\"\n",
       "  555.949,1503.47 555.949,1481.63 \n",
       "  \"/>\n",
       "<polyline clip-path=\"url(#clip4500)\" style=\"stroke:#000000; stroke-width:4; stroke-opacity:1; fill:none\" points=\"\n",
       "  926.424,1503.47 926.424,1481.63 \n",
       "  \"/>\n",
       "<polyline clip-path=\"url(#clip4500)\" style=\"stroke:#000000; stroke-width:4; stroke-opacity:1; fill:none\" points=\"\n",
       "  1296.9,1503.47 1296.9,1481.63 \n",
       "  \"/>\n",
       "<polyline clip-path=\"url(#clip4500)\" style=\"stroke:#000000; stroke-width:4; stroke-opacity:1; fill:none\" points=\"\n",
       "  1667.37,1503.47 1667.37,1481.63 \n",
       "  \"/>\n",
       "<polyline clip-path=\"url(#clip4500)\" style=\"stroke:#000000; stroke-width:4; stroke-opacity:1; fill:none\" points=\"\n",
       "  2037.85,1503.47 2037.85,1481.63 \n",
       "  \"/>\n",
       "<polyline clip-path=\"url(#clip4500)\" style=\"stroke:#000000; stroke-width:4; stroke-opacity:1; fill:none\" points=\"\n",
       "  161.394,1467.8 193.792,1467.8 \n",
       "  \"/>\n",
       "<polyline clip-path=\"url(#clip4500)\" style=\"stroke:#000000; stroke-width:4; stroke-opacity:1; fill:none\" points=\"\n",
       "  161.394,1260.79 193.792,1260.79 \n",
       "  \"/>\n",
       "<polyline clip-path=\"url(#clip4500)\" style=\"stroke:#000000; stroke-width:4; stroke-opacity:1; fill:none\" points=\"\n",
       "  161.394,1053.78 193.792,1053.78 \n",
       "  \"/>\n",
       "<polyline clip-path=\"url(#clip4500)\" style=\"stroke:#000000; stroke-width:4; stroke-opacity:1; fill:none\" points=\"\n",
       "  161.394,846.763 193.792,846.763 \n",
       "  \"/>\n",
       "<polyline clip-path=\"url(#clip4500)\" style=\"stroke:#000000; stroke-width:4; stroke-opacity:1; fill:none\" points=\"\n",
       "  161.394,639.751 193.792,639.751 \n",
       "  \"/>\n",
       "<polyline clip-path=\"url(#clip4500)\" style=\"stroke:#000000; stroke-width:4; stroke-opacity:1; fill:none\" points=\"\n",
       "  161.394,432.739 193.792,432.739 \n",
       "  \"/>\n",
       "<polyline clip-path=\"url(#clip4500)\" style=\"stroke:#000000; stroke-width:4; stroke-opacity:1; fill:none\" points=\"\n",
       "  161.394,225.726 193.792,225.726 \n",
       "  \"/>\n",
       "<g clip-path=\"url(#clip4500)\">\n",
       "<text style=\"fill:#000000; fill-opacity:1; font-family:Arial,Helvetica Neue,Helvetica,sans-serif; font-size:48px; text-anchor:middle;\" transform=\"rotate(0, 185.475, 1557.47)\" x=\"185.475\" y=\"1557.47\">1960</text>\n",
       "</g>\n",
       "<g clip-path=\"url(#clip4500)\">\n",
       "<text style=\"fill:#000000; fill-opacity:1; font-family:Arial,Helvetica Neue,Helvetica,sans-serif; font-size:48px; text-anchor:middle;\" transform=\"rotate(0, 555.949, 1557.47)\" x=\"555.949\" y=\"1557.47\">1970</text>\n",
       "</g>\n",
       "<g clip-path=\"url(#clip4500)\">\n",
       "<text style=\"fill:#000000; fill-opacity:1; font-family:Arial,Helvetica Neue,Helvetica,sans-serif; font-size:48px; text-anchor:middle;\" transform=\"rotate(0, 926.424, 1557.47)\" x=\"926.424\" y=\"1557.47\">1980</text>\n",
       "</g>\n",
       "<g clip-path=\"url(#clip4500)\">\n",
       "<text style=\"fill:#000000; fill-opacity:1; font-family:Arial,Helvetica Neue,Helvetica,sans-serif; font-size:48px; text-anchor:middle;\" transform=\"rotate(0, 1296.9, 1557.47)\" x=\"1296.9\" y=\"1557.47\">1990</text>\n",
       "</g>\n",
       "<g clip-path=\"url(#clip4500)\">\n",
       "<text style=\"fill:#000000; fill-opacity:1; font-family:Arial,Helvetica Neue,Helvetica,sans-serif; font-size:48px; text-anchor:middle;\" transform=\"rotate(0, 1667.37, 1557.47)\" x=\"1667.37\" y=\"1557.47\">2000</text>\n",
       "</g>\n",
       "<g clip-path=\"url(#clip4500)\">\n",
       "<text style=\"fill:#000000; fill-opacity:1; font-family:Arial,Helvetica Neue,Helvetica,sans-serif; font-size:48px; text-anchor:middle;\" transform=\"rotate(0, 2037.85, 1557.47)\" x=\"2037.85\" y=\"1557.47\">2010</text>\n",
       "</g>\n",
       "<g clip-path=\"url(#clip4500)\">\n",
       "<text style=\"fill:#000000; fill-opacity:1; font-family:Arial,Helvetica Neue,Helvetica,sans-serif; font-size:48px; text-anchor:end;\" transform=\"rotate(0, 137.394, 1485.3)\" x=\"137.394\" y=\"1485.3\">0.0</text>\n",
       "</g>\n",
       "<g clip-path=\"url(#clip4500)\">\n",
       "<text style=\"fill:#000000; fill-opacity:1; font-family:Arial,Helvetica Neue,Helvetica,sans-serif; font-size:48px; text-anchor:end;\" transform=\"rotate(0, 137.394, 1278.29)\" x=\"137.394\" y=\"1278.29\">0.2</text>\n",
       "</g>\n",
       "<g clip-path=\"url(#clip4500)\">\n",
       "<text style=\"fill:#000000; fill-opacity:1; font-family:Arial,Helvetica Neue,Helvetica,sans-serif; font-size:48px; text-anchor:end;\" transform=\"rotate(0, 137.394, 1071.28)\" x=\"137.394\" y=\"1071.28\">0.4</text>\n",
       "</g>\n",
       "<g clip-path=\"url(#clip4500)\">\n",
       "<text style=\"fill:#000000; fill-opacity:1; font-family:Arial,Helvetica Neue,Helvetica,sans-serif; font-size:48px; text-anchor:end;\" transform=\"rotate(0, 137.394, 864.263)\" x=\"137.394\" y=\"864.263\">0.6</text>\n",
       "</g>\n",
       "<g clip-path=\"url(#clip4500)\">\n",
       "<text style=\"fill:#000000; fill-opacity:1; font-family:Arial,Helvetica Neue,Helvetica,sans-serif; font-size:48px; text-anchor:end;\" transform=\"rotate(0, 137.394, 657.251)\" x=\"137.394\" y=\"657.251\">0.8</text>\n",
       "</g>\n",
       "<g clip-path=\"url(#clip4500)\">\n",
       "<text style=\"fill:#000000; fill-opacity:1; font-family:Arial,Helvetica Neue,Helvetica,sans-serif; font-size:48px; text-anchor:end;\" transform=\"rotate(0, 137.394, 450.239)\" x=\"137.394\" y=\"450.239\">1.0</text>\n",
       "</g>\n",
       "<g clip-path=\"url(#clip4500)\">\n",
       "<text style=\"fill:#000000; fill-opacity:1; font-family:Arial,Helvetica Neue,Helvetica,sans-serif; font-size:48px; text-anchor:end;\" transform=\"rotate(0, 137.394, 243.226)\" x=\"137.394\" y=\"243.226\">1.2</text>\n",
       "</g>\n",
       "<polyline clip-path=\"url(#clip4502)\" style=\"stroke:#009af9; stroke-width:4; stroke-opacity:1; fill:none\" points=\"\n",
       "  222.522,1460.65 259.57,1460.37 296.617,1459.68 333.665,1458.01 370.712,1457.5 407.76,1456.46 444.807,1456.31 481.854,1455.32 518.902,1455.32 555.949,1453.32 \n",
       "  592.997,1453.51 630.044,1453.59 667.092,1452.6 704.139,1452.06 741.186,1451.4 778.234,1452.53 815.281,1450.72 852.329,1449.19 889.376,1450.6 926.424,1447.77 \n",
       "  963.471,1445.93 1000.52,1448.2 1037.57,1445.66 1074.61,1446.22 1111.66,1444.14 1148.71,1445.18 1185.76,1444.44 1222.8,1446.63 1259.85,1448.13 1296.9,1445.65 \n",
       "  1333.95,1447.25 1370.99,1448.56 1408.04,1447.52 1445.09,1446.81 1482.14,1446.28 1519.18,1444.13 1556.23,1445.55 1593.28,1444.55 1630.33,1445.36 1667.37,1445.42 \n",
       "  1704.42,1443.45 1741.47,1444.02 1778.51,1442.7 1815.56,1442.93 1852.61,1445.32 1889.66,1442.65 1926.7,1442.67 1963.75,1441.73 2000.8,1443.66 2037.85,1441.64 \n",
       "  2074.89,1445.1 2111.94,1440.67 2148.99,1441.62 2186.04,1439.57 2223.08,1441.01 2260.13,1438.51 \n",
       "  \"/>\n",
       "<polyline clip-path=\"url(#clip4502)\" style=\"stroke:#e26f46; stroke-width:4; stroke-opacity:1; fill:none\" points=\"\n",
       "  222.522,1316.2 259.57,1321.18 296.617,1310.46 333.665,1290.34 370.712,1287.59 407.76,1276.07 444.807,1255.42 481.854,1247.58 518.902,1228.78 555.949,1199.84 \n",
       "  592.997,1177.49 630.044,1140.55 667.092,1100.26 704.139,1077.34 741.186,1072.25 778.234,1056.49 815.281,1045.32 852.329,1013.71 889.376,975.274 926.424,902.698 \n",
       "  963.471,870.083 1000.52,907.873 1037.57,967.962 1074.61,950.419 1111.66,914.957 1148.71,951.404 1185.76,937.349 1222.8,906.232 1259.85,877.432 1296.9,875.641 \n",
       "  1333.95,822.152 1370.99,826.598 1408.04,800.116 1445.09,719.7 1482.14,765.167 1519.18,590.711 1556.23,587.167 1593.28,599.65 1630.33,88.4582 1667.37,652.319 \n",
       "  1704.42,409.145 1741.47,557.282 1778.51,696.351 1815.56,881.409 1852.61,565.684 1889.66,505.96 1926.7,459.287 1963.75,396.335 2000.8,446.003 2037.85,252.208 \n",
       "  2074.89,454.928 2111.94,338.782 2148.99,509.357 2186.04,566.493 2223.08,552.681 2260.13,538.329 \n",
       "  \"/>\n",
       "<polyline clip-path=\"url(#clip4502)\" style=\"stroke:#3da44d; stroke-width:4; stroke-opacity:1; fill:none\" points=\"\n",
       "  222.522,1344.99 259.57,1348.4 296.617,1337.15 333.665,1321.09 370.712,1326.08 407.76,1311.85 444.807,1319.02 481.854,1305.32 518.902,1313.83 555.949,1284.45 \n",
       "  592.997,1295.32 630.044,1300.11 667.092,1283.6 704.139,1266.53 741.186,1267.24 778.234,1303.32 815.281,1273.95 852.329,1262.1 889.376,1281.47 926.424,1213.79 \n",
       "  963.471,1192.18 1000.52,1239.61 1037.57,1192.46 1074.61,1207.01 1111.66,1197.76 1148.71,1234.4 1185.76,1215.05 1222.8,1216.49 1259.85,1216.72 1296.9,1173.13 \n",
       "  1333.95,1186.65 1370.99,1180.11 1408.04,1177.92 1445.09,1167.14 1482.14,1199.7 1519.18,1149.17 1556.23,1169.94 1593.28,1127.98 1630.33,1127 1667.37,1119.78 \n",
       "  1704.42,1096.17 1741.47,1087.48 1778.51,1083.59 1815.56,1100.12 1852.61,1120.1 1889.66,1094.3 1926.7,1107.16 1963.75,1130.07 2000.8,1156.4 2037.85,1137.39 \n",
       "  2074.89,1168.61 2111.94,1137.75 2148.99,1164.59 2186.04,1151.78 2223.08,1155.58 2260.13,1137.74 \n",
       "  \"/>\n",
       "<polyline clip-path=\"url(#clip4502)\" style=\"stroke:#c271d2; stroke-width:4; stroke-opacity:1; fill:none\" points=\"\n",
       "  222.522,1462.26 259.57,1461.78 296.617,1460.73 333.665,1460.61 370.712,1460.24 407.76,1459.63 444.807,1458.34 481.854,1458.03 518.902,1458.21 555.949,1458 \n",
       "  592.997,1456.21 630.044,1455.52 667.092,1453.94 704.139,1454.77 741.186,1453.42 778.234,1454.31 815.281,1454.26 852.329,1450.18 889.376,1446.6 926.424,1442.94 \n",
       "  963.471,1432.59 1000.52,1442.12 1037.57,1447.47 1074.61,1439.47 1111.66,1440.04 1148.71,1439.92 1185.76,1438.57 1222.8,1433.32 1259.85,1429.79 1296.9,1426.89 \n",
       "  1333.95,1429.7 1370.99,1430.67 1408.04,1430.58 1445.09,1427.95 1482.14,1425.99 1519.18,1420.97 1556.23,1417.89 1593.28,1430.2 1630.33,1426.36 1667.37,1427.43 \n",
       "  1704.42,1426.22 1741.47,1421.75 1778.51,1426.22 1815.56,1423.2 1852.61,1421.69 1889.66,1426.2 1926.7,1422.6 1963.75,1424.66 2000.8,1427.2 2037.85,1425.72 \n",
       "  2074.89,1432.44 2111.94,1431.13 2148.99,1424.09 2186.04,1418.94 2223.08,1415.91 2260.13,1415.68 \n",
       "  \"/>\n",
       "<polyline clip-path=\"url(#clip4502)\" style=\"stroke:#ac8d18; stroke-width:4; stroke-opacity:1; fill:none\" points=\"\n",
       "  222.522,1370.55 259.57,1367.55 296.617,1365.5 333.665,1364.45 370.712,1362.13 407.76,1363.92 444.807,1359.98 481.854,1359.8 518.902,1357.52 555.949,1351.86 \n",
       "  592.997,1359.63 630.044,1358.85 667.092,1357.97 704.139,1350.69 741.186,1350.62 778.234,1349.47 815.281,1346.66 852.329,1363.65 889.376,1357.95 926.424,1349.2 \n",
       "  963.471,1351.19 1000.52,1351.62 1037.57,1351.54 1074.61,1352.77 1111.66,1349.3 1148.71,1349.74 1185.76,1347.12 1222.8,1345.27 1259.85,1345.27 1296.9,1347.89 \n",
       "  1333.95,1345.3 1370.99,1344.38 1408.04,1337.3 1445.09,1338.62 1482.14,1337.36 1519.18,1344.99 1556.23,1338.57 1593.28,1330.67 1630.33,1318.84 1667.37,1306.58 \n",
       "  1704.42,1320.39 1741.47,1320.25 1778.51,1311.22 1815.56,1301.93 1852.61,1298.31 1889.66,1281.47 1926.7,1276.25 1963.75,1289.04 2000.8,1318.76 2037.85,1311 \n",
       "  2074.89,1313.17 2111.94,1310.18 2148.99,1309.73 2186.04,1311.38 2223.08,1309.25 2260.13,1305.9 \n",
       "  \"/>\n",
       "<polyline clip-path=\"url(#clip4502)\" style=\"stroke:#00a9ad; stroke-width:4; stroke-opacity:1; fill:none\" points=\"\n",
       "  222.522,1238.04 259.57,1247.34 296.617,1246.46 333.665,1240.29 370.712,1245.19 407.76,1252.81 444.807,1252.98 481.854,1260.81 518.902,1268.36 555.949,1271.93 \n",
       "  592.997,1273.16 630.044,1278.36 667.092,1279.11 704.139,1271.76 741.186,1269.71 778.234,1277.42 815.281,1281.5 852.329,1290.98 889.376,1282.37 926.424,1276.39 \n",
       "  963.471,1277.91 1000.52,1285.14 1037.57,1283.52 1074.61,1284.66 1111.66,1283.07 1148.71,1293.8 1185.76,1294.14 1222.8,1281.02 1259.85,1281.87 1296.9,1288.42 \n",
       "  1333.95,1277.51 1370.99,1275.91 1408.04,1283.49 1445.09,1281.02 1482.14,1303.62 1519.18,1290.19 1556.23,1278.02 1593.28,1271.13 1630.33,1271.11 1667.37,1267.02 \n",
       "  1704.42,1266.49 1741.47,1258.6 1778.51,1274.38 1815.56,1286.38 1852.61,1282.7 1889.66,1283.5 1926.7,1279.99 1963.75,1281.76 2000.8,1290.23 2037.85,1300.79 \n",
       "  2074.89,1314.69 2111.94,1320.32 2148.99,1314.14 2186.04,1318.11 2223.08,1318.69 2260.13,1317.68 \n",
       "  \"/>\n",
       "<polygon clip-path=\"url(#clip4500)\" points=\"\n",
       "1656.15,554.124 2249.26,554.124 2249.26,130.764 1656.15,130.764 \n",
       "  \" fill=\"#ffffff\" fill-rule=\"evenodd\" fill-opacity=\"1\"/>\n",
       "<polyline clip-path=\"url(#clip4500)\" style=\"stroke:#000000; stroke-width:4; stroke-opacity:1; fill:none\" points=\"\n",
       "  1656.15,554.124 2249.26,554.124 2249.26,130.764 1656.15,130.764 1656.15,554.124 \n",
       "  \"/>\n",
       "<polyline clip-path=\"url(#clip4500)\" style=\"stroke:#009af9; stroke-width:4; stroke-opacity:1; fill:none\" points=\"\n",
       "  1680.15,191.244 1824.15,191.244 \n",
       "  \"/>\n",
       "<g clip-path=\"url(#clip4500)\">\n",
       "<text style=\"fill:#000000; fill-opacity:1; font-family:Arial,Helvetica Neue,Helvetica,sans-serif; font-size:48px; text-anchor:start;\" transform=\"rotate(0, 1848.15, 208.744)\" x=\"1848.15\" y=\"208.744\">Built-up Land</text>\n",
       "</g>\n",
       "<polyline clip-path=\"url(#clip4500)\" style=\"stroke:#e26f46; stroke-width:4; stroke-opacity:1; fill:none\" points=\"\n",
       "  1680.15,251.724 1824.15,251.724 \n",
       "  \"/>\n",
       "<g clip-path=\"url(#clip4500)\">\n",
       "<text style=\"fill:#000000; fill-opacity:1; font-family:Arial,Helvetica Neue,Helvetica,sans-serif; font-size:48px; text-anchor:start;\" transform=\"rotate(0, 1848.15, 269.224)\" x=\"1848.15\" y=\"269.224\">Carbon</text>\n",
       "</g>\n",
       "<polyline clip-path=\"url(#clip4500)\" style=\"stroke:#3da44d; stroke-width:4; stroke-opacity:1; fill:none\" points=\"\n",
       "  1680.15,312.204 1824.15,312.204 \n",
       "  \"/>\n",
       "<g clip-path=\"url(#clip4500)\">\n",
       "<text style=\"fill:#000000; fill-opacity:1; font-family:Arial,Helvetica Neue,Helvetica,sans-serif; font-size:48px; text-anchor:start;\" transform=\"rotate(0, 1848.15, 329.704)\" x=\"1848.15\" y=\"329.704\">Cropland</text>\n",
       "</g>\n",
       "<polyline clip-path=\"url(#clip4500)\" style=\"stroke:#c271d2; stroke-width:4; stroke-opacity:1; fill:none\" points=\"\n",
       "  1680.15,372.684 1824.15,372.684 \n",
       "  \"/>\n",
       "<g clip-path=\"url(#clip4500)\">\n",
       "<text style=\"fill:#000000; fill-opacity:1; font-family:Arial,Helvetica Neue,Helvetica,sans-serif; font-size:48px; text-anchor:start;\" transform=\"rotate(0, 1848.15, 390.184)\" x=\"1848.15\" y=\"390.184\">Fishing Grounds</text>\n",
       "</g>\n",
       "<polyline clip-path=\"url(#clip4500)\" style=\"stroke:#ac8d18; stroke-width:4; stroke-opacity:1; fill:none\" points=\"\n",
       "  1680.15,433.164 1824.15,433.164 \n",
       "  \"/>\n",
       "<g clip-path=\"url(#clip4500)\">\n",
       "<text style=\"fill:#000000; fill-opacity:1; font-family:Arial,Helvetica Neue,Helvetica,sans-serif; font-size:48px; text-anchor:start;\" transform=\"rotate(0, 1848.15, 450.664)\" x=\"1848.15\" y=\"450.664\">Forest Products</text>\n",
       "</g>\n",
       "<polyline clip-path=\"url(#clip4500)\" style=\"stroke:#00a9ad; stroke-width:4; stroke-opacity:1; fill:none\" points=\"\n",
       "  1680.15,493.644 1824.15,493.644 \n",
       "  \"/>\n",
       "<g clip-path=\"url(#clip4500)\">\n",
       "<text style=\"fill:#000000; fill-opacity:1; font-family:Arial,Helvetica Neue,Helvetica,sans-serif; font-size:48px; text-anchor:start;\" transform=\"rotate(0, 1848.15, 511.144)\" x=\"1848.15\" y=\"511.144\">Grazing Land</text>\n",
       "</g>\n",
       "</svg>\n"
      ]
     },
     "metadata": {},
     "output_type": "display_data"
    }
   ],
   "source": [
    "f = plot(tiempo,totales[1,:],label=split(crudos[1],\",\")[5])\n",
    "for i in 2:6\n",
    "    plot!(tiempo,totales[i,:],label=split(crudos[1],\",\")[i+4])\n",
    "end\n",
    "display(f)"
   ]
  },
  {
   "cell_type": "code",
   "execution_count": null,
   "metadata": {},
   "outputs": [],
   "source": []
  }
 ],
 "metadata": {
  "kernelspec": {
   "display_name": "Julia 1.0.2",
   "language": "julia",
   "name": "julia-1.0"
  },
  "language_info": {
   "file_extension": ".jl",
   "mimetype": "application/julia",
   "name": "julia",
   "version": "1.0.2"
  }
 },
 "nbformat": 4,
 "nbformat_minor": 2
}
