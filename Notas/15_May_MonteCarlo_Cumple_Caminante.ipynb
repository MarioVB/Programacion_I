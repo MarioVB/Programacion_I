{
 "cells": [
  {
   "cell_type": "markdown",
   "metadata": {},
   "source": [
    "# Más métodos Monte Carlo\n",
    "Se le llama método Monte Carlo a todo aquel algoritmo computacional que usa números aleatorios como herramienta principal para resolver problemas. Hoy vamos a resolver el siguiente problema usando números aleatorios.\n",
    "\n",
    "\n",
    "## Problema del cumpleaños\n",
    "\n",
    "> Si tenemos un grupo de 23 personas. ¿Cuál es la probabilidad de que al menos dos personas del grupo cumplan años el mismo día?\n",
    "\n",
    "Para resolver este problema usaremos el poder de la computadora. Esto se logrará de la siguiente manera: \n",
    "\n",
    "1. Generaremos una lista aleatoria con 23 fechas de cumpleaños\n",
    "\n",
    "2. Escribiremos un código capaz de decirnos si se repite alguna fecha\n",
    "\n",
    "3. Crearemos una función que repita este proceso un número arbitrario de veces y nos diga cuántas veces se repitió al menos un cumpleaños\n",
    "\n",
    "4. Ahora ya podemos calcular la probabilidad ¿Cómo le hacemos?"
   ]
  },
  {
   "cell_type": "markdown",
   "metadata": {},
   "source": [
    "# 1"
   ]
  },
  {
   "cell_type": "code",
   "execution_count": 1,
   "metadata": {},
   "outputs": [
    {
     "data": {
      "text/plain": [
       "3"
      ]
     },
     "execution_count": 1,
     "metadata": {},
     "output_type": "execute_result"
    }
   ],
   "source": [
    "rand([i for i in 1:23])"
   ]
  },
  {
   "cell_type": "code",
   "execution_count": 2,
   "metadata": {},
   "outputs": [
    {
     "data": {
      "text/plain": [
       "23-element Array{Int64,1}:\n",
       " 359\n",
       " 164\n",
       " 220\n",
       " 114\n",
       " 279\n",
       " 173\n",
       " 318\n",
       "  49\n",
       " 343\n",
       " 231\n",
       "  29\n",
       " 303\n",
       " 158\n",
       " 224\n",
       "  85\n",
       " 268\n",
       "  47\n",
       " 253\n",
       " 300\n",
       "  38\n",
       " 234\n",
       " 191\n",
       " 337"
      ]
     },
     "execution_count": 2,
     "metadata": {},
     "output_type": "execute_result"
    }
   ],
   "source": [
    "dias_del_año = [i for i in 1:365]\n",
    "rand(dias_del_año,23)"
   ]
  },
  {
   "cell_type": "code",
   "execution_count": 3,
   "metadata": {},
   "outputs": [
    {
     "data": {
      "text/plain": [
       "23-element Array{Int64,1}:\n",
       " 362\n",
       " 218\n",
       "  42\n",
       " 287\n",
       " 184\n",
       " 355\n",
       "  84\n",
       " 265\n",
       " 348\n",
       " 117\n",
       " 218\n",
       " 216\n",
       " 129\n",
       " 139\n",
       " 311\n",
       "  81\n",
       " 176\n",
       "  68\n",
       "  17\n",
       "  32\n",
       "   6\n",
       " 271\n",
       " 282"
      ]
     },
     "execution_count": 3,
     "metadata": {},
     "output_type": "execute_result"
    }
   ],
   "source": [
    "alumnos = rand(dias_del_año,23)"
   ]
  },
  {
   "cell_type": "markdown",
   "metadata": {},
   "source": [
    "# 2\n",
    "\n"
   ]
  },
  {
   "cell_type": "code",
   "execution_count": null,
   "metadata": {},
   "outputs": [],
   "source": [
    "\n",
    "if <si se repite>\n",
    "    return true\n",
    "else\n",
    "    return false\n",
    "end"
   ]
  },
  {
   "cell_type": "code",
   "execution_count": 4,
   "metadata": {},
   "outputs": [
    {
     "data": {
      "text/plain": [
       "117"
      ]
     },
     "execution_count": 4,
     "metadata": {},
     "output_type": "execute_result"
    }
   ],
   "source": [
    "alumnos[10]"
   ]
  },
  {
   "cell_type": "code",
   "execution_count": 5,
   "metadata": {},
   "outputs": [
    {
     "name": "stdout",
     "output_type": "stream",
     "text": [
      "false\n",
      "true\n",
      "false\n",
      "false\n",
      "false\n",
      "false\n",
      "false\n",
      "false\n",
      "false\n",
      "false\n",
      "false\n",
      "false\n",
      "false\n",
      "false\n",
      "false\n",
      "false\n",
      "false\n",
      "false\n",
      "false\n",
      "false\n",
      "false\n",
      "false\n",
      "false\n"
     ]
    }
   ],
   "source": [
    "for i in 1:length(alumnos)\n",
    "    println(alumnos[i] in alumnos[i+1:end])\n",
    "end"
   ]
  },
  {
   "cell_type": "code",
   "execution_count": 30,
   "metadata": {},
   "outputs": [
    {
     "data": {
      "text/plain": [
       "si_se_repite (generic function with 1 method)"
      ]
     },
     "execution_count": 30,
     "metadata": {},
     "output_type": "execute_result"
    }
   ],
   "source": [
    "function si_se_repite(grupo)\n",
    "    flag = false\n",
    "    @show(grupo)\n",
    "    for i in 1:length(grupo)\n",
    "        \n",
    "        if grupo[i] in grupo[i+1:end]\n",
    "            flag = true\n",
    "            @show(grupo[i])         #### Solamente para ver que las cosas sirvan\n",
    "            break\n",
    "        end\n",
    "    end\n",
    "    \n",
    "    return flag\n",
    "end"
   ]
  },
  {
   "cell_type": "markdown",
   "metadata": {},
   "source": [
    "Probamos si nuestra función hace lo que queremos"
   ]
  },
  {
   "cell_type": "code",
   "execution_count": 24,
   "metadata": {},
   "outputs": [
    {
     "name": "stdout",
     "output_type": "stream",
     "text": [
      "[361, 335, 245, 154, 52, 42, 97, 303, 312, 137, 247, 87, 96, 137, 231, 194, 281, 265, 282, 297, 67, 173, 63]\n",
      "grupo[i] = 137\n"
     ]
    },
    {
     "data": {
      "text/plain": [
       "true"
      ]
     },
     "execution_count": 24,
     "metadata": {},
     "output_type": "execute_result"
    }
   ],
   "source": [
    "dias_del_año = [i for i in 1:365]\n",
    "grupo = rand(dias_del_año,23)\n",
    "\n",
    "### Imprimimos para ver si se repite o no\n",
    "println(grupo)\n",
    "\n",
    "si_se_repite(grupo)\n",
    "\n"
   ]
  },
  {
   "cell_type": "markdown",
   "metadata": {},
   "source": [
    "Para saber si se repite debemos hacerlo a ojo; inspeccionando cada lista"
   ]
  },
  {
   "cell_type": "code",
   "execution_count": 20,
   "metadata": {},
   "outputs": [
    {
     "name": "stdout",
     "output_type": "stream",
     "text": [
      "[5, 276, 243, 292, 45, 120, 251, 149, 305, 310, 114, 118, 53, 48, 16, 121, 340, 155, 238, 196, 188, 285, 25]\n"
     ]
    },
    {
     "data": {
      "text/plain": [
       "false"
      ]
     },
     "execution_count": 20,
     "metadata": {},
     "output_type": "execute_result"
    }
   ],
   "source": [
    "dias_del_año = [i for i in 1:365]\n",
    "grupo = rand(dias_del_año,23)\n",
    "\n",
    "### Imprimimos para ver si se repite o no\n",
    "println(grupo)\n",
    "\n",
    "si_se_repite(grupo)"
   ]
  },
  {
   "cell_type": "markdown",
   "metadata": {},
   "source": [
    "# 3"
   ]
  },
  {
   "cell_type": "code",
   "execution_count": 31,
   "metadata": {},
   "outputs": [
    {
     "data": {
      "text/plain": [
       "num_eventos (generic function with 1 method)"
      ]
     },
     "execution_count": 31,
     "metadata": {},
     "output_type": "execute_result"
    }
   ],
   "source": [
    "### esta funcion contará el número de repeticiones \n",
    "### dado el número de listas (num_listas)\n",
    "\n",
    "function num_eventos(num_listas)\n",
    "    num_repeticiones = 0\n",
    "    dias_del_año = [i for i in 1:365]\n",
    "    \n",
    "    for i in 1:num_listas\n",
    "        grupo = rand(dias_del_año,23)\n",
    "        \n",
    "        #println(grupo)\n",
    "        \n",
    "        if si_se_repite(grupo)\n",
    "            num_repeticiones += 1       \n",
    "        end\n",
    "        \n",
    "    end\n",
    "    return num_repeticiones\n",
    "end"
   ]
  },
  {
   "cell_type": "markdown",
   "metadata": {},
   "source": [
    "Probamos que nuestra función tenga sentido para pocas listas"
   ]
  },
  {
   "cell_type": "code",
   "execution_count": 29,
   "metadata": {},
   "outputs": [
    {
     "name": "stdout",
     "output_type": "stream",
     "text": [
      "grupo = [43, 235, 90, 267, 336, 337, 74, 298, 341, 137, 210, 165, 93, 67, 64, 151, 117, 68, 181, 46, 42, 141, 216]\n",
      "grupo = [148, 201, 347, 76, 201, 315, 212, 60, 41, 141, 46, 312, 140, 127, 105, 256, 241, 132, 26, 208, 6, 173, 35]\n",
      "grupo[i] = 201\n"
     ]
    },
    {
     "data": {
      "text/plain": [
       "1"
      ]
     },
     "execution_count": 29,
     "metadata": {},
     "output_type": "execute_result"
    }
   ],
   "source": [
    "num_eventos(2)"
   ]
  },
  {
   "cell_type": "markdown",
   "metadata": {},
   "source": [
    "## Apartir de aqui comentamos la línea de @show en la definición de `num_eventos()`"
   ]
  },
  {
   "cell_type": "code",
   "execution_count": 32,
   "metadata": {},
   "outputs": [
    {
     "data": {
      "text/plain": [
       "si_se_repite (generic function with 1 method)"
      ]
     },
     "execution_count": 32,
     "metadata": {},
     "output_type": "execute_result"
    }
   ],
   "source": [
    "function si_se_repite(grupo)\n",
    "    flag = false\n",
    "    #@show(grupo)\n",
    "    for i in 1:length(grupo)\n",
    "        \n",
    "        if grupo[i] in grupo[i+1:end]\n",
    "            flag = true\n",
    "            #@show(grupo[i])         #### Solamente para ver que las cosas sirvan\n",
    "            break\n",
    "        end\n",
    "    end\n",
    "    \n",
    "    return flag\n",
    "end"
   ]
  },
  {
   "cell_type": "markdown",
   "metadata": {},
   "source": [
    "calculamos la probabilidad de ocurrencia"
   ]
  },
  {
   "cell_type": "code",
   "execution_count": 33,
   "metadata": {},
   "outputs": [
    {
     "data": {
      "text/plain": [
       "0.5073943666666667"
      ]
     },
     "execution_count": 33,
     "metadata": {},
     "output_type": "execute_result"
    }
   ],
   "source": [
    "num_listas = 30000000\n",
    "num_eventos(num_listas)/num_listas"
   ]
  },
  {
   "cell_type": "markdown",
   "metadata": {},
   "source": [
    "# Respuesta: $\\sim \\frac{1}{2}$"
   ]
  },
  {
   "cell_type": "markdown",
   "metadata": {},
   "source": [
    "## Caminantes aleatorios\n",
    "\n",
    "Una caminata aleatoria es un objeto matemático que describe la trayectoria de una partícula que cambia de dirección de manera aletoria a cada paso. El ejemplo más sencillo es el movimiento en una dimensión con una longitud de paso constante; pensemos que se mueve en la línea recta y se mueve una unidad a la derecha o a la izquierda (+1 o -1) en cada paso. Otro ejemplo incluye el camino trazado por una partícula muy pequeña inmersa en un líquido o gas (**Movimiento Browniano**), el camino de búsqueda de forraje por un animal, la fluctuación del valor de las acctions y el estado financiero de un apostador se pueden modelar usando caminantes aleatorios; incluso si realmente no son completamente aleatorios. \n",
    "\n",
    "Aplicación en muchas ramas de la ciencia: ecología, psicología, ciencias de la computación, física, química, biología y economía.\n",
    "\n",
    "### Modelando\n",
    "Para modelar un sistema físico debemos hacer ciertos simplificaciones, \n",
    "\n",
    "* Modelaremos la interacción del fluido con la partícula mediante impactos aleatorios sobre la partícula,\n",
    "* Suponemos que, debido a los impactos, la partícula se mueve en brincos,\n",
    "* Los impactos se dan en tiempos regulares, la distancia temporal entre impactos consecutivos es constante,\n",
    "* Supondremos que los brincos son de distancia constante y se mueve en una cuadrícula.\n",
    "\n",
    "### Caminata aleatoria en 1D\n",
    "\n",
    "La posición de la partícula se representa con $\\{x | x \\in \\mathbb{Z}\\}$; se mueve sobre la recta numérica. Por simplicidad vamos a suponer que en $t=0$ la partícula está en el origen $x=0$.\n",
    "\n",
    "**¿Cómo generamos pasos aleatorios a la derecha o a la izquierda con igual probabilidad?**\n",
    "\n"
   ]
  },
  {
   "cell_type": "code",
   "execution_count": null,
   "metadata": {},
   "outputs": [],
   "source": []
  },
  {
   "cell_type": "markdown",
   "metadata": {},
   "source": [
    "Ahora podremos hacer nuestra primera caminata. \n",
    "\n",
    "**Vamos a escribir una función que tome un argumento, t, y mueva la partícula t pasos consecutivos**\n",
    "\n",
    "1. Cree una función llamada `pasos(t)` que imprima a pantalla las posiciones del caminante."
   ]
  },
  {
   "cell_type": "code",
   "execution_count": null,
   "metadata": {},
   "outputs": [],
   "source": []
  },
  {
   "cell_type": "markdown",
   "metadata": {},
   "source": [
    "2. Modifique la función para que guarde las posiciones en un vector y lo regrese como resultado."
   ]
  },
  {
   "cell_type": "code",
   "execution_count": null,
   "metadata": {},
   "outputs": [],
   "source": []
  },
  {
   "cell_type": "markdown",
   "metadata": {},
   "source": [
    "### Visualización\n",
    "\n",
    "Ahora vamos a hacer dibujos.\n",
    "\n",
    "1. Crea una arreglo llamado  `caminante` con 20 pasos."
   ]
  },
  {
   "cell_type": "code",
   "execution_count": null,
   "metadata": {},
   "outputs": [],
   "source": []
  },
  {
   "cell_type": "markdown",
   "metadata": {},
   "source": [
    "2. Usa `plot()` o `scatter()` para dibujar la trayectoria del caminante"
   ]
  },
  {
   "cell_type": "code",
   "execution_count": null,
   "metadata": {},
   "outputs": [],
   "source": []
  },
  {
   "cell_type": "markdown",
   "metadata": {},
   "source": [
    "3. Crea 5 caminantes más y dibuja sus trayectorias en una sola gráfica."
   ]
  },
  {
   "cell_type": "code",
   "execution_count": null,
   "metadata": {},
   "outputs": [],
   "source": []
  },
  {
   "cell_type": "markdown",
   "metadata": {},
   "source": [
    "### Nube de Caminantes\n",
    "\n",
    "1. Usa un `for` para crear 100 caminantes con 100 pasos y dibújalos en la misma gráfica. \n",
    "\n",
    "*Tip: Guarda una gráfica vacía sin leyenda (`leg=false`) en una variable, `p`, y agrega las gráficas usando `plot!()`. Al final debes mostrar la gráfica con el comando `display(p)`*"
   ]
  },
  {
   "cell_type": "code",
   "execution_count": null,
   "metadata": {},
   "outputs": [],
   "source": []
  },
  {
   "cell_type": "markdown",
   "metadata": {},
   "source": [
    "2. ¿Qué observas? ¿Cómo crece la nube en función de los pasos? "
   ]
  },
  {
   "cell_type": "code",
   "execution_count": null,
   "metadata": {},
   "outputs": [],
   "source": []
  },
  {
   "cell_type": "markdown",
   "metadata": {},
   "source": [
    "3. ¿Cuántos caminantes coninciden en el mismo punto al mismo tiempo?"
   ]
  },
  {
   "cell_type": "code",
   "execution_count": null,
   "metadata": {},
   "outputs": [],
   "source": []
  },
  {
   "cell_type": "markdown",
   "metadata": {},
   "source": [
    "### Guardar los datos\n",
    "\n",
    "1 Guarda los datos que se generaron con\n",
    "```julia\n",
    "using DelimitedFiles  # paquete para escribir y leer datos\n",
    "writedlm(\"archivo.dat\", v)\n",
    "```\n",
    "donde el primer argumento es el nombre del archivo que se escribirá, y `v` es la variable a guardar."
   ]
  },
  {
   "cell_type": "code",
   "execution_count": null,
   "metadata": {},
   "outputs": [],
   "source": [
    "using DelimitedFiles\n"
   ]
  },
  {
   "cell_type": "code",
   "execution_count": null,
   "metadata": {},
   "outputs": [],
   "source": [
    "v=rand(20)\n",
    "b= rand(20)\n",
    "writedlm(\"prueba2.dat\",[v b])"
   ]
  },
  {
   "cell_type": "code",
   "execution_count": null,
   "metadata": {},
   "outputs": [],
   "source": [
    ";ls"
   ]
  },
  {
   "cell_type": "code",
   "execution_count": null,
   "metadata": {},
   "outputs": [],
   "source": [
    ";cat prueba.dat"
   ]
  },
  {
   "cell_type": "code",
   "execution_count": null,
   "metadata": {},
   "outputs": [],
   "source": [
    "m = readdlm(\"prueba.dat\")"
   ]
  },
  {
   "cell_type": "code",
   "execution_count": null,
   "metadata": {},
   "outputs": [],
   "source": [
    "?writedlm"
   ]
  },
  {
   "cell_type": "code",
   "execution_count": null,
   "metadata": {},
   "outputs": [],
   "source": [
    "open(\"prueba.dat\",\"w\") do io\n",
    "    writedlm(io,[b v])\n",
    "end"
   ]
  },
  {
   "cell_type": "code",
   "execution_count": null,
   "metadata": {},
   "outputs": [],
   "source": []
  },
  {
   "cell_type": "code",
   "execution_count": null,
   "metadata": {},
   "outputs": [],
   "source": []
  }
 ],
 "metadata": {
  "@webio": {
   "lastCommId": null,
   "lastKernelId": null
  },
  "kernelspec": {
   "display_name": "Julia 1.0.2",
   "language": "julia",
   "name": "julia-1.0"
  },
  "language_info": {
   "file_extension": ".jl",
   "mimetype": "application/julia",
   "name": "julia",
   "version": "1.0.2"
  }
 },
 "nbformat": 4,
 "nbformat_minor": 2
}
