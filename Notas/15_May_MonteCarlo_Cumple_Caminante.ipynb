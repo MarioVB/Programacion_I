{
 "cells": [
  {
   "cell_type": "markdown",
   "metadata": {},
   "source": [
    "# Más métodos Monte Carlo\n",
    "Se le llama método Monte Carlo a todo aquel algoritmo computacional que usa números aleatorios como herramienta principal para resolver problemas. Hoy vamos a resolver el siguiente problema usando números aleatorios.\n",
    "\n",
    "\n",
    "## Problema del cumpleaños\n",
    "\n",
    "> Si tenemos un grupo de 23 personas. ¿Cuál es la probabilidad de que al menos dos personas del grupo cumplan años el mismo día?\n",
    "\n",
    "Para resolver este problema usaremos el poder de la computadora. Esto se logrará de la siguiente manera: \n",
    "\n",
    "1. Generaremos una lista aleatoria con 23 fechas de cumpleaños\n",
    "\n",
    "2. Escribiremos un código capaz de decirnos si se repite alguna fecha\n",
    "\n",
    "3. Crearemos una función que repita este proceso un número arbitrario de veces y nos diga cuántas veces se repitió al menos un cumpleaños\n",
    "\n",
    "4. Ahora ya podemos calcular la probabilidad ¿Cómo le hacemos?"
   ]
  },
  {
   "cell_type": "code",
   "execution_count": null,
   "metadata": {},
   "outputs": [],
   "source": []
  },
  {
   "cell_type": "markdown",
   "metadata": {},
   "source": [
    "## Caminantes aleatorios\n",
    "\n",
    "Una caminata aleatoria es un objeto matemático que describe la trayectoria de una partícula que cambia de dirección de manera aletoria a cada paso. El ejemplo más sencillo es el movimiento en una dimensión con una longitud de paso constante; pensemos que se mueve en la línea recta y se mueve una unidad a la derecha o a la izquierda (+1 o -1) en cada paso. Otro ejemplo incluye el camino trazado por una partícula muy pequeña inmersa en un líquido o gas (**Movimiento Browniano**), el camino de búsqueda de forraje por un animal, la fluctuación del valor de las acctions y el estado financiero de un apostador se pueden modelar usando caminantes aleatorios; incluso si realmente no son completamente aleatorios. \n",
    "\n",
    "Aplicación en muchas ramas de la ciencia: ecología, psicología, ciencias de la computación, física, química, biología y economía.\n",
    "\n",
    "### Modelando\n",
    "Para modelar un sistema físico debemos hacer ciertos simplificaciones, \n",
    "\n",
    "* Modelaremos la interacción del fluido con la partícula mediante impactos aleatorios sobre la partícula,\n",
    "* Suponemos que, debido a los impactos, la partícula se mueve en brincos,\n",
    "* Los impactos se dan en tiempos regulares, la distancia temporal entre impactos consecutivos es constante,\n",
    "* Supondremos que los brincos son de distancia constante y se mueve en una cuadrícula.\n",
    "\n",
    "### Caminata aleatoria en 1D\n",
    "\n",
    "La posición de la partícula se representa con $\\{x | x \\in \\mathbb{Z}\\}$; se mueve sobre la recta numérica. Por simplicidad vamos a suponer que en $t=0$ la partícula está en el origen $x=0$.\n",
    "\n",
    "**¿Cómo generamos pasos aleatorios a la derecha o a la izquierda con igual probabilidad?**\n",
    "\n"
   ]
  },
  {
   "cell_type": "code",
   "execution_count": null,
   "metadata": {},
   "outputs": [],
   "source": []
  },
  {
   "cell_type": "markdown",
   "metadata": {},
   "source": [
    "Ahora podremos hacer nuestra primera caminata. \n",
    "\n",
    "**Vamos a escribir una función que tome un argumento, t, y mueva la partícula t pasos consecutivos**\n",
    "\n",
    "1. Cree una función llamada `pasos(t)` que imprima a pantalla las posiciones del caminante."
   ]
  },
  {
   "cell_type": "code",
   "execution_count": null,
   "metadata": {},
   "outputs": [],
   "source": []
  },
  {
   "cell_type": "markdown",
   "metadata": {},
   "source": [
    "2. Modifique la función para que guarde las posiciones en un vector y lo regrese como resultado."
   ]
  },
  {
   "cell_type": "code",
   "execution_count": null,
   "metadata": {},
   "outputs": [],
   "source": []
  },
  {
   "cell_type": "markdown",
   "metadata": {},
   "source": [
    "### Visualización\n",
    "\n",
    "Ahora vamos a hacer dibujos.\n",
    "\n",
    "1. Crea una arreglo llamado  `caminante` con 20 pasos."
   ]
  },
  {
   "cell_type": "code",
   "execution_count": null,
   "metadata": {},
   "outputs": [],
   "source": []
  },
  {
   "cell_type": "markdown",
   "metadata": {},
   "source": [
    "2. Usa `plot()` o `scatter()` para dibujar la trayectoria del caminante"
   ]
  },
  {
   "cell_type": "code",
   "execution_count": null,
   "metadata": {},
   "outputs": [],
   "source": []
  },
  {
   "cell_type": "markdown",
   "metadata": {},
   "source": [
    "3. Crea 5 caminantes más y dibuja sus trayectorias en una sola gráfica."
   ]
  },
  {
   "cell_type": "code",
   "execution_count": null,
   "metadata": {},
   "outputs": [],
   "source": []
  },
  {
   "cell_type": "markdown",
   "metadata": {},
   "source": [
    "### Nube de Caminantes\n",
    "\n",
    "1. Usa un `for` para crear 100 caminantes con 100 pasos y dibújalos en la misma gráfica. \n",
    "\n",
    "*Tip: Guarda una gráfica vacía sin leyenda (`leg=false`) en una variable, `p`, y agrega las gráficas usando `plot!()`. Al final debes mostrar la gráfica con el comando `display(p)`*"
   ]
  },
  {
   "cell_type": "code",
   "execution_count": null,
   "metadata": {},
   "outputs": [],
   "source": []
  },
  {
   "cell_type": "markdown",
   "metadata": {},
   "source": [
    "2. ¿Qué observas? ¿Cómo crece la nube en función de los pasos? "
   ]
  },
  {
   "cell_type": "code",
   "execution_count": null,
   "metadata": {},
   "outputs": [],
   "source": []
  },
  {
   "cell_type": "markdown",
   "metadata": {},
   "source": [
    "3. ¿Cuántos caminantes coninciden en el mismo punto al mismo tiempo?"
   ]
  },
  {
   "cell_type": "code",
   "execution_count": null,
   "metadata": {},
   "outputs": [],
   "source": []
  },
  {
   "cell_type": "markdown",
   "metadata": {},
   "source": [
    "### Guardar los datos\n",
    "\n",
    "1 Guarda los datos que se generaron con\n",
    "```julia\n",
    "using DelimitedFiles  # paquete para escribir y leer datos\n",
    "writedlm(\"archivo.dat\", v)\n",
    "```\n",
    "donde el primer argumento es el nombre del archivo que se escribirá, y `v` es la variable a guardar."
   ]
  },
  {
   "cell_type": "code",
   "execution_count": 1,
   "metadata": {},
   "outputs": [],
   "source": [
    "using DelimitedFiles\n"
   ]
  },
  {
   "cell_type": "code",
   "execution_count": 7,
   "metadata": {},
   "outputs": [],
   "source": [
    "v=rand(20)\n",
    "b= rand(20)\n",
    "writedlm(\"prueba2.dat\",[v b])"
   ]
  },
  {
   "cell_type": "code",
   "execution_count": 3,
   "metadata": {},
   "outputs": [
    {
     "name": "stdout",
     "output_type": "stream",
     "text": [
      "13_may_MonteCarlo_pi.ipynb\n",
      "15_May_MonteCarlo_Cumple_Caminante.ipynb\n",
      "1_Abril_Ejercicios.ipynb\n",
      "27_Mar_Iteraciones.ipynb\n",
      "29_Abril_LeyendoDatos_HuellaEco.ipynb\n",
      "6_May_Graficas_3D.ipynb\n",
      "8-10-25_Abr_GraficasyDatos.ipynb\n",
      "8_Abr_GraficasyDatos.ipynb\n",
      "circulos.jpg.png\n",
      "Control_de_flujo.ipynb\n",
      "Funciones.md\n",
      "Jupyter_notebooks.ipynb\n",
      "Mexico_gha_per_person.csv\n",
      "Mexico_numeros_tierras.csv\n",
      "prueba.dat\n",
      "Usando_la_REPL.md\n",
      "Variables.md\n"
     ]
    }
   ],
   "source": [
    ";ls"
   ]
  },
  {
   "cell_type": "code",
   "execution_count": 8,
   "metadata": {},
   "outputs": [
    {
     "name": "stdout",
     "output_type": "stream",
     "text": [
      "0.5462383059891918\t0.6432875715743285\n",
      "0.6755854572269673\t0.07073530929564331\n",
      "0.9043583457278734\t0.7071480080783228\n",
      "0.3834041476711998\t0.15630867338502163\n",
      "0.3813243523979033\t0.0908223475689025\n",
      "0.34305882413767663\t0.30504595889512376\n",
      "0.9962654275169867\t0.5643744782103659\n",
      "0.263754726972518\t0.2589419736800238\n",
      "0.33276004875797494\t0.5266168623456804\n",
      "0.4507583783871414\t0.6542959556227339\n",
      "0.9363251171510318\t0.7890419796755004\n",
      "0.3705024881527619\t0.43100790749178053\n",
      "0.8391612970132352\t0.2942407471516655\n",
      "0.32290673808298\t0.4769457945913833\n",
      "0.05545847202258991\t0.13688730441192654\n",
      "0.18368157342035896\t0.38601965032663244\n",
      "0.4161111478878652\t0.239907583560937\n",
      "0.1280117544068411\t0.6529473279977527\n",
      "0.2568132968230237\t0.7330871499405767\n",
      "0.942869469581179\t0.942365600747741\n"
     ]
    }
   ],
   "source": [
    ";cat prueba.dat"
   ]
  },
  {
   "cell_type": "code",
   "execution_count": 17,
   "metadata": {},
   "outputs": [
    {
     "data": {
      "text/plain": [
       "20×2 Array{Float64,2}:\n",
       " 0.337553  0.781462 \n",
       " 0.175234  0.322167 \n",
       " 0.329415  0.638491 \n",
       " 0.596347  0.421733 \n",
       " 0.57114   0.787567 \n",
       " 0.597402  0.248778 \n",
       " 0.851759  0.980984 \n",
       " 0.109154  0.0677692\n",
       " 0.333515  0.497146 \n",
       " 0.817964  0.717804 \n",
       " 0.195649  0.188016 \n",
       " 0.217308  0.659262 \n",
       " 0.663638  0.312656 \n",
       " 0.111544  0.384446 \n",
       " 0.597544  0.983929 \n",
       " 0.328689  0.248945 \n",
       " 0.803144  0.584554 \n",
       " 0.289888  0.0905905\n",
       " 0.862908  0.550854 \n",
       " 0.512215  0.0935989"
      ]
     },
     "execution_count": 17,
     "metadata": {},
     "output_type": "execute_result"
    }
   ],
   "source": [
    "m = readdlm(\"prueba.dat\")"
   ]
  },
  {
   "cell_type": "code",
   "execution_count": 10,
   "metadata": {},
   "outputs": [
    {
     "name": "stdout",
     "output_type": "stream",
     "text": [
      "search: \u001b[0m\u001b[1mw\u001b[22m\u001b[0m\u001b[1mr\u001b[22m\u001b[0m\u001b[1mi\u001b[22m\u001b[0m\u001b[1mt\u001b[22m\u001b[0m\u001b[1me\u001b[22m\u001b[0m\u001b[1md\u001b[22m\u001b[0m\u001b[1ml\u001b[22m\u001b[0m\u001b[1mm\u001b[22m\n",
      "\n"
     ]
    },
    {
     "data": {
      "text/latex": [
       "\\begin{verbatim}\n",
       "writedlm(f, A, delim='\\t'; opts)\n",
       "\\end{verbatim}\n",
       "Write \\texttt{A} (a vector, matrix, or an iterable collection of iterable rows) as text to \\texttt{f} (either a filename string or an \\texttt{IO} stream) using the given delimiter \\texttt{delim} (which defaults to tab, but can be any printable Julia object, typically a \\texttt{Char} or \\texttt{AbstractString}).\n",
       "\n",
       "For example, two vectors \\texttt{x} and \\texttt{y} of the same length can be written as two columns of tab-delimited text to \\texttt{f} by either \\texttt{writedlm(f, [x y])} or by \\texttt{writedlm(f, zip(x, y))}.\n",
       "\n",
       "\\section{Examples}\n",
       "\\begin{verbatim}\n",
       "julia> using DelimitedFiles\n",
       "\n",
       "julia> x = [1; 2; 3; 4];\n",
       "\n",
       "julia> y = [5; 6; 7; 8];\n",
       "\n",
       "julia> open(\"delim_file.txt\", \"w\") do io\n",
       "           writedlm(io, [x y])\n",
       "       end\n",
       "\n",
       "julia> readdlm(\"delim_file.txt\", '\\t', Int, '\\n')\n",
       "4×2 Array{Int64,2}:\n",
       " 1  5\n",
       " 2  6\n",
       " 3  7\n",
       " 4  8\n",
       "\n",
       "julia> rm(\"delim_file.txt\")\n",
       "\\end{verbatim}\n"
      ],
      "text/markdown": [
       "```\n",
       "writedlm(f, A, delim='\\t'; opts)\n",
       "```\n",
       "\n",
       "Write `A` (a vector, matrix, or an iterable collection of iterable rows) as text to `f` (either a filename string or an `IO` stream) using the given delimiter `delim` (which defaults to tab, but can be any printable Julia object, typically a `Char` or `AbstractString`).\n",
       "\n",
       "For example, two vectors `x` and `y` of the same length can be written as two columns of tab-delimited text to `f` by either `writedlm(f, [x y])` or by `writedlm(f, zip(x, y))`.\n",
       "\n",
       "# Examples\n",
       "\n",
       "```jldoctest\n",
       "julia> using DelimitedFiles\n",
       "\n",
       "julia> x = [1; 2; 3; 4];\n",
       "\n",
       "julia> y = [5; 6; 7; 8];\n",
       "\n",
       "julia> open(\"delim_file.txt\", \"w\") do io\n",
       "           writedlm(io, [x y])\n",
       "       end\n",
       "\n",
       "julia> readdlm(\"delim_file.txt\", '\\t', Int, '\\n')\n",
       "4×2 Array{Int64,2}:\n",
       " 1  5\n",
       " 2  6\n",
       " 3  7\n",
       " 4  8\n",
       "\n",
       "julia> rm(\"delim_file.txt\")\n",
       "```\n"
      ],
      "text/plain": [
       "\u001b[36m  writedlm(f, A, delim='\\t'; opts)\u001b[39m\n",
       "\n",
       "  Write \u001b[36mA\u001b[39m (a vector, matrix, or an iterable collection of iterable rows) as\n",
       "  text to \u001b[36mf\u001b[39m (either a filename string or an \u001b[36mIO\u001b[39m stream) using the given\n",
       "  delimiter \u001b[36mdelim\u001b[39m (which defaults to tab, but can be any printable Julia\n",
       "  object, typically a \u001b[36mChar\u001b[39m or \u001b[36mAbstractString\u001b[39m).\n",
       "\n",
       "  For example, two vectors \u001b[36mx\u001b[39m and \u001b[36my\u001b[39m of the same length can be written as two\n",
       "  columns of tab-delimited text to \u001b[36mf\u001b[39m by either \u001b[36mwritedlm(f, [x y])\u001b[39m or by\n",
       "  \u001b[36mwritedlm(f, zip(x, y))\u001b[39m.\n",
       "\n",
       "\u001b[1m  Examples\u001b[22m\n",
       "\u001b[1m  ≡≡≡≡≡≡≡≡≡≡\u001b[22m\n",
       "\n",
       "\u001b[36m  julia> using DelimitedFiles\u001b[39m\n",
       "\u001b[36m  \u001b[39m\n",
       "\u001b[36m  julia> x = [1; 2; 3; 4];\u001b[39m\n",
       "\u001b[36m  \u001b[39m\n",
       "\u001b[36m  julia> y = [5; 6; 7; 8];\u001b[39m\n",
       "\u001b[36m  \u001b[39m\n",
       "\u001b[36m  julia> open(\"delim_file.txt\", \"w\") do io\u001b[39m\n",
       "\u001b[36m             writedlm(io, [x y])\u001b[39m\n",
       "\u001b[36m         end\u001b[39m\n",
       "\u001b[36m  \u001b[39m\n",
       "\u001b[36m  julia> readdlm(\"delim_file.txt\", '\\t', Int, '\\n')\u001b[39m\n",
       "\u001b[36m  4×2 Array{Int64,2}:\u001b[39m\n",
       "\u001b[36m   1  5\u001b[39m\n",
       "\u001b[36m   2  6\u001b[39m\n",
       "\u001b[36m   3  7\u001b[39m\n",
       "\u001b[36m   4  8\u001b[39m\n",
       "\u001b[36m  \u001b[39m\n",
       "\u001b[36m  julia> rm(\"delim_file.txt\")\u001b[39m"
      ]
     },
     "execution_count": 10,
     "metadata": {},
     "output_type": "execute_result"
    }
   ],
   "source": [
    "?writedlm"
   ]
  },
  {
   "cell_type": "code",
   "execution_count": 16,
   "metadata": {},
   "outputs": [],
   "source": [
    "open(\"prueba.dat\",\"w\") do io\n",
    "    writedlm(io,[b v])\n",
    "end"
   ]
  },
  {
   "cell_type": "code",
   "execution_count": 15,
   "metadata": {},
   "outputs": [
    {
     "data": {
      "text/plain": [
       "20-element Array{Float64,1}:\n",
       " 0.781461822378293  \n",
       " 0.32216657116231406\n",
       " 0.6384907490366114 \n",
       " 0.42173327602011823\n",
       " 0.7875674031385929 \n",
       " 0.2487781287401738 \n",
       " 0.9809839993248408 \n",
       " 0.06776915362888669\n",
       " 0.49714574153831514\n",
       " 0.7178040359321627 \n",
       " 0.18801580011066354\n",
       " 0.659261704914544  \n",
       " 0.31265640768282355\n",
       " 0.3844457150061831 \n",
       " 0.9839293926813109 \n",
       " 0.24894471276171548\n",
       " 0.5845542126029835 \n",
       " 0.09059050035338645\n",
       " 0.5508536098003185 \n",
       " 0.09359894960220205"
      ]
     },
     "execution_count": 15,
     "metadata": {},
     "output_type": "execute_result"
    }
   ],
   "source": []
  },
  {
   "cell_type": "code",
   "execution_count": null,
   "metadata": {},
   "outputs": [],
   "source": []
  }
 ],
 "metadata": {
  "kernelspec": {
   "display_name": "Julia 1.0.2",
   "language": "julia",
   "name": "julia-1.0"
  },
  "language_info": {
   "file_extension": ".jl",
   "mimetype": "application/julia",
   "name": "julia",
   "version": "1.0.2"
  }
 },
 "nbformat": 4,
 "nbformat_minor": 2
}
