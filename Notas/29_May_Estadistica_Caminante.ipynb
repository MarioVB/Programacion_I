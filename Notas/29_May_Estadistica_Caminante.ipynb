{
 "cells": [
  {
   "cell_type": "markdown",
   "metadata": {},
   "source": [
    "# Análisis estadístico de caminatas aleatorias\n",
    "\n",
    "Una tarea fundamental en la física es el análisis de datos. A menudo, un experimento produce una cierta cantidad de datos correspondientes a la medición de ciertas cantidades. Se repite una medición varias veces para asegurar que sea reproducible, y luego se llevan a cabo análisis de estos datos.\n",
    "\n",
    "Podemos llevar a cabo el mismo proceso con los datos provenientes de un **experimento numérico**, o sea, una simulación.\n",
    "\n",
    "Retomemos nuestra simulación de caminatas aleatorias del notebook anterior y recordemos algo de estadística para poder caracterizar a las caminatas (y para finalmente entender la estadística...).\n",
    "\n",
    "### Ejercicio\n",
    "\n",
    "(i) Escribe una función caminatas para simular la dinámica de $N$ caminatas aleatorias para un tiempo total $T$. Sigue los pasos siguientes.\n",
    "\n",
    "1. Crea un vector llamado xs de enteros ceros de longitud $N$ con la función zeros. [Pista: Utiliza ?zeros para ver la documentación de la función.]\n",
    "2. Haz una función paso! que acepte sólo el argumento xs y lleva a cabo un paso de todos los caminantes. [Pista: La función length nos dice cuántos elementos contiene un Vector.]\n",
    "3. Haz la función caminatas. Guarda el vector de xs en cada paso en un vector nuevo posiciones. Tendrás que utilizar la función copy para copiar xs. (¿Qué ocurre si no lo haces?) La función regresa todos los datos."
   ]
  },
  {
   "cell_type": "code",
   "execution_count": null,
   "metadata": {},
   "outputs": [],
   "source": []
  },
  {
   "cell_type": "markdown",
   "metadata": {},
   "source": [
    "(ii) Simula 1000 caminantes para un tiempo 100 y capta los datos en una variable."
   ]
  },
  {
   "cell_type": "code",
   "execution_count": null,
   "metadata": {},
   "outputs": [],
   "source": []
  },
  {
   "cell_type": "markdown",
   "metadata": {},
   "source": [
    "## Promedios\n",
    "\n",
    "Si queremos hacer estadística lo primero que tenemos que hacer es calcular promedios.\n",
    "\n",
    "### Ejercicios\n",
    "    \n",
    "(i) Si simulas $N$ caminatas aleatorias $x_i(t)$, con $i=1, \\ldots, N$, para un tiempo total (número de pasos) $T$, ¿cómo esperas salga el promedio de todos los $x_i(t)$ con un tiempo $t$ fijo?\n",
    "\n",
    "1. Escribe una función `promedio_vector` que calcule el promedio de un vector. Acepta el vector `v` como argumento y regresa el promedio.\n",
    "\n",
    "2. Escribe una función promedios que calcula los promedios de $x_i(t)$ para cada $t$.\n",
    "\n",
    "3. Calcula los promedios de 1000 caminantes por un tiempo 100.\n",
    "\n",
    "4. Dibuja el promedio como función del tiempo. ¿Es lo que esperabas?"
   ]
  },
  {
   "cell_type": "code",
   "execution_count": null,
   "metadata": {},
   "outputs": [],
   "source": []
  },
  {
   "cell_type": "markdown",
   "metadata": {},
   "source": [
    "## Varianza\n",
    "\n",
    "Según [Wikipedia](https://es.wikipedia.org/wiki/Varianza) la varianza se define como \n",
    "$$\\sigma_n^2 = \\frac{1}{n} \\sum_{i=1}^n (x_i-\\bar{ X})^2,$$\n",
    "donde $\\bar X$ es el promedio de los $n$ datos $x_i$.\n",
    "\n",
    "### Ejercicio\n",
    "\n",
    "(i) Escribe una función que calcule la varianza de un vector\n",
    "\n",
    "(ii) Escribe una función que calcule las varianzas de las $x_i(t)$ para una $t$ dada.\n",
    "\n",
    "(iii) Dibuja la varianza como función del tiempo. Repite el cálculo varias veces y dibuja las distintas curvas en una sola gráfica. ¿Qué observas? ¿Cómo crece la varianza?\n"
   ]
  },
  {
   "cell_type": "code",
   "execution_count": null,
   "metadata": {},
   "outputs": [],
   "source": []
  },
  {
   "cell_type": "markdown",
   "metadata": {},
   "source": [
    "## Densidad de Probabilidad\n",
    "\n",
    "\n",
    "El promedio y la varianza son medidas burdas que caracterizan a una colección de datos. Una medida más refinada es la **distribución de probabilidad**. Una forma de caracterizarla es a través de un **histograma**, que nos proporciona la densidad de probabilidad o densidad de masa.\n",
    "\n",
    "(i) ¿Qué es lo que mide un histograma?\n",
    "\n",
    "(ii) Haga un histogramas de las posiciones de los caminantes $x_i(t)$ para una $t$ arbitraria\n"
   ]
  },
  {
   "cell_type": "code",
   "execution_count": null,
   "metadata": {},
   "outputs": [],
   "source": []
  },
  {
   "cell_type": "markdown",
   "metadata": {},
   "source": [
    "Los valores de las cajas están medios raros. Vamos a componerlos"
   ]
  },
  {
   "cell_type": "code",
   "execution_count": null,
   "metadata": {},
   "outputs": [],
   "source": []
  }
 ],
 "metadata": {
  "kernelspec": {
   "display_name": "Julia 1.0.2",
   "language": "julia",
   "name": "julia-1.0"
  },
  "language_info": {
   "file_extension": ".jl",
   "mimetype": "application/julia",
   "name": "julia",
   "version": "1.0.2"
  }
 },
 "nbformat": 4,
 "nbformat_minor": 2
}
