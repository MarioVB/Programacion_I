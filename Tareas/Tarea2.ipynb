{
 "cells": [
  {
   "cell_type": "markdown",
   "metadata": {},
   "source": [
    "# Tarea 2\n",
    "\n",
    "## Instrucciones:\n",
    "1. Modifique el nombre del documento para agregar tu nombre y apellido\n",
    "2. Una vez elaborados los ejercicios enviar vía correo electrónico `mario.villasante@ciencias.unam.mx`\n",
    "3. La fecha **límite** de entrega será el día **viernes 31 de mayo**.\n",
    "\n",
    "Tómese la libertad de agregar celdas de código y texto como usted crea conveniente. Explique y comente el código. Para mayor información sobre la entrega de tareas favor de consultar [este](https://github.com/mvillasante/Programacion_I/blob/master/Formato_Tareas.md) link."
   ]
  },
  {
   "cell_type": "markdown",
   "metadata": {},
   "source": [
    "# Métodos Monte Carlo\n",
    "\n",
    "## 1. Integrales con puntos"
   ]
  },
  {
   "cell_type": "markdown",
   "metadata": {},
   "source": [
    "Considera la función complicada (patológica) $$f(x) = \\sin^2 (\\textstyle \\frac{1}{x}).$$\n",
    "\n",
    "1. Dibuja la función para $x$ entre $-2$ y $2$.\n"
   ]
  },
  {
   "cell_type": "code",
   "execution_count": null,
   "metadata": {},
   "outputs": [],
   "source": []
  },
  {
   "cell_type": "markdown",
   "metadata": {},
   "source": [
    "Sea \n",
    "$$ I(x) := \\int_0^x f(x') dx'.$$ \n",
    "\n",
    "Sabemos que $0 < I(x) < x$ para toda $x$ (¿por qué?), pero no está fácil calcular su valor, ni siquiera con los métodos numéricos estándares, debido a la naturaleza complicada de la función cerca de $x = 0$.\n",
    "\n",
    "2. Utiliza un método parecido al que usamos antes para calcular $\\pi$ usando puntos aleatorios $I(x)$ para un valor de $x$ dado.\n",
    "\n",
    "\n"
   ]
  },
  {
   "cell_type": "code",
   "execution_count": null,
   "metadata": {},
   "outputs": [],
   "source": []
  },
  {
   "cell_type": "markdown",
   "metadata": {},
   "source": [
    "3. Dibuja la función $I(x)$."
   ]
  },
  {
   "cell_type": "code",
   "execution_count": null,
   "metadata": {},
   "outputs": [],
   "source": []
  },
  {
   "cell_type": "markdown",
   "metadata": {},
   "source": [
    "## 2. Paradoja del cumpleaños\n",
    "\n",
    "Si tenemos un grupo de `N` personas. ¿Cuál es la probabilidad de que dos personas cumplan años el mismo día?  \n",
    "Para responder a esta pregunta en general, dividamos este problema en partes\n",
    "\n",
    "1. Sin usar la computadora. ¿Para que valor de `N` la probabilidad es 100%?"
   ]
  },
  {
   "cell_type": "code",
   "execution_count": null,
   "metadata": {},
   "outputs": [],
   "source": []
  },
  {
   "cell_type": "markdown",
   "metadata": {},
   "source": [
    "2. Escriba un código donde se demuestre que para $N=30$ la probabilidad es 70%"
   ]
  },
  {
   "cell_type": "code",
   "execution_count": null,
   "metadata": {},
   "outputs": [],
   "source": []
  },
  {
   "cell_type": "markdown",
   "metadata": {},
   "source": [
    "3. Dibuje una gráfica en la que se grafique la probabilidad como función de el número de personas (`N`). Esta gráfica contesta la pregunta principal"
   ]
  },
  {
   "cell_type": "code",
   "execution_count": null,
   "metadata": {},
   "outputs": [],
   "source": []
  },
  {
   "cell_type": "markdown",
   "metadata": {},
   "source": [
    "# Cadenas y arreglos\n",
    "\n",
    "## 3. Modificando arreglos\n",
    "Escribe una función que acepte como argumento un arreglo y regrese otro arreglo con los elementos del primero pero ordenados al revés."
   ]
  },
  {
   "cell_type": "code",
   "execution_count": null,
   "metadata": {},
   "outputs": [],
   "source": []
  },
  {
   "cell_type": "markdown",
   "metadata": {},
   "source": [
    "## 4. Palíndromo\n",
    "Escribe una función que acepte una cadena y nos diga si es un palíndromo o no."
   ]
  },
  {
   "cell_type": "code",
   "execution_count": null,
   "metadata": {},
   "outputs": [],
   "source": []
  },
  {
   "cell_type": "markdown",
   "metadata": {},
   "source": [
    "## 5. Ordenando\n",
    "Escribe una función que tome un arreglo con números como argumento y regrese `true` si el arreglo está ordenado de menor a mayor y `false` si no lo está."
   ]
  },
  {
   "cell_type": "code",
   "execution_count": null,
   "metadata": {},
   "outputs": [],
   "source": []
  },
  {
   "cell_type": "markdown",
   "metadata": {},
   "source": [
    "## 6. Contando letras\n",
    "1. Escribe una función que lea una cadena y regrese el valor `true` si la palabra no contiene la letra `e`."
   ]
  },
  {
   "cell_type": "code",
   "execution_count": null,
   "metadata": {},
   "outputs": [],
   "source": []
  },
  {
   "cell_type": "markdown",
   "metadata": {},
   "source": [
    "2. Modifique la función anterior de tal manera que acepte como argumento una cadena y una letra cualquiera y cuente el número de apariciones de la letra dentro de la cadena.\n",
    "\n"
   ]
  },
  {
   "cell_type": "code",
   "execution_count": null,
   "metadata": {},
   "outputs": [],
   "source": []
  }
 ],
 "metadata": {
  "kernelspec": {
   "display_name": "Julia 1.0.2",
   "language": "julia",
   "name": "julia-1.0"
  },
  "language_info": {
   "file_extension": ".jl",
   "mimetype": "application/julia",
   "name": "julia",
   "version": "1.0.2"
  }
 },
 "nbformat": 4,
 "nbformat_minor": 2
}
